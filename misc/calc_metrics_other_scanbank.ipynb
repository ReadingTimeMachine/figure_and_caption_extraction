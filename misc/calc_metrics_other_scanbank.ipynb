{
 "cells": [
  {
   "cell_type": "markdown",
   "id": "8814cf11",
   "metadata": {
    "tags": []
   },
   "source": [
    "## Explore and Calculate Metrics for ScanBank\n",
    "\n",
    "Calculate metrics for ScanBank-processed files.\n",
    "\n",
    "Because our definitions of figure/figure caption differ, don't apply post processing (probably)."
   ]
  },
  {
   "cell_type": "code",
   "execution_count": 55,
   "id": "dbe9dc88-f9f9-475d-83ee-2f884d51fa7d",
   "metadata": {},
   "outputs": [],
   "source": [
    "from sys import path\n",
    "path.append('../')\n",
    "import config\n",
    "\n",
    "# set a seed for CV comparision?  Set to None for random\n",
    "seed = 5\n",
    "n_folds_cv = 5"
   ]
  },
  {
   "cell_type": "code",
   "execution_count": 56,
   "id": "64eb5562",
   "metadata": {},
   "outputs": [],
   "source": [
    "# do we want to save our results to .dat files for use in other areas (like tables in latex)\n",
    "save_dats = True\n",
    "# which iou's to save?\n",
    "ioustar = [0.9] # fig, caption\n",
    "#ioustar = [0.8] # fig, caption\n",
    "scorestar = 0.1\n",
    "use_cv = False # only applies to saving of .dat files\n",
    "\n",
    "\n",
    "# # SCAN BANK -- test how well scanbank does on our images (the final test dataset)\n",
    "# annotation_files = '/Users/jillnaiman/MegaYolo_test/yolo_512x512_ann/' \n",
    "# feature_dir = '/Users/jillnaiman/MegaYolo_test/binaries_model12_finaltest/'\n",
    "# ###### pickle_file_loc = '/Users/jillnaiman/Dropbox/wwt_image_extraction/FigureLocalization/MetricsResults/'\n",
    "# yolopicklename = 'binaries_model12_finaltest.pickle'\n",
    "# images_jpeg_dir = '/Users/jillnaiman/Dropbox/wwt_image_extraction/FigureLocalization/Pages/RandomSingleFromPDFIndexed/' # default\n",
    "# check_json_dir = None\n",
    "# pdf_dir = ''\n",
    "# adder_dats = 'scanbank_on_ours' # what to call output file?\n",
    "\n",
    "\n",
    "# SCAN BANK -- test how well scanbank does on *its own set of images from ETDs*\n",
    "annotation_files = '/Users/jillnaiman/MegaYolo_scanbank/yolo_512x512_ann/' \n",
    "feature_dir = '/Users/jillnaiman/MegaYolo_scanbank/binaries_model12_scanbank/' # not really used I think?\n",
    "#######pickle_file_loc = '/Users/jillnaiman/Dropbox/wwt_image_extraction/FigureLocalization/MetricsResults/'\n",
    "yolopicklename = 'binaries_model12_scanbank.pickle' # also not sure if this is used?\n",
    "images_jpeg_dir = '/Users/jillnaiman/Dropbox/wwt_image_extraction/FigureLocalization/BenchMarks/Pages_scanbank/RandomSingleFromPDFIndexed/'\n",
    "check_json_dir = '/Users/jillnaiman/deepfigures-results/17' # check for empty json files? set to None to skip\n",
    "pdf_dir = '/Users/jillnaiman/Dropbox/wwt_image_extraction/FigureLocalization/BenchMarks/data/scanbank/etds/'\n",
    "adder_dats = 'scanbank_on_scanbank' # what to call output file?\n",
    "\n",
    "# ------------------------\n",
    "\n",
    "# # which metric file?\n",
    "# #binary_dirs = 'binaries_model12_tfrecordz_pmcnoncom/'\n",
    "# binary_dirs = 'binaries_model12_finaltest/' # final, final test\n",
    "\n",
    "# use_valid = False\n",
    "\n",
    "\n",
    "\n",
    "\n",
    "\n",
    "# # pp2 = '/Users/jillnaiman/Dropbox/wwt_image_extraction/FigureLocalization/MetricsResults/binaries_model12_finaltest.pickle'\n",
    "# # images_jpeg_dir = None\n",
    "# # adder_here = ''\n",
    "\n",
    "# # test how well detectron2 does on our images\n",
    "# pp2 = '/Users/jillnaiman/Dropbox/wwt_image_extraction/FigureLocalization/MetricsResults/binaries_model12_finaltest_fbdetect.pickle'\n",
    "# images_jpeg_dir = None\n",
    "# adder_here = 'fbdetect'\n",
    "# ocr_results_dir = None\n",
    "# save_binary_dir = '/Users/jillnaiman/MegaYolo_test/'\n",
    "# full_article_pdfs_dir = None\n",
    "# make_sense_dir = '/Users/jillnaiman/Dropbox/wwt_image_extraction/FigureLocalization/Annotations/MakeSenseAnnotations_test/'\n",
    "# ###binary_dirs = 'binaries_model12_finaltest/'# for final test set\n",
    "\n",
    "\n",
    "\n",
    "# # pp2 = '/Users/jillnaiman/Dropbox/wwt_image_extraction/FigureLocalization/MetricsResults/binaries_model12_tfrecordz_pmcnoncom_fbdetect.pickle'\n",
    "# # images_jpeg_dir = '/Users/jillnaiman/Dropbox/wwt_image_extraction/FigureLocalization/BenchMarks/Pages_pmcnoncom/RandomSingleFromPDFIndexed/'\n",
    "# # adder_here = 'pmcnon'\n",
    "\n",
    "\n",
    "\n",
    "\n",
    "# #adder_dats = 'fbdetect_noncom2'\n",
    "\n"
   ]
  },
  {
   "cell_type": "code",
   "execution_count": 57,
   "id": "e0d3961d-ef90-4b2b-887f-c3acd7d91147",
   "metadata": {},
   "outputs": [],
   "source": [
    "deepfiguresDir = '/Users/jillnaiman/deepfigures-results/' # where results are found from ScanBank\n",
    "\n",
    "sbann_dir = '/Users/jillnaiman/Dropbox/wwt_image_extraction/FigureLocalization/BenchMarks/data/scanbank/annotations.json' # scanbank annotation's file"
   ]
  },
  {
   "cell_type": "code",
   "execution_count": 58,
   "id": "d4f06b24-6ef7-442f-a25f-8e8b2c1354b4",
   "metadata": {},
   "outputs": [
    {
     "name": "stdout",
     "output_type": "stream",
     "text": [
      "there are: 16 missing files\n"
     ]
    }
   ],
   "source": [
    "from glob import glob\n",
    "if check_json_dir is not None:\n",
    "    missingFiles = []\n",
    "    jfiles = glob(check_json_dir + '*')\n",
    "    for jf in jfiles:\n",
    "        fs = glob(jf+'/*')\n",
    "        fs = glob(fs[0]+'/*')\n",
    "        hasJson = False\n",
    "        for f in fs:\n",
    "            if 'results.json' in f:\n",
    "                hasJson = True\n",
    "        if not hasJson:\n",
    "            missingFiles.append(jf)\n",
    "    # write missing to file\n",
    "    if len(missingFiles) > 0:\n",
    "        with open(pdf_dir+'testList_missing.csv','w') as fi:\n",
    "            for m in missingFiles:\n",
    "                print('/'+m.split('/')[-1]+'_p',file=fi) # weird formatting\n",
    "    print('there are:', len(missingFiles), 'missing files')"
   ]
  },
  {
   "cell_type": "code",
   "execution_count": 59,
   "id": "9cfc2821-32c0-4edb-a10d-e0dc0fee65ce",
   "metadata": {},
   "outputs": [],
   "source": [
    "import pickle\n",
    "from sys import path\n",
    "path.append('../')\n",
    "##import config\n",
    "import numpy as np\n",
    "import matplotlib.pyplot as plt\n",
    "import matplotlib\n",
    "import pandas as pd\n",
    "from PIL import Image\n",
    "import cv2 as cv\n",
    "import os\n",
    "import json\n",
    "from metric_utils import calc_base_metrics_allboxes_cv, calc_prec_rec_f1_cv, print_metrics_table, \\\n",
    "  get_years_dataframe\n",
    "from general_utils import parse_annotation"
   ]
  },
  {
   "cell_type": "code",
   "execution_count": 60,
   "id": "1f65b12f-d852-4ee0-b858-d2ddfefdc674",
   "metadata": {},
   "outputs": [],
   "source": [
    "if images_jpeg_dir is None: images_jpeg_dir = config.images_jpeg_dir"
   ]
  },
  {
   "cell_type": "code",
   "execution_count": 61,
   "id": "3e3e1c93-d0f9-45c3-8bb2-d46ebf147ea1",
   "metadata": {},
   "outputs": [],
   "source": [
    "scoreminVec = [0.1, 0.5, 0.9] # list of minimum box \"scores\"\n",
    "iouminVec = [0.1, 0.5, 0.6, 0.7, 0.75, 0.8, 0.9, 0.95] # list of IOU cut offs we want to explore"
   ]
  },
  {
   "cell_type": "code",
   "execution_count": 62,
   "id": "4704da9f-033b-4727-b783-0188300c9a51",
   "metadata": {},
   "outputs": [
    {
     "data": {
      "text/plain": [
       "'/Users/jillnaiman/Dropbox/wwt_image_extraction/FigureLocalization/MetricsResults/binaries_model12_scanbank.pickle'"
      ]
     },
     "execution_count": 62,
     "metadata": {},
     "output_type": "execute_result"
    }
   ],
   "source": [
    "# # get pickle\n",
    "pickle_file = config.metric_results_dir +yolopicklename\n",
    "\n",
    "with open(pickle_file, 'rb') as ff:\n",
    "    icombo,fnames, truebox, pdfboxes, pdfrawboxes, captionText_figcap,\\\n",
    "                 bbox_figcap_pars,\\\n",
    "                 sboxes_cleaned, slabels_cleaned, sscores_cleaned,\\\n",
    "                 boxes_pdf, labels_pdf, scores_pdf,\\\n",
    "                 boxes_heur, labels_heur, scores_heur,\\\n",
    "                 boxes_heur2, labels_heur2, scores_heur2,\\\n",
    "                 boxes_par_found, labels_par_found, scores_par_found,\\\n",
    "                 boxes_sq1, labels_sq1, scores_sq1,\\\n",
    "                 boxes_sq2, labels_sq2, scores_sq2,\\\n",
    "                 boxes_sq3, labels_sq3, scores_sq3,\\\n",
    "                 boxes_sq4, labels_sq4, scores_sq4,\\\n",
    "                 boxes_sq5, labels_sq5, scores_sq5,\\\n",
    "                 truebox1,truebox2,truebox3,rotatedImages,LABELS,boxes1, scores1, labels1 = pickle.load(ff)\n",
    "pickle_file"
   ]
  },
  {
   "cell_type": "markdown",
   "id": "6274d78d-acf5-4ee4-848d-f4ef1586cd96",
   "metadata": {},
   "source": [
    "Create combined true boxes and found boxes."
   ]
  },
  {
   "cell_type": "code",
   "execution_count": 63,
   "id": "b0f1c77d-a74a-4bfe-8995-cac5318a9498",
   "metadata": {},
   "outputs": [],
   "source": [
    "# replace figures found with raw boxes?\n",
    "replace_raw_box = True\n",
    "# combine true figure boxes with captions boxes?\n",
    "use_comb_fig_cap = False\n",
    "\n",
    "# for AP calc\n",
    "boxes_true = []; boxes_found = []; labels_found = []; scores_found = []\n",
    "boxes_true_us = []; boxes_found_us = []; labels_found_us = []; scores_found_us = []\n",
    "rawBox_found = []\n",
    "# if there is an error with scanbank, don't count this one:\n",
    "inds_drop = []\n",
    "\n",
    "# for each annotation, get true boxes:\n",
    "for ia,a in enumerate(fnames):\n",
    "    # ---- get PDF boxes from before -----\n",
    "    a = annotation_files + a.split('/')[-1].rstrip('.npz') + '.xml'\n",
    "    imgs_name, true_boxes, pdfboxes, pdfrawboxes = parse_annotation([a], \n",
    "                                                                  LABELS, \n",
    "                                                                  parse_pdf=True, \n",
    "                                                                   check_for_file=False)\n",
    "    #also save trues for our full processes\n",
    "    boxes_true_us.append(truebox3[ia])\n",
    "    boxes_found_us.append(boxes_sq5[ia])\n",
    "    labels_found_us.append(labels_sq5[ia])\n",
    "    scores_found_us.append(scores_sq5[ia])\n",
    "    \n",
    "    if len(true_boxes) > 0:\n",
    "        truebox = true_boxes[0] # formatting mess\n",
    "    else:\n",
    "        truebox = []\n",
    "    # no idea, but some formatting things I need to fix\n",
    "    if len(pdfboxes)> 0:\n",
    "        pdfboxes = pdfboxes[0]\n",
    "    else:\n",
    "        pdfboxes = []\n",
    "    if len(pdfrawboxes)> 0:\n",
    "        pdfrawboxes = pdfrawboxes[0]\n",
    "    else:\n",
    "        pdfrawboxes = []\n",
    "        \n",
    "    # ---- combine trues ---\n",
    "    rotatedImage = rotatedImages[ia]\n",
    "    truesComb = []\n",
    "    boxes_true_fig = []; boxes_true_cap = []; boxesCombTrue = []; boxes_other = []\n",
    "    # also, save fig+cap combos\n",
    "    for it,tbox in enumerate(truebox):\n",
    "        if LABELS[int(tbox[-1]-1)] == 'figure caption':\n",
    "            boxes_true_cap.append(tbox.copy())\n",
    "        elif LABELS[int(tbox[-1]-1)] == 'figure':\n",
    "            if type(tbox) != tuple:\n",
    "                boxes_true_fig.append(tbox.copy())\n",
    "            else:\n",
    "                boxes_true_fig.append(tbox)\n",
    "        elif LABELS[int(tbox[-1]-1)] == 'table':\n",
    "            boxes_other.append(tbox)\n",
    "\n",
    "    # pair\n",
    "    for ibb,bb in enumerate(boxes_true_fig):\n",
    "        mind = 5e15; iout = -1\n",
    "        xc,yc = 0.5*(bb[0]+bb[2]),bb[3]\n",
    "        if rotatedImage:\n",
    "            xc, yc = bb[2], 0.5*(bb[1]+bb[3])\n",
    "        for ic,bc in enumerate(boxes_true_cap): # find closest to bottom, not inside a square\n",
    "            xcc,ycc= 0.5*(bc[0]+bc[2]),0.5*(bc[1]+bc[3])\n",
    "            d = np.sum(((xc-xcc)**2 + (yc-ycc)**2)**0.5)\n",
    "            if d < mind:\n",
    "                mind = d\n",
    "                iout = ic\n",
    "        if iout > -1: # if we found a mega-yolo-found caption, add it\n",
    "            if use_comb_fig_cap:\n",
    "                boxesCombTrue.append( (min(boxes_true_fig[ibb][0],boxes_true_cap[iout][0]),\n",
    "                                       min(boxes_true_fig[ibb][1],boxes_true_cap[iout][1]),\n",
    "                                       max(boxes_true_fig[ibb][2],boxes_true_cap[iout][2]),\n",
    "                                       max(boxes_true_fig[ibb][3],boxes_true_cap[iout][3]), \n",
    "                                      LABELS.index('figure')+1) ) # 0 = placeholder tag\n",
    "            else:\n",
    "                boxesCombTrue.append( (min(boxes_true_fig[ibb][0],1e20),\n",
    "                                       min(boxes_true_fig[ibb][1],1e20),\n",
    "                                       max(boxes_true_fig[ibb][2],-1e20),\n",
    "                                       max(boxes_true_fig[ibb][3],-1e20), \n",
    "                                      LABELS.index('figure')+1) ) # 0 = placeholder tag\n",
    "                \n",
    "            # also add caption\n",
    "            boxesCombTrue.append( (boxes_true_cap[iout][0],boxes_true_cap[iout][1],\n",
    "                                   boxes_true_cap[iout][2],boxes_true_cap[iout][3], \n",
    "                                  LABELS.index('figure caption')+1) ) # 0 = placeholder tag\n",
    "        else: # if no, just take fig\n",
    "            boxesCombTrue.append( (boxes_true_fig[ibb][0], boxes_true_fig[ibb][1], \n",
    "                                  boxes_true_fig[ibb][2], boxes_true_fig[ibb][3], \n",
    "                                  LABELS.index('figure')+1) )\n",
    "    #print(len(boxes_true_fig), len(boxesCombTrue))\n",
    "    #ttt += len(boxes_true_fig)\n",
    "    truesComb.append(boxesCombTrue)\n",
    "    boxes_true.append(boxesCombTrue)\n",
    "    \n",
    "\n",
    "        \n",
    "    # get the deepfigures results\n",
    "    pdfbase = a.split('/')[-1].split('_p')[0]\n",
    "    dname = deepfiguresDir+pdfbase\n",
    "    #allFigs = []; allScores=[]; allLabels=[]\n",
    "    myRaw = []; myFigs = []; myFullFigs = []; foundLabels = []; scores = []\n",
    "    try:\n",
    "        f = glob(dname + '/*')[0]\n",
    "    except:\n",
    "        print('no file for', dname)\n",
    "        f = '-1'\n",
    "        import sys; sys.exit()\n",
    "    # is something there?\n",
    "    if os.path.isfile(f+'/'+pdfbase+'deepfigures-results.json'):\n",
    "        # get json file\n",
    "        with open(f+'/'+pdfbase+'deepfigures-results.json','r') as ff:\n",
    "            fj = json.loads(ff.read())\n",
    "\n",
    "        # translation coordinates info\n",
    "        # get dpi\n",
    "        dpi = fj['dpi']\n",
    "        # get fig page with this dpi\n",
    "        page = int(a.split('_p')[-1].split('.xml')[0])\n",
    "        pageName = f+'/'+pdfbase+'.pdf-images/ghostscript/dpi'+str(dpi)+'/'+\\\n",
    "           pdfbase+'.pdf-dpi'+str(dpi)+'-page'+str(page+1).zfill(4)+'.png'\n",
    "        # read and get size\n",
    "        imgDraw = Image.open(pageName)\n",
    "        imgDPIsize = imgDraw.size\n",
    "\n",
    "        # only want objects on our specific page\n",
    "        figsThisPage = []\n",
    "        for f in fj['figures']:\n",
    "            #print(f)\n",
    "            if f['page'] == page:\n",
    "                figsThisPage.append(f)\n",
    "\n",
    "        # also track raw boxes\n",
    "        rawBoxThisPage = []\n",
    "        for ib, boxes in enumerate(fj['raw_detected_boxes']):\n",
    "            if ib == page:\n",
    "                rawBoxThisPage = boxes\n",
    "                    \n",
    "        # and finally, raw PDF figures\n",
    "        pdfFiguresThisPage = []\n",
    "        for pdff in fj['raw_pdffigures_output']['figures']:\n",
    "            if pdff['page'] == page:\n",
    "                pdfFiguresThisPage.append(pdff)\n",
    "                \n",
    "        # get PDF-to-YOLO\n",
    "        fracx = imgDPIsize[0]/config.IMAGE_W; fracy = imgDPIsize[1]/config.IMAGE_H\n",
    "        \n",
    "        # grab stuffs\n",
    "\n",
    "        # Grab raw boxes (sometimes fig boxes aren't found but they are in raw boxes)\n",
    "        for b in rawBoxThisPage:\n",
    "            x1 = b['x1']\n",
    "            y1 = b['y1']\n",
    "            x2 = b['x2']\n",
    "            y2 = b['y2']\n",
    "            # transform from PDF to scanned axis\n",
    "            y1 = int(round(y1/fracy)); y2 = int(round(y2/fracy))\n",
    "            x1 = int(round(x1/fracx)); x2 = int(round(x2/fracx))\n",
    "            myRaw.append((x1,y1,x2,y2,-1))\n",
    "\n",
    "        # get figures from deepfigs\n",
    "        foundFig = False\n",
    "        for f in figsThisPage:\n",
    "            x1 = f['figure_boundary']['x1'] \n",
    "            y1 = f['figure_boundary']['y1']\n",
    "            x2 = f['figure_boundary']['x2'] \n",
    "            y2 = f['figure_boundary']['y2']\n",
    "            y1 = int(round(y1/fracy)); y2 = int(round(y2/fracy))\n",
    "            x1 = int(round(x1/fracx)); x2 = int(round(x2/fracx))\n",
    "\n",
    "            # include captions\n",
    "            x1c = f['caption_boundary']['x1'] \n",
    "            y1c = f['caption_boundary']['y1']\n",
    "            x2c = f['caption_boundary']['x2'] \n",
    "            y2c = f['caption_boundary']['y2']\n",
    "            y1c = int(round(y1c/fracy)); y2c = int(round(y2c/fracy))\n",
    "            x1c = int(round(x1c/fracx)); x2c = int(round(x2c/fracx))\n",
    "\n",
    "            # fig/cap pairs\n",
    "            if f['figure_type'] == 'Figure' and not replace_raw_box:\n",
    "                foundFig = True # as to not double count raw boxes\n",
    "                myFullFigs.append( (min(x1,x1c),min(y1,y1c),max(x2,x2c),max(y2,y2c)) )\n",
    "                foundLabels.append( LABELS.index('figure') )\n",
    "                scores.append(1.0)\n",
    "                # also, get captions\n",
    "                myFullFigs.append( (x1c,y1c,x2c,y2c))\n",
    "                scores.append(1.0)       \n",
    "                foundLabels.append( LABELS.index('figure caption') )\n",
    "            elif f['figure_type'] == 'Figure' and replace_raw_box:\n",
    "                # just get captions\n",
    "                myFullFigs.append( (x1c,y1c,x2c,y2c))\n",
    "                scores.append(1.0)       \n",
    "                foundLabels.append( LABELS.index('figure caption') )\n",
    "            elif f['figure_type'] == 'Table':\n",
    "                xmin = min([x1,x1c]); xmax = max([x2,x2c]); ymin = min([y1,y1c]); ymax = max([y2,y2c])\n",
    "                myFullFigs.append( (min(x1,x1c),min(y1,y1c),max(x2,x2c),max(y2,y2c)) )\n",
    "                foundLabels.append(LABELS.index('table') )\n",
    "                scores.append(1.0)\n",
    "            else:\n",
    "                print('no idea')\n",
    "                import sys; sys.exit()\n",
    "        if replace_raw_box and not foundFig: # assume raw boxes ARE figures\n",
    "            for b in rawBoxThisPage:\n",
    "                x1 = b['x1']\n",
    "                y1 = b['y1']\n",
    "                x2 = b['x2']\n",
    "                y2 = b['y2']\n",
    "                # transform from PDF to scanned axis\n",
    "                y1 = int(round(y1/fracy)); y2 = int(round(y2/fracy))\n",
    "                x1 = int(round(x1/fracx)); x2 = int(round(x2/fracx))            \n",
    "                myFullFigs.append( (x1,y1,x2,y2) )\n",
    "                foundLabels.append( LABELS.index('figure') )\n",
    "                scores.append(1.0)\n",
    "            \n",
    "    else:\n",
    "        inds_drop.append(ia)\n",
    "                \n",
    "    boxes_found.append(myFullFigs)\n",
    "    labels_found.append(foundLabels)\n",
    "    scores_found.append(scores)\n",
    "    rawBox_found.append(myRaw)"
   ]
  },
  {
   "cell_type": "code",
   "execution_count": 64,
   "id": "81a964e0-dcb3-420d-a67e-c98b21a5f08e",
   "metadata": {},
   "outputs": [
    {
     "data": {
      "text/plain": [
       "(1232, 1232, 1232)"
      ]
     },
     "execution_count": 64,
     "metadata": {},
     "output_type": "execute_result"
    }
   ],
   "source": [
    "len(boxes_true),len(boxes_found), len(boxes_found_us)"
   ]
  },
  {
   "cell_type": "code",
   "execution_count": 65,
   "id": "df21eb9f-ad40-4f1a-9b3b-462274a0bbae",
   "metadata": {},
   "outputs": [
    {
     "data": {
      "text/plain": [
       "310"
      ]
     },
     "execution_count": 65,
     "metadata": {},
     "output_type": "execute_result"
    }
   ],
   "source": [
    "len(inds_drop)"
   ]
  },
  {
   "cell_type": "code",
   "execution_count": 66,
   "id": "bd4ddd48-a224-4bb7-a51f-2a563c66a54c",
   "metadata": {},
   "outputs": [
    {
     "data": {
      "text/plain": [
       "[(34.0, 92.0, 456.0, 479.0, 1), (411.0, 464.0, 440.0, 472.0, 2)]"
      ]
     },
     "execution_count": 66,
     "metadata": {},
     "output_type": "execute_result"
    }
   ],
   "source": [
    "boxes_true[1]"
   ]
  },
  {
   "cell_type": "code",
   "execution_count": 67,
   "id": "57393624-b9d4-4e73-b836-4f889af0a067",
   "metadata": {},
   "outputs": [
    {
     "data": {
      "text/plain": [
       "[]"
      ]
     },
     "execution_count": 67,
     "metadata": {},
     "output_type": "execute_result"
    }
   ],
   "source": [
    "boxes_found[1]"
   ]
  },
  {
   "cell_type": "code",
   "execution_count": 68,
   "id": "a49d5e7c-f6af-463c-bcb1-8464235a5c3f",
   "metadata": {},
   "outputs": [
    {
     "data": {
      "text/plain": [
       "1232"
      ]
     },
     "execution_count": 68,
     "metadata": {},
     "output_type": "execute_result"
    }
   ],
   "source": [
    "len(fnames)"
   ]
  },
  {
   "cell_type": "code",
   "execution_count": 69,
   "id": "09034af5-d961-4be2-b654-a6b3aa4d807f",
   "metadata": {},
   "outputs": [],
   "source": [
    "dfall = pd.DataFrame({'true_sb':boxes_true, \n",
    "                      'found_sb':boxes_found, 'labels_sb':labels_found, 'scores_sb':scores_found, \n",
    "                      'true':boxes_true_us, \n",
    "                      'found':boxes_found_us, 'labels':labels_found_us, 'scores':scores_found_us, 'fnames':fnames, \n",
    "                     'raws_sb':rawBox_found})\n",
    "\n",
    "dfall = dfall.drop(dfall.index[inds_drop])\n",
    "dfall = dfall.reset_index(drop=True)\n",
    "\n",
    "boxes_true=dfall['true_sb'].values\n",
    "boxes_found=dfall['found_sb'].values\n",
    "labels_found=dfall['labels_sb'].values\n",
    "scores_found=dfall['scores_sb'].values\n",
    "fnames = dfall['fnames'].values\n",
    "rawBoxes = dfall['raws_sb'].values"
   ]
  },
  {
   "cell_type": "code",
   "execution_count": 70,
   "id": "91cdedb7-e509-459d-a326-866cb4a406fa",
   "metadata": {},
   "outputs": [
    {
     "data": {
      "text/html": [
       "<div>\n",
       "<style scoped>\n",
       "    .dataframe tbody tr th:only-of-type {\n",
       "        vertical-align: middle;\n",
       "    }\n",
       "\n",
       "    .dataframe tbody tr th {\n",
       "        vertical-align: top;\n",
       "    }\n",
       "\n",
       "    .dataframe thead th {\n",
       "        text-align: right;\n",
       "    }\n",
       "</style>\n",
       "<table border=\"1\" class=\"dataframe\">\n",
       "  <thead>\n",
       "    <tr style=\"text-align: right;\">\n",
       "      <th></th>\n",
       "      <th>true_sb</th>\n",
       "      <th>found_sb</th>\n",
       "      <th>labels_sb</th>\n",
       "      <th>scores_sb</th>\n",
       "      <th>true</th>\n",
       "      <th>found</th>\n",
       "      <th>labels</th>\n",
       "      <th>scores</th>\n",
       "      <th>fnames</th>\n",
       "      <th>raws_sb</th>\n",
       "    </tr>\n",
       "  </thead>\n",
       "  <tbody>\n",
       "    <tr>\n",
       "      <th>0</th>\n",
       "      <td>[]</td>\n",
       "      <td>[]</td>\n",
       "      <td>[]</td>\n",
       "      <td>[]</td>\n",
       "      <td>[]</td>\n",
       "      <td>[]</td>\n",
       "      <td>[]</td>\n",
       "      <td>[]</td>\n",
       "      <td>/Users/jillnaiman/MegaYolo_scanbank/binaries_m...</td>\n",
       "      <td>[]</td>\n",
       "    </tr>\n",
       "    <tr>\n",
       "      <th>1</th>\n",
       "      <td>[]</td>\n",
       "      <td>[]</td>\n",
       "      <td>[]</td>\n",
       "      <td>[]</td>\n",
       "      <td>[]</td>\n",
       "      <td>[]</td>\n",
       "      <td>[]</td>\n",
       "      <td>[]</td>\n",
       "      <td>/Users/jillnaiman/MegaYolo_scanbank/binaries_m...</td>\n",
       "      <td>[]</td>\n",
       "    </tr>\n",
       "    <tr>\n",
       "      <th>2</th>\n",
       "      <td>[]</td>\n",
       "      <td>[]</td>\n",
       "      <td>[]</td>\n",
       "      <td>[]</td>\n",
       "      <td>[]</td>\n",
       "      <td>[]</td>\n",
       "      <td>[]</td>\n",
       "      <td>[]</td>\n",
       "      <td>/Users/jillnaiman/MegaYolo_scanbank/binaries_m...</td>\n",
       "      <td>[]</td>\n",
       "    </tr>\n",
       "    <tr>\n",
       "      <th>3</th>\n",
       "      <td>[]</td>\n",
       "      <td>[]</td>\n",
       "      <td>[]</td>\n",
       "      <td>[]</td>\n",
       "      <td>[[52.0, 45.0, 486.0, 73.0, 3.0], [103.0, 109.0...</td>\n",
       "      <td>[[144.76280212402344, 146.3331756591797, 364.9...</td>\n",
       "      <td>[2]</td>\n",
       "      <td>[0.36548218]</td>\n",
       "      <td>/Users/jillnaiman/MegaYolo_scanbank/binaries_m...</td>\n",
       "      <td>[]</td>\n",
       "    </tr>\n",
       "    <tr>\n",
       "      <th>4</th>\n",
       "      <td>[]</td>\n",
       "      <td>[]</td>\n",
       "      <td>[]</td>\n",
       "      <td>[]</td>\n",
       "      <td>[[97.0, 119.0, 385.0, 194.0, 4.0]]</td>\n",
       "      <td>[[97.41452026367188, 118.46684265136719, 385.1...</td>\n",
       "      <td>[3]</td>\n",
       "      <td>[0.7457699]</td>\n",
       "      <td>/Users/jillnaiman/MegaYolo_scanbank/binaries_m...</td>\n",
       "      <td>[]</td>\n",
       "    </tr>\n",
       "    <tr>\n",
       "      <th>...</th>\n",
       "      <td>...</td>\n",
       "      <td>...</td>\n",
       "      <td>...</td>\n",
       "      <td>...</td>\n",
       "      <td>...</td>\n",
       "      <td>...</td>\n",
       "      <td>...</td>\n",
       "      <td>...</td>\n",
       "      <td>...</td>\n",
       "      <td>...</td>\n",
       "    </tr>\n",
       "    <tr>\n",
       "      <th>917</th>\n",
       "      <td>[]</td>\n",
       "      <td>[]</td>\n",
       "      <td>[]</td>\n",
       "      <td>[]</td>\n",
       "      <td>[]</td>\n",
       "      <td>[]</td>\n",
       "      <td>[]</td>\n",
       "      <td>[]</td>\n",
       "      <td>/Users/jillnaiman/MegaYolo_scanbank/binaries_m...</td>\n",
       "      <td>[]</td>\n",
       "    </tr>\n",
       "    <tr>\n",
       "      <th>918</th>\n",
       "      <td>[]</td>\n",
       "      <td>[]</td>\n",
       "      <td>[]</td>\n",
       "      <td>[]</td>\n",
       "      <td>[]</td>\n",
       "      <td>[]</td>\n",
       "      <td>[]</td>\n",
       "      <td>[]</td>\n",
       "      <td>/Users/jillnaiman/MegaYolo_scanbank/binaries_m...</td>\n",
       "      <td>[]</td>\n",
       "    </tr>\n",
       "    <tr>\n",
       "      <th>919</th>\n",
       "      <td>[]</td>\n",
       "      <td>[]</td>\n",
       "      <td>[]</td>\n",
       "      <td>[]</td>\n",
       "      <td>[]</td>\n",
       "      <td>[]</td>\n",
       "      <td>[]</td>\n",
       "      <td>[]</td>\n",
       "      <td>/Users/jillnaiman/MegaYolo_scanbank/binaries_m...</td>\n",
       "      <td>[]</td>\n",
       "    </tr>\n",
       "    <tr>\n",
       "      <th>920</th>\n",
       "      <td>[(137.0, 43.0, 392.0, 475.0, 1), (402.0, 141.0...</td>\n",
       "      <td>[(85, 45, 457, 469)]</td>\n",
       "      <td>[0]</td>\n",
       "      <td>[1.0]</td>\n",
       "      <td>[[402.0, 141.0, 419.0, 420.0, 2.0], [137.0, 43...</td>\n",
       "      <td>[[401.9658475635152, 141.43382123948925, 418.8...</td>\n",
       "      <td>[1, 0]</td>\n",
       "      <td>[0.9950329, 0.9999993]</td>\n",
       "      <td>/Users/jillnaiman/MegaYolo_scanbank/binaries_m...</td>\n",
       "      <td>[(85, 45, 457, 469, -1)]</td>\n",
       "    </tr>\n",
       "    <tr>\n",
       "      <th>921</th>\n",
       "      <td>[]</td>\n",
       "      <td>[]</td>\n",
       "      <td>[]</td>\n",
       "      <td>[]</td>\n",
       "      <td>[]</td>\n",
       "      <td>[[134.41793823242188, 63.42706298828125, 439.4...</td>\n",
       "      <td>[0]</td>\n",
       "      <td>[0.999991]</td>\n",
       "      <td>/Users/jillnaiman/MegaYolo_scanbank/binaries_m...</td>\n",
       "      <td>[]</td>\n",
       "    </tr>\n",
       "  </tbody>\n",
       "</table>\n",
       "<p>922 rows × 10 columns</p>\n",
       "</div>"
      ],
      "text/plain": [
       "                                               true_sb              found_sb  \\\n",
       "0                                                   []                    []   \n",
       "1                                                   []                    []   \n",
       "2                                                   []                    []   \n",
       "3                                                   []                    []   \n",
       "4                                                   []                    []   \n",
       "..                                                 ...                   ...   \n",
       "917                                                 []                    []   \n",
       "918                                                 []                    []   \n",
       "919                                                 []                    []   \n",
       "920  [(137.0, 43.0, 392.0, 475.0, 1), (402.0, 141.0...  [(85, 45, 457, 469)]   \n",
       "921                                                 []                    []   \n",
       "\n",
       "    labels_sb scores_sb                                               true  \\\n",
       "0          []        []                                                 []   \n",
       "1          []        []                                                 []   \n",
       "2          []        []                                                 []   \n",
       "3          []        []  [[52.0, 45.0, 486.0, 73.0, 3.0], [103.0, 109.0...   \n",
       "4          []        []                 [[97.0, 119.0, 385.0, 194.0, 4.0]]   \n",
       "..        ...       ...                                                ...   \n",
       "917        []        []                                                 []   \n",
       "918        []        []                                                 []   \n",
       "919        []        []                                                 []   \n",
       "920       [0]     [1.0]  [[402.0, 141.0, 419.0, 420.0, 2.0], [137.0, 43...   \n",
       "921        []        []                                                 []   \n",
       "\n",
       "                                                 found  labels  \\\n",
       "0                                                   []      []   \n",
       "1                                                   []      []   \n",
       "2                                                   []      []   \n",
       "3    [[144.76280212402344, 146.3331756591797, 364.9...     [2]   \n",
       "4    [[97.41452026367188, 118.46684265136719, 385.1...     [3]   \n",
       "..                                                 ...     ...   \n",
       "917                                                 []      []   \n",
       "918                                                 []      []   \n",
       "919                                                 []      []   \n",
       "920  [[401.9658475635152, 141.43382123948925, 418.8...  [1, 0]   \n",
       "921  [[134.41793823242188, 63.42706298828125, 439.4...     [0]   \n",
       "\n",
       "                     scores  \\\n",
       "0                        []   \n",
       "1                        []   \n",
       "2                        []   \n",
       "3              [0.36548218]   \n",
       "4               [0.7457699]   \n",
       "..                      ...   \n",
       "917                      []   \n",
       "918                      []   \n",
       "919                      []   \n",
       "920  [0.9950329, 0.9999993]   \n",
       "921              [0.999991]   \n",
       "\n",
       "                                                fnames  \\\n",
       "0    /Users/jillnaiman/MegaYolo_scanbank/binaries_m...   \n",
       "1    /Users/jillnaiman/MegaYolo_scanbank/binaries_m...   \n",
       "2    /Users/jillnaiman/MegaYolo_scanbank/binaries_m...   \n",
       "3    /Users/jillnaiman/MegaYolo_scanbank/binaries_m...   \n",
       "4    /Users/jillnaiman/MegaYolo_scanbank/binaries_m...   \n",
       "..                                                 ...   \n",
       "917  /Users/jillnaiman/MegaYolo_scanbank/binaries_m...   \n",
       "918  /Users/jillnaiman/MegaYolo_scanbank/binaries_m...   \n",
       "919  /Users/jillnaiman/MegaYolo_scanbank/binaries_m...   \n",
       "920  /Users/jillnaiman/MegaYolo_scanbank/binaries_m...   \n",
       "921  /Users/jillnaiman/MegaYolo_scanbank/binaries_m...   \n",
       "\n",
       "                      raws_sb  \n",
       "0                          []  \n",
       "1                          []  \n",
       "2                          []  \n",
       "3                          []  \n",
       "4                          []  \n",
       "..                        ...  \n",
       "917                        []  \n",
       "918                        []  \n",
       "919                        []  \n",
       "920  [(85, 45, 457, 469, -1)]  \n",
       "921                        []  \n",
       "\n",
       "[922 rows x 10 columns]"
      ]
     },
     "execution_count": 70,
     "metadata": {},
     "output_type": "execute_result"
    }
   ],
   "source": [
    "dfall"
   ]
  },
  {
   "cell_type": "code",
   "execution_count": 71,
   "id": "4df1325e-7ed8-4557-9a88-ecc734eb5b29",
   "metadata": {},
   "outputs": [],
   "source": [
    "#dfall.iloc[0], LABELS"
   ]
  },
  {
   "cell_type": "code",
   "execution_count": 72,
   "id": "e6062372-3afc-488b-bf3e-f2d83ac7f05d",
   "metadata": {},
   "outputs": [
    {
     "name": "stdout",
     "output_type": "stream",
     "text": [
      "Done per category:\n",
      "figure 197.0\n",
      "figure caption 140.0\n",
      "math formula 149.0\n",
      "table 65.0\n"
     ]
    }
   ],
   "source": [
    "# how many true of each class?\n",
    "has_obj = []\n",
    "labels_done_count = np.zeros(len(LABELS))\n",
    "for i in range(len(dfall)):\n",
    "    for l in dfall.iloc[i]['true']:\n",
    "        labels_done_count[int(l[-1]-1)] += 1\n",
    "        if int(l[-1]-1) <= 1: # fig or cap\n",
    "            has_obj.append(i)\n",
    "print('Done per category:')\n",
    "for i in range(len(LABELS)):\n",
    "    print(LABELS[i], labels_done_count[i])"
   ]
  },
  {
   "cell_type": "markdown",
   "id": "31def84a-6dc0-496b-8215-f077aeb4d728",
   "metadata": {},
   "source": [
    "Test one:"
   ]
  },
  {
   "cell_type": "code",
   "execution_count": 73,
   "id": "2a0791a4-e0e4-481b-924f-789ebbe9b346",
   "metadata": {},
   "outputs": [
    {
     "name": "stdout",
     "output_type": "stream",
     "text": [
      "[12, 24, 40, 45, 47, 50, 54, 70, 72, 74, 75, 79, 82, 88, 95, 96, 102, 103, 109, 115, 148, 150, 154, 160, 161, 162, 163, 167, 169, 179, 192, 197, 212, 219, 221, 227, 242, 251, 255, 260, 268, 271, 278, 280, 297, 301, 308, 312, 314, 329, 334, 338, 348, 350, 351, 362, 364, 366, 371, 372, 376, 377, 378, 379, 394, 395, 399, 400, 408, 411, 416, 420, 423, 425, 427, 428, 431, 433, 435, 439, 440, 444, 447, 461, 462, 463, 464, 467, 468, 469, 470, 471, 472, 476, 478, 479, 493, 503, 504, 515, 518, 524, 525, 530, 539, 543, 544, 547, 554, 555, 556, 561, 566, 572, 574, 575, 577, 580, 587, 589, 594, 597, 599, 602, 603, 604, 606, 617, 622, 623, 634, 635, 638, 643, 672, 681, 690, 693, 699, 715, 718, 719, 729, 736, 739, 743, 749, 758, 762, 769, 780, 785, 786, 790, 795, 800, 804, 805, 810, 811, 816, 821, 823, 826, 828, 841, 842, 844, 847, 850, 851, 853, 863, 870, 875, 876, 879, 889, 891, 893, 920]\n"
     ]
    }
   ],
   "source": [
    "hasbox = []\n",
    "for i in range(len(dfall)):\n",
    "    if len(dfall.iloc[i]['true_sb']) > 0:\n",
    "        hasbox.append(i)\n",
    "print(hasbox)"
   ]
  },
  {
   "cell_type": "code",
   "execution_count": 74,
   "id": "7d0a3da7-deaf-4ff6-8529-b3a0cb436ba4",
   "metadata": {},
   "outputs": [],
   "source": [
    "indb = 12"
   ]
  },
  {
   "cell_type": "code",
   "execution_count": 75,
   "id": "90a67aa6-0fc3-4213-8d3c-7a9fe33496e9",
   "metadata": {},
   "outputs": [
    {
     "data": {
      "text/plain": [
       "true_sb      [(93.0, 135.0, 396.0, 338.0, 1), (82.0, 371.0,...\n",
       "found_sb                                 [(97, 150, 390, 333)]\n",
       "labels_sb                                                  [0]\n",
       "scores_sb                                                [1.0]\n",
       "true         [[82.0, 371.0, 414.0, 391.0, 2.0], [82.0, 135....\n",
       "found                                                       []\n",
       "labels                                                      []\n",
       "scores                                                      []\n",
       "fnames       /Users/jillnaiman/MegaYolo_scanbank/binaries_m...\n",
       "raws_sb                              [(97, 150, 390, 333, -1)]\n",
       "Name: 12, dtype: object"
      ]
     },
     "execution_count": 75,
     "metadata": {},
     "output_type": "execute_result"
    }
   ],
   "source": [
    "dfall.iloc[indb]"
   ]
  },
  {
   "cell_type": "code",
   "execution_count": 76,
   "id": "689e3190-571b-4710-bf51-81aef13f5132",
   "metadata": {},
   "outputs": [
    {
     "data": {
      "text/plain": [
       "([], [])"
      ]
     },
     "execution_count": 76,
     "metadata": {},
     "output_type": "execute_result"
    }
   ],
   "source": [
    "dfall.iloc[indb]['found'], dfall.iloc[indb]['labels']"
   ]
  },
  {
   "cell_type": "code",
   "execution_count": 77,
   "id": "21ce6ca5-00b9-4639-aa17-518110a9943c",
   "metadata": {},
   "outputs": [
    {
     "data": {
      "text/plain": [
       "[array([ 82., 135., 414., 371.,   1.]), array([ 82., 371., 414., 391.,   2.])]"
      ]
     },
     "execution_count": 77,
     "metadata": {},
     "output_type": "execute_result"
    }
   ],
   "source": [
    "dfall.iloc[indb]['true'][::-1]"
   ]
  },
  {
   "cell_type": "code",
   "execution_count": 78,
   "id": "86e45b66-e02f-4324-8cb7-48f7515c0ada",
   "metadata": {},
   "outputs": [
    {
     "data": {
      "text/plain": [
       "{0: {'TP': 0.0,\n",
       "  'FP': 0.0,\n",
       "  'FN': 1.0,\n",
       "  'npos': 1,\n",
       "  'year': 1000,\n",
       "  'name': '1000_placeholder'},\n",
       " 1: {'TP': 0.0,\n",
       "  'FP': 0.0,\n",
       "  'FN': 1.0,\n",
       "  'npos': 1,\n",
       "  'year': 1000,\n",
       "  'name': '1000_placeholder'}}"
      ]
     },
     "execution_count": 78,
     "metadata": {},
     "output_type": "execute_result"
    }
   ],
   "source": [
    "# TPv, FPv, FNv, totalTruev = calc_base_metrics_allboxes_cv(LABELS,scoreminVec,iouminVec,\n",
    "#                                               [dfall.iloc[4]['true']],[dfall.iloc[4]['found']],\n",
    "#                                                           [dfall.iloc[4]['labels']], \n",
    "#                                               [dfall.iloc[4]['scores']],\n",
    "#                                                           n_folds_cv=n_folds_cv,\n",
    "#                                                          seed=seed)\n",
    "from metric_utils import new_calcs\n",
    "ioumin = 0.1\n",
    "trueshere = dfall.iloc[indb]['true'][::-1]\n",
    "new_calcs(trueshere,dfall.iloc[indb]['found'],\n",
    "          dfall.iloc[indb]['labels'],dfall.iloc[indb]['scores'],\n",
    "                               np.repeat(ioumin,len(LABELS)), \n",
    "                               '1000_placeholder', np.arange(len(LABELS)))"
   ]
  },
  {
   "cell_type": "code",
   "execution_count": null,
   "id": "31227197-3a05-49cf-8aa9-e273968143b4",
   "metadata": {},
   "outputs": [],
   "source": []
  },
  {
   "cell_type": "code",
   "execution_count": 79,
   "id": "92e336eb-df98-454b-8007-952783ef9c81",
   "metadata": {},
   "outputs": [
    {
     "data": {
      "text/plain": [
       "(array(['/Users/jillnaiman/MegaYolo_scanbank/binaries_model12_scanbank/1721_1_79810_p5.npz',\n",
       "        '/Users/jillnaiman/MegaYolo_scanbank/binaries_model12_scanbank/1721_1_14598_p9.npz'],\n",
       "       dtype=object),\n",
       " '/Users/jillnaiman/Dropbox/wwt_image_extraction/FigureLocalization/BenchMarks/Pages_scanbank/RandomSingleFromPDFIndexed/')"
      ]
     },
     "execution_count": 79,
     "metadata": {},
     "output_type": "execute_result"
    }
   ],
   "source": [
    "fnames[:2], images_jpeg_dir"
   ]
  },
  {
   "cell_type": "code",
   "execution_count": 80,
   "id": "30be8a4e-e99a-4b80-a4f1-eeae0a8e5f71",
   "metadata": {},
   "outputs": [
    {
     "data": {
      "text/plain": [
       "array([list([]), list([]), list([]), list([]), list([])], dtype=object)"
      ]
     },
     "execution_count": 80,
     "metadata": {},
     "output_type": "execute_result"
    }
   ],
   "source": [
    "labels_found[:5]"
   ]
  },
  {
   "cell_type": "markdown",
   "id": "bdb6be64-4731-4256-888d-5240f8bd8e72",
   "metadata": {},
   "source": [
    "Also read in the ScanBank annotations."
   ]
  },
  {
   "cell_type": "code",
   "execution_count": 81,
   "id": "9ef78827-2095-4109-b5ca-983a01a5060d",
   "metadata": {},
   "outputs": [],
   "source": [
    "with open(sbann_dir,'r') as ff:\n",
    "    sba = json.loads(ff.read())"
   ]
  },
  {
   "cell_type": "code",
   "execution_count": 82,
   "id": "6c72eb8b-48fc-46d8-8e3b-b5318d0ceb0c",
   "metadata": {},
   "outputs": [
    {
     "data": {
      "text/plain": [
       "dict_keys(['info', 'licenses', 'categories', 'images', 'annotations'])"
      ]
     },
     "execution_count": 82,
     "metadata": {},
     "output_type": "execute_result"
    }
   ],
   "source": [
    "sba.keys()"
   ]
  },
  {
   "cell_type": "markdown",
   "id": "9cd854bd-ac8f-4a33-8e9d-b63eb3952170",
   "metadata": {},
   "source": [
    "It seems like only figures are annotated?"
   ]
  },
  {
   "cell_type": "code",
   "execution_count": 83,
   "id": "dcc5d307-62c4-4dee-be00-5b7175f6e9ae",
   "metadata": {},
   "outputs": [
    {
     "data": {
      "text/plain": [
       "[{'supercategory': 'figure', 'id': 1, 'name': 'figure'}]"
      ]
     },
     "execution_count": 83,
     "metadata": {},
     "output_type": "execute_result"
    }
   ],
   "source": [
    "sba['categories']"
   ]
  },
  {
   "cell_type": "code",
   "execution_count": 84,
   "id": "1c37aca7-7c90-49fc-a71e-b6609988b788",
   "metadata": {},
   "outputs": [],
   "source": [
    "#sba['images']"
   ]
  },
  {
   "cell_type": "code",
   "execution_count": 85,
   "id": "ca9b1939-5274-46aa-9f6d-ca83af1ccaab",
   "metadata": {},
   "outputs": [],
   "source": [
    "cat_ids = []\n",
    "for sb in sba['annotations']:\n",
    "    cat_ids.append(sb['category_id'])"
   ]
  },
  {
   "cell_type": "code",
   "execution_count": 86,
   "id": "2a07aa84-274a-4e0d-9a3e-8ee3b2040199",
   "metadata": {},
   "outputs": [
    {
     "data": {
      "text/plain": [
       "array([1])"
      ]
     },
     "execution_count": 86,
     "metadata": {},
     "output_type": "execute_result"
    }
   ],
   "source": [
    "np.unique(cat_ids)"
   ]
  },
  {
   "cell_type": "markdown",
   "id": "073e81d9-c760-45ac-9847-494b81cb13f4",
   "metadata": {},
   "source": [
    "So indeed, looks like just figures."
   ]
  },
  {
   "cell_type": "code",
   "execution_count": 87,
   "id": "07a589ae-4ca6-4f86-9321-d6af0855012c",
   "metadata": {},
   "outputs": [
    {
     "data": {
      "text/plain": [
       "'/Users/jillnaiman/MegaYolo_scanbank/binaries_model12_scanbank/1721_1_79810_p5.npz'"
      ]
     },
     "execution_count": 87,
     "metadata": {},
     "output_type": "execute_result"
    }
   ],
   "source": [
    "dfall.iloc[0]['fnames']"
   ]
  },
  {
   "cell_type": "code",
   "execution_count": 88,
   "id": "1f28f2fd-72b5-4084-991f-62100915d21f",
   "metadata": {},
   "outputs": [
    {
     "name": "stdout",
     "output_type": "stream",
     "text": [
      "0\n"
     ]
    }
   ],
   "source": [
    "pageMinOurs = []\n",
    "for n in dfall['fnames'].values:\n",
    "    n = int(n.split('_p')[-1].rstrip('.npz'))\n",
    "    pageMinOurs.append(n)\n",
    "pageMinOurs = np.min(pageMinOurs)\n",
    "print(pageMinOurs)"
   ]
  },
  {
   "cell_type": "code",
   "execution_count": 89,
   "id": "c9262227-4f1c-4938-9b7c-a765cd77bd8a",
   "metadata": {},
   "outputs": [],
   "source": [
    "#anndir, imdir"
   ]
  },
  {
   "cell_type": "code",
   "execution_count": 90,
   "id": "b2cee8df-8e64-4516-8e49-af6d60ca1430",
   "metadata": {},
   "outputs": [],
   "source": [
    "# get annotations -- set in format of other DF\n",
    "#fnamessba = []\n",
    "#dfall = df1.set_index('name').join(df2.set_index('name'))\n",
    "sb_found_boxes = []; sb_found_labels = []\n",
    "names = []\n",
    "for imdir,anndir in zip(sba['images'],sba['annotations']):\n",
    "    boxes_found_here = []; lhere=[]\n",
    "    name = imdir['file_name']\n",
    "    name1 = name.split('.pdf')[0]\n",
    "    page = int(name.split('page')[-1].split('.png')[0])-1 # scanbank starts numbering at 1\n",
    "    name1 = feature_dir + name1 + '_p' + str(page)+'.npz'\n",
    "    # only save if in our list:\n",
    "    if name1 in dfall['fnames'].values.astype('str').tolist():\n",
    "        names.append(name1)\n",
    "        #if name in fnamessba: import sys; sys.exit()\n",
    "        #fnamessba.append(name)\n",
    "        #if len(anndir) > 7: import sys; sys.exit()\n",
    "        # scanbank assumes 1 figure per page, or so it seems\n",
    "        bb = anndir['bbox']\n",
    "        h = imdir['height']; w = imdir['width']\n",
    "        x1 = bb[0]*1.0/w*config.IMAGE_W; y1 = bb[1]*1.0/h*config.IMAGE_H\n",
    "        x2 = (bb[0]+bb[2])*1.0/w*config.IMAGE_W; y2 = (bb[1]+bb[3])*1.0/h*config.IMAGE_H\n",
    "        boxes_found_here.append((x1,y1,x2,y2))\n",
    "        lhere.append(LABELS.index('figure'))\n",
    "        sb_found_boxes.append(boxes_found_here) # this is pointless because only 1 fig per page\n",
    "        sb_found_labels.append(lhere)\n",
    "        \n",
    "sb_true_boxes1 = []#; sb_true_labels1 = []\n",
    "# for rest -- assume no true or found boxes\n",
    "for f in dfall['fnames'].values.astype('str').tolist():\n",
    "    if f in names: # have box\n",
    "        ind = names.index(f)\n",
    "        sb_true_boxes1.append([(sb_found_boxes[ind][0][0],\n",
    "                               sb_found_boxes[ind][0][1],\n",
    "                               sb_found_boxes[ind][0][2],\n",
    "                               sb_found_boxes[ind][0][3], \n",
    "                              1)]) # 1 for figure\n",
    "    else: # don't have\n",
    "        sb_true_boxes1.append([])"
   ]
  },
  {
   "cell_type": "code",
   "execution_count": 91,
   "id": "08e3bddd-1e12-4edd-ac00-fe86f5f15bd2",
   "metadata": {},
   "outputs": [],
   "source": [
    "dfall['sb_true_boxes'] = sb_true_boxes1"
   ]
  },
  {
   "cell_type": "code",
   "execution_count": 92,
   "id": "0956e385-4489-4758-b620-e1835b0524be",
   "metadata": {},
   "outputs": [
    {
     "data": {
      "text/html": [
       "<div>\n",
       "<style scoped>\n",
       "    .dataframe tbody tr th:only-of-type {\n",
       "        vertical-align: middle;\n",
       "    }\n",
       "\n",
       "    .dataframe tbody tr th {\n",
       "        vertical-align: top;\n",
       "    }\n",
       "\n",
       "    .dataframe thead th {\n",
       "        text-align: right;\n",
       "    }\n",
       "</style>\n",
       "<table border=\"1\" class=\"dataframe\">\n",
       "  <thead>\n",
       "    <tr style=\"text-align: right;\">\n",
       "      <th></th>\n",
       "      <th>true_sb</th>\n",
       "      <th>found_sb</th>\n",
       "      <th>labels_sb</th>\n",
       "      <th>scores_sb</th>\n",
       "      <th>true</th>\n",
       "      <th>found</th>\n",
       "      <th>labels</th>\n",
       "      <th>scores</th>\n",
       "      <th>fnames</th>\n",
       "      <th>raws_sb</th>\n",
       "      <th>sb_true_boxes</th>\n",
       "    </tr>\n",
       "  </thead>\n",
       "  <tbody>\n",
       "    <tr>\n",
       "      <th>0</th>\n",
       "      <td>[]</td>\n",
       "      <td>[]</td>\n",
       "      <td>[]</td>\n",
       "      <td>[]</td>\n",
       "      <td>[]</td>\n",
       "      <td>[]</td>\n",
       "      <td>[]</td>\n",
       "      <td>[]</td>\n",
       "      <td>/Users/jillnaiman/MegaYolo_scanbank/binaries_m...</td>\n",
       "      <td>[]</td>\n",
       "      <td>[]</td>\n",
       "    </tr>\n",
       "    <tr>\n",
       "      <th>1</th>\n",
       "      <td>[]</td>\n",
       "      <td>[]</td>\n",
       "      <td>[]</td>\n",
       "      <td>[]</td>\n",
       "      <td>[]</td>\n",
       "      <td>[]</td>\n",
       "      <td>[]</td>\n",
       "      <td>[]</td>\n",
       "      <td>/Users/jillnaiman/MegaYolo_scanbank/binaries_m...</td>\n",
       "      <td>[]</td>\n",
       "      <td>[]</td>\n",
       "    </tr>\n",
       "    <tr>\n",
       "      <th>2</th>\n",
       "      <td>[]</td>\n",
       "      <td>[]</td>\n",
       "      <td>[]</td>\n",
       "      <td>[]</td>\n",
       "      <td>[]</td>\n",
       "      <td>[]</td>\n",
       "      <td>[]</td>\n",
       "      <td>[]</td>\n",
       "      <td>/Users/jillnaiman/MegaYolo_scanbank/binaries_m...</td>\n",
       "      <td>[]</td>\n",
       "      <td>[(41.55094679891794, 70.35114503816794, 204.06...</td>\n",
       "    </tr>\n",
       "    <tr>\n",
       "      <th>3</th>\n",
       "      <td>[]</td>\n",
       "      <td>[]</td>\n",
       "      <td>[]</td>\n",
       "      <td>[]</td>\n",
       "      <td>[[52.0, 45.0, 486.0, 73.0, 3.0], [103.0, 109.0...</td>\n",
       "      <td>[[144.76280212402344, 146.3331756591797, 364.9...</td>\n",
       "      <td>[2]</td>\n",
       "      <td>[0.36548218]</td>\n",
       "      <td>/Users/jillnaiman/MegaYolo_scanbank/binaries_m...</td>\n",
       "      <td>[]</td>\n",
       "      <td>[]</td>\n",
       "    </tr>\n",
       "    <tr>\n",
       "      <th>4</th>\n",
       "      <td>[]</td>\n",
       "      <td>[]</td>\n",
       "      <td>[]</td>\n",
       "      <td>[]</td>\n",
       "      <td>[[97.0, 119.0, 385.0, 194.0, 4.0]]</td>\n",
       "      <td>[[97.41452026367188, 118.46684265136719, 385.1...</td>\n",
       "      <td>[3]</td>\n",
       "      <td>[0.7457699]</td>\n",
       "      <td>/Users/jillnaiman/MegaYolo_scanbank/binaries_m...</td>\n",
       "      <td>[]</td>\n",
       "      <td>[]</td>\n",
       "    </tr>\n",
       "  </tbody>\n",
       "</table>\n",
       "</div>"
      ],
      "text/plain": [
       "  true_sb found_sb labels_sb scores_sb  \\\n",
       "0      []       []        []        []   \n",
       "1      []       []        []        []   \n",
       "2      []       []        []        []   \n",
       "3      []       []        []        []   \n",
       "4      []       []        []        []   \n",
       "\n",
       "                                                true  \\\n",
       "0                                                 []   \n",
       "1                                                 []   \n",
       "2                                                 []   \n",
       "3  [[52.0, 45.0, 486.0, 73.0, 3.0], [103.0, 109.0...   \n",
       "4                 [[97.0, 119.0, 385.0, 194.0, 4.0]]   \n",
       "\n",
       "                                               found labels        scores  \\\n",
       "0                                                 []     []            []   \n",
       "1                                                 []     []            []   \n",
       "2                                                 []     []            []   \n",
       "3  [[144.76280212402344, 146.3331756591797, 364.9...    [2]  [0.36548218]   \n",
       "4  [[97.41452026367188, 118.46684265136719, 385.1...    [3]   [0.7457699]   \n",
       "\n",
       "                                              fnames raws_sb  \\\n",
       "0  /Users/jillnaiman/MegaYolo_scanbank/binaries_m...      []   \n",
       "1  /Users/jillnaiman/MegaYolo_scanbank/binaries_m...      []   \n",
       "2  /Users/jillnaiman/MegaYolo_scanbank/binaries_m...      []   \n",
       "3  /Users/jillnaiman/MegaYolo_scanbank/binaries_m...      []   \n",
       "4  /Users/jillnaiman/MegaYolo_scanbank/binaries_m...      []   \n",
       "\n",
       "                                       sb_true_boxes  \n",
       "0                                                 []  \n",
       "1                                                 []  \n",
       "2  [(41.55094679891794, 70.35114503816794, 204.06...  \n",
       "3                                                 []  \n",
       "4                                                 []  "
      ]
     },
     "execution_count": 92,
     "metadata": {},
     "output_type": "execute_result"
    }
   ],
   "source": [
    "dfall.head()"
   ]
  },
  {
   "cell_type": "code",
   "execution_count": null,
   "id": "a4081ea1-210a-465f-907b-a37e440cbea9",
   "metadata": {},
   "outputs": [],
   "source": []
  },
  {
   "cell_type": "code",
   "execution_count": 93,
   "id": "96e3e9e5-9eb7-4bb3-92f7-7bc94e581ac4",
   "metadata": {},
   "outputs": [
    {
     "data": {
      "text/plain": [
       "'/Users/jillnaiman/MegaYolo_scanbank/binaries_model12_scanbank/1721_1_15820_p274.npz'"
      ]
     },
     "execution_count": 93,
     "metadata": {},
     "output_type": "execute_result"
    }
   ],
   "source": [
    "fnames[297]"
   ]
  },
  {
   "cell_type": "code",
   "execution_count": 94,
   "id": "54fffdfd-0386-45e7-b3d2-e00855e67ef7",
   "metadata": {},
   "outputs": [
    {
     "name": "stdout",
     "output_type": "stream",
     "text": [
      "[395 297  47]\n",
      "[]\n",
      "[]\n",
      "[]\n"
     ]
    },
    {
     "data": {
      "image/png": "[encoded data removed]",
      "text/plain": [
       "<Figure size 2160x1440 with 3 Axes>"
      ]
     },
     "metadata": {
      "needs_background": "light"
     },
     "output_type": "display_data"
    }
   ],
   "source": [
    "nr = 3\n",
    "inds = np.random.randint(0,len(boxes_true), nr)\n",
    "inds = np.array(has_obj)[np.random.randint(0,len(has_obj),nr)]\n",
    "# has figs: 716\n",
    "#inds = [184, 716, 773]\n",
    "print(inds)\n",
    "\n",
    "fig, ax = plt.subplots(1,nr,figsize=(30,20))\n",
    "\n",
    "for i,ind in enumerate(inds):\n",
    "    fn = fnames[ind].split('/')[-1].rstrip('.npz')\n",
    "    img = np.array(Image.open(images_jpeg_dir+ fn+'.jpeg').convert('RGB'))\n",
    "\n",
    "    # found in red\n",
    "    for fb,cfb in zip(boxes_found[ind],labels_found[ind]):\n",
    "        xmin1 = fb[0]/config.IMAGE_W*img.shape[1]\n",
    "        xmax1 = fb[2]/config.IMAGE_W*img.shape[1]\n",
    "        ymin1 = fb[1]/config.IMAGE_H*img.shape[0]\n",
    "        ymax1 = fb[3]/config.IMAGE_H*img.shape[0]\n",
    "        if LABELS[cfb] == 'figure':\n",
    "            cv.rectangle(img, (round(xmin1), round(ymin1)), (round(xmax1),round(ymax1)), (255, 0, 125), 20)\n",
    "        else:\n",
    "            cv.rectangle(img, (round(xmin1), round(ymin1)), (round(xmax1),round(ymax1)), (255, 0, 0), 20)  \n",
    "\n",
    "    for fb in boxes_true[ind]:\n",
    "        xmin1 = fb[0]/config.IMAGE_W*img.shape[1]\n",
    "        xmax1 = fb[2]/config.IMAGE_W*img.shape[1]\n",
    "        ymin1 = fb[1]/config.IMAGE_H*img.shape[0]\n",
    "        ymax1 = fb[3]/config.IMAGE_H*img.shape[0]\n",
    "        cv.rectangle(img, (round(xmin1), round(ymin1)), (round(xmax1),round(ymax1)), (0, 0, 255), 7)  \n",
    "        \n",
    "    # raw boxes\n",
    "    for fb in rawBoxes[ind]:\n",
    "        xmin1 = fb[0]/config.IMAGE_W*img.shape[1]\n",
    "        xmax1 = fb[2]/config.IMAGE_W*img.shape[1]\n",
    "        ymin1 = fb[1]/config.IMAGE_H*img.shape[0]\n",
    "        ymax1 = fb[3]/config.IMAGE_H*img.shape[0]\n",
    "        cv.rectangle(img, (round(xmin1), round(ymin1)), (round(xmax1),round(ymax1)), (255, 125, 0), 5)  \n",
    "\n",
    "    # sb-true boxes\n",
    "    print(sb_true_boxes1[ind])\n",
    "    for fb in sb_true_boxes1[ind]:\n",
    "        xmin1 = fb[0]/config.IMAGE_W*img.shape[1]\n",
    "        xmax1 = fb[2]/config.IMAGE_W*img.shape[1]\n",
    "        ymin1 = fb[1]/config.IMAGE_H*img.shape[0]\n",
    "        ymax1 = fb[3]/config.IMAGE_H*img.shape[0]\n",
    "        cv.rectangle(img, (round(xmin1), round(ymin1)), (round(xmax1),round(ymax1)), (0, 255, 255), 5)  \n",
    "\n",
    "        \n",
    "    ax[i].imshow(img)\n",
    "    ax[i].set_title(fn)\n",
    "\n",
    "plt.show()"
   ]
  },
  {
   "cell_type": "code",
   "execution_count": 95,
   "id": "7eb3244e-38de-4cbc-9010-4f1daa7f2797",
   "metadata": {},
   "outputs": [
    {
     "data": {
      "text/plain": [
       "([(111, 127, 397, 314)],\n",
       " [(111, 127, 397, 314, -1)],\n",
       " [(105.0, 126.0, 403.0, 317.0, 1), (105.0, 345.0, 368.0, 379.0, 2)])"
      ]
     },
     "execution_count": 95,
     "metadata": {},
     "output_type": "execute_result"
    }
   ],
   "source": [
    "#boxes_true[297]\n",
    "boxes_found[ind], rawBoxes[ind], boxes_true[ind]"
   ]
  },
  {
   "cell_type": "code",
   "execution_count": 96,
   "id": "f8cb17ff-f4ed-4394-8800-13259a5b0deb",
   "metadata": {},
   "outputs": [],
   "source": [
    "#sb_true_boxes1"
   ]
  },
  {
   "cell_type": "code",
   "execution_count": 97,
   "id": "687d7820-33b8-4923-a426-7e85b8759879",
   "metadata": {},
   "outputs": [],
   "source": [
    "# use scanbank boxes?\n",
    "use_sb_true = False\n",
    "\n",
    "if not use_sb_true:\n",
    "    TPv, FPv, FNv, totalTruev = calc_base_metrics_allboxes_cv(LABELS,scoreminVec,iouminVec,\n",
    "                                                  boxes_true,boxes_found,labels_found, \n",
    "                                                  scores_found,n_folds_cv=n_folds_cv,\n",
    "                                                             seed=seed)\n",
    "else:\n",
    "    TPv, FPv, FNv, totalTruev = calc_base_metrics_allboxes_cv(LABELS,scoreminVec,iouminVec,\n",
    "                                                  sb_true_boxes1,boxes_found,labels_found, \n",
    "                                                  scores_found,n_folds_cv=n_folds_cv,\n",
    "                                                             seed=seed)\n",
    "    \n",
    "precision, precision_std, recall, \\\n",
    "  recall_std, f1, f1_std = calc_prec_rec_f1_cv(TPv,FPv,FNv,\n",
    "                                               LABELS,scoreminVec,\n",
    "                                               iouminVec)"
   ]
  },
  {
   "cell_type": "code",
   "execution_count": 98,
   "id": "72cd2280-317e-4e2e-b63d-1099209d7fe3",
   "metadata": {},
   "outputs": [
    {
     "name": "stderr",
     "output_type": "stream",
     "text": [
      "/Users/jillnaiman/anaconda3/envs/Paper1/lib/python3.7/site-packages/ipykernel_launcher.py:29: UserWarning: You have mixed positional and keyword arguments, some input may be discarded.\n"
     ]
    },
    {
     "data": {
      "image/png": "[encoded data removed]",
      "text/plain": [
       "<Figure size 1440x720 with 9 Axes>"
      ]
     },
     "metadata": {
      "needs_background": "light"
     },
     "output_type": "display_data"
    }
   ],
   "source": [
    "if len(scoreminVec) == 1:\n",
    "    fig, ax = plt.subplots(3,len(scoreminVec),  figsize=(10,10))\n",
    "    ax = np.array([ax,ax]).T\n",
    "else:\n",
    "    fig, ax = plt.subplots(3,len(scoreminVec),  figsize=(20,10))\n",
    "\n",
    "ps = []\n",
    "for i in range(len(scoreminVec)):\n",
    "    for k in range(len(LABELS)): p1, = ax[0][i].plot(iouminVec,precision[k,i,:],'o-')\n",
    "    ps.append(p1)\n",
    "    ax[0][i].set_title('Scoremin = '+str(scoreminVec[i]))\n",
    "    ax[0][0].set_ylabel('Precision %')\n",
    "    ax[0][i].set_ylim(0,105)\n",
    "    \n",
    "    for k in range(len(LABELS)): ax[1][i].plot(iouminVec,recall[k,i,:], 'o-')\n",
    "    ax[1][0].set_ylabel('Recall %')\n",
    "    ax[1][i].set_ylim(0,105)\n",
    "    \n",
    "    for k in range(len(LABELS)): \n",
    "        ax[2][i].plot(iouminVec,f1[k,i,:], 'o-')\n",
    "        # include stddev\n",
    "        ax[2][i].fill_between(iouminVec, f1[k,i,:]-f1_std[k,i,:], f1[k,i,:]+f1_std[k,i,:], alpha=0.5)\n",
    "    \n",
    "    ax[2][0].set_ylabel('F1 %')\n",
    "    ax[2][i].set_ylim(0,105)\n",
    "        \n",
    "    ax[-1][i].set_xlabel('IOU')\n",
    "\n",
    "fig.legend(ps, labels=LABELS)\n",
    "matplotlib.rcParams.update({'font.size': 12})\n",
    "plt.show()"
   ]
  },
  {
   "cell_type": "code",
   "execution_count": 99,
   "id": "ebfcdc38-9afa-44fb-bb38-47ac91ec0643",
   "metadata": {},
   "outputs": [
    {
     "name": "stdout",
     "output_type": "stream",
     "text": [
      "SCORE =  0.1  N_CV =  5\n",
      "Metric          figure          figure caption  math formula    table          \n",
      "iou cut         0.8             0.8             0.8             0.8            \n",
      "# of objs       197             140             0               0              \n",
      "--------------------------------------------------------------------------------------------\n",
      "TP              64.5%           1.4%            nan%            nan%           \n",
      "FP              52.8%           10.0%           nan%            inf%           \n",
      "FN              19.3%           90.0%           nan%            nan%           \n",
      "--------------------------------------------------------------------------------------------\n",
      "Precision       54.9+/-7.6%     10.0+/-20.0%    0.0+/-0.0%      0.0+/-0.0%     \n",
      "Recall          76.5+/-10.1%    1.4+/-2.8%      0.0+/-0.0%      0.0+/-0.0%     \n",
      "F1              63.8+/-8.2%     2.4+/-4.8%      0.0+/-0.0%      0.0+/-0.0%     \n"
     ]
    },
    {
     "name": "stderr",
     "output_type": "stream",
     "text": [
      "../metric_utils.py:689: RuntimeWarning: invalid value encountered in double_scalars\n",
      "  out.append( str(round(TP[i]/totalTrue[i]*100,1))+'%' )\n",
      "../metric_utils.py:695: RuntimeWarning: invalid value encountered in double_scalars\n",
      "  out.append( str(round(FP[i]/totalTrue[i]*100,1))+'%' )\n",
      "../metric_utils.py:695: RuntimeWarning: divide by zero encountered in double_scalars\n",
      "  out.append( str(round(FP[i]/totalTrue[i]*100,1))+'%' )\n",
      "../metric_utils.py:701: RuntimeWarning: invalid value encountered in double_scalars\n",
      "  out.append( str(round(FN[i]/totalTrue[i]*100,1))+'%' )\n"
     ]
    }
   ],
   "source": [
    "scoremin = 0.1\n",
    "\n",
    "#Shape is: (# labels, #scores, #ious, #CV folds)\n",
    "TPs, FPs, FNs, totalTrues = calc_base_metrics_allboxes_cv(LABELS,[scoremin],[0.8,0.8,0.8,0.8],\n",
    "                                              boxes_true,boxes_found,labels_found, \n",
    "                                              scores_found,n_folds_cv=n_folds_cv,\n",
    "                                                         seed=seed)\n",
    "totalTrue = totalTrues.sum(axis=1).astype('int') # collapse onto 1 axis\n",
    "TP = np.diagonal(TPs[:,0,:,:].sum(axis=2)) # sum across all CV, then for the right IOU\n",
    "FP = np.diagonal(FPs[:,0,:,:].sum(axis=2)) # sum across all CV, then for the right IOU\n",
    "FN = np.diagonal(FNs[:,0,:,:].sum(axis=2)) # sum across all CV, then for the right IOU\n",
    "\n",
    "precisions, precision_stds, recalls, \\\n",
    "  recall_stds, f1s, f1_stds = calc_prec_rec_f1_cv(TPs,FPs,FNs,\n",
    "                                               LABELS,[scoremin],\n",
    "                                               [0.8,0.8,0.8,0.8])\n",
    "precision = np.diagonal(precisions[:,0,:]) \n",
    "precision_std = np.diagonal(precision_stds[:,0,:]) \n",
    "recall = np.diagonal(recalls[:,0,:]) \n",
    "recall_std = np.diagonal(recall_stds[:,0,:]) \n",
    "f1 = np.diagonal(f1s[:,0,:]) \n",
    "f1_std = np.diagonal(f1_stds[:,0,:]) \n",
    "\n",
    "print_metrics_table(totalTrue,TP,FP,FN,\n",
    "                        precision, precision_std, recall, recall_std,f1,f1_std,\n",
    "                        LABELS, scoremin, n_folds_cv, [0.8,0.8,0.8,0.8])"
   ]
  },
  {
   "cell_type": "code",
   "execution_count": null,
   "id": "da9416fa-6341-4f52-a5f6-e69e49abb89f",
   "metadata": {},
   "outputs": [],
   "source": []
  },
  {
   "cell_type": "code",
   "execution_count": null,
   "id": "3d4ba64f-7f05-4e10-ae9e-b8a992b303b5",
   "metadata": {},
   "outputs": [],
   "source": []
  },
  {
   "cell_type": "code",
   "execution_count": null,
   "id": "888c2b23",
   "metadata": {},
   "outputs": [],
   "source": []
  },
  {
   "cell_type": "markdown",
   "id": "8128ea78",
   "metadata": {},
   "source": [
    "## Save to .dat files if requested"
   ]
  },
  {
   "cell_type": "code",
   "execution_count": 100,
   "id": "8b8931e6",
   "metadata": {},
   "outputs": [],
   "source": [
    "import os\n",
    "adder_here = ''\n",
    "adder_dats += adder_here"
   ]
  },
  {
   "cell_type": "code",
   "execution_count": 101,
   "id": "026716ee",
   "metadata": {},
   "outputs": [
    {
     "name": "stdout",
     "output_type": "stream",
     "text": [
      "all done! saved in: /Users/jillnaiman/Dropbox/wwt_image_extraction/FigureLocalization/paper1/tables/tolatex/scanbank_on_scanbank/scanbank_on_scanbank\n"
     ]
    }
   ],
   "source": [
    "if save_dats:\n",
    "    # save too\n",
    "    #out_num_name = binary_dirs.split('/')[0]+adder_dats\n",
    "    out_num_name = adder_dats\n",
    "    num_out_file = config.save_table_dats_dir + out_num_name\n",
    "    #ioumin_per_labels = [0.1, 0.6, 0.8, 0.9, 0.95]\n",
    "    #if out_num_name != 'main':\n",
    "    if not os.path.exists(num_out_file+'/'):\n",
    "        os.makedirs(num_out_file+'/')\n",
    "    ioumin_per_labels = ioustar # just the one for our decisions\n",
    "    num_out_file += '/' + out_num_name\n",
    "    # how many labels to save up to?\n",
    "    lend = 2\n",
    "\n",
    "    n_cv_here = n_folds_cv\n",
    "    if not use_cv: n_cv_here = 1    \n",
    "    \n",
    "    # save to file\n",
    "    with open(num_out_file + '_score.dat','w') as fnum:\n",
    "        print(scorestar, file=fnum, end='')\n",
    "    with open(num_out_file + '_ncv.dat','w') as fnum:\n",
    "        print(n_folds_cv, file=fnum, end='')\n",
    "\n",
    "\n",
    "    TPv, FPv, FNv, totalTruev = calc_base_metrics_allboxes_cv(LABELS,[scorestar],ioustar,\n",
    "                                                  boxes_true,boxes_found,labels_found, \n",
    "                                                  scores_found,n_folds_cv=n_cv_here,\n",
    "                                                             seed=seed)\n",
    "\n",
    "    precision, precision_std, recall, \\\n",
    "      recall_std, f1, f1_std = calc_prec_rec_f1_cv(TPv,FPv,FNv,\n",
    "                                                   LABELS,[scorestar],\n",
    "                                                   ioustar)\n",
    "\n",
    "\n",
    "    # print out total true\n",
    "    for il,m in enumerate(totalTruev[:lend].sum(axis=-1)):\n",
    "        with open(num_out_file + '_totTrue_'+LABELS[il].replace(' ','_')+'.dat','w') as fnum:\n",
    "            print(int(m), file=fnum, end='')\n",
    "\n",
    "    # print out TP\n",
    "    for ii,iou in enumerate(ioustar):\n",
    "        iouhere = str(iou).replace('.','p')\n",
    "\n",
    "        TP = TPv[:,0,ii,:].sum(axis=-1)\n",
    "        FP = FPv[:,0,ii,:].sum(axis=-1)\n",
    "        FN = FNv[:,0,ii,:].sum(axis=-1)\n",
    "\n",
    "        for il,m in enumerate(TP[:lend]):\n",
    "            dat = str(round(m/totalTrue[il]*100,1))\n",
    "            with open(num_out_file + '_TP_'+LABELS[il].replace(' ','_')+'_iou'+iouhere+'.dat','w') as fnum:\n",
    "                print(dat, file=fnum, end='')\n",
    "\n",
    "        for il,m in enumerate(FP[:lend]):\n",
    "            dat = str(round(m/totalTrue[il]*100,1))\n",
    "            with open(num_out_file + '_FP_'+LABELS[il].replace(' ','_')+'_iou'+iouhere+'.dat','w') as fnum:\n",
    "                print(dat, file=fnum, end='')\n",
    "\n",
    "        for il,m in enumerate(FN[:lend]):\n",
    "            dat = str(round(m/totalTrue[il]*100,1))\n",
    "            with open(num_out_file + '_FN_'+LABELS[il].replace(' ','_')+'_iou'+iouhere+'.dat','w') as fnum:\n",
    "                print(dat, file=fnum, end='')\n",
    "\n",
    "        for il,m in enumerate(LABELS[:lend]):\n",
    "            if use_cv:\n",
    "                dat = str(np.round(precision[il,0,ii],1))+'$\\pm$' +str(np.round(precision_std[il,0,ii],1))\n",
    "            else:\n",
    "                dat = str(np.round(precision[il,0,ii],1))\n",
    "            with open(num_out_file + '_prec_'+LABELS[il].replace(' ','_')+'_iou'+iouhere+'.dat','w') as fnum:\n",
    "                print(dat, file=fnum, end='')\n",
    "\n",
    "        for il,m in enumerate(LABELS[:lend]):\n",
    "            if use_cv:\n",
    "                dat = str(np.round(recall[il,0,ii],1))+'$\\pm$' +str(np.round(recall_std[il,0,ii],1))\n",
    "            else:\n",
    "                dat = str(np.round(recall[il,0,ii],1))\n",
    "            with open(num_out_file + '_rec_'+LABELS[il].replace(' ','_')+'_iou'+iouhere+'.dat','w') as fnum:\n",
    "                print(dat, file=fnum, end='')\n",
    "\n",
    "        for il,m in enumerate(LABELS[:lend]):\n",
    "            if use_cv:\n",
    "                dat = str(np.round(f1[il,0,ii],1))+'$\\pm$' +str(np.round(f1_std[il,0,ii],1))\n",
    "            else:\n",
    "                dat = str(np.round(f1[il,0,ii],1))\n",
    "            with open(num_out_file + '_f1_'+LABELS[il].replace(' ','_')+'_iou'+iouhere+'.dat','w') as fnum:\n",
    "                print(dat, file=fnum, end='')\n",
    "\n",
    "    print('all done! saved in:',num_out_file)"
   ]
  },
  {
   "cell_type": "code",
   "execution_count": null,
   "id": "8bf48a7a",
   "metadata": {},
   "outputs": [],
   "source": []
  },
  {
   "cell_type": "code",
   "execution_count": null,
   "id": "1bac7134-7a27-4b30-b829-cb466e9dfef5",
   "metadata": {},
   "outputs": [],
   "source": []
  },
  {
   "cell_type": "code",
   "execution_count": null,
   "id": "f62c88b8-dfc4-4971-a296-f3ac20eea85e",
   "metadata": {},
   "outputs": [],
   "source": []
  },
  {
   "cell_type": "code",
   "execution_count": null,
   "id": "1361389c-7263-4c6b-9ea3-a6f896134c9c",
   "metadata": {},
   "outputs": [],
   "source": []
  }
 ],
 "metadata": {
  "kernelspec": {
   "display_name": "Python 3 (ipykernel)",
   "language": "python",
   "name": "python3"
  },
  "language_info": {
   "codemirror_mode": {
    "name": "ipython",
    "version": 3
   },
   "file_extension": ".py",
   "mimetype": "text/x-python",
   "name": "python",
   "nbconvert_exporter": "python",
   "pygments_lexer": "ipython3",
   "version": "3.7.12"
  }
 },
 "nbformat": 4,
 "nbformat_minor": 5
}
