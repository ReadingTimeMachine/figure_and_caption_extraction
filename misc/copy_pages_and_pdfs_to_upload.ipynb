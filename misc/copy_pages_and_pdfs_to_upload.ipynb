{
 "cells": [
  {
   "cell_type": "code",
   "execution_count": 7,
   "id": "4291429c-479a-4c8d-a1b5-471c7ba7523e",
   "metadata": {},
   "outputs": [],
   "source": [
    "filelist = '/Users/jillnaiman/Downloads/test_files.csv'\n",
    "\n",
    "# where are pdfs?\n",
    "pdfsDir = '/Users/jillnaiman/tmpADSDownloads/pdfs/'\n",
    "\n",
    "# copy to where?\n",
    "mainToDir = '/Users/jillnaiman/Downloads/tmp/toupload/'"
   ]
  },
  {
   "cell_type": "code",
   "execution_count": 11,
   "id": "e46c76ad-a49e-46ab-91d1-c5f90582bc49",
   "metadata": {},
   "outputs": [],
   "source": [
    "import pandas as pd\n",
    "import shutil\n",
    "import numpy as np"
   ]
  },
  {
   "cell_type": "code",
   "execution_count": 3,
   "id": "1ad7817f-e569-4d37-9d2b-b7637965f45e",
   "metadata": {},
   "outputs": [
    {
     "data": {
      "text/plain": [
       "array(['/Users/jillnaiman/Dropbox/wwt_image_extraction/FigureLocalization/Pages/RandomSingleFromPDFIndexed/1988ApJ___324__379S_p1.jpeg',\n",
       "       '/Users/jillnaiman/Dropbox/wwt_image_extraction/FigureLocalization/Pages/RandomSingleFromPDFIndexed/1995ApJ___438__997A_p4.jpeg',\n",
       "       '/Users/jillnaiman/Dropbox/wwt_image_extraction/FigureLocalization/Pages/RandomSingleFromPDFIndexed/1926ApJ____63__236H_p2.jpeg',\n",
       "       '/Users/jillnaiman/Dropbox/wwt_image_extraction/FigureLocalization/Pages/RandomSingleFromPDFIndexed/1936ApJ____84___14A_p13.jpeg',\n",
       "       '/Users/jillnaiman/Dropbox/wwt_image_extraction/FigureLocalization/Pages/RandomSingleFromPDFIndexed/1969AJ_____74__335W_p4.jpeg'],\n",
       "      dtype=object)"
      ]
     },
     "execution_count": 3,
     "metadata": {},
     "output_type": "execute_result"
    }
   ],
   "source": [
    "filenames = pd.read_csv(filelist)['filename'].values\n",
    "filenames[:5]"
   ]
  },
  {
   "cell_type": "code",
   "execution_count": 6,
   "id": "bc1c26e6-11d3-437c-b8b0-e0eb177eb8bf",
   "metadata": {},
   "outputs": [],
   "source": [
    "# copy files -- pages\n",
    "for f in filenames:\n",
    "    shutil.copyfile(f, mainToDir + 'pages/'+f.split('/')[-1])"
   ]
  },
  {
   "cell_type": "code",
   "execution_count": 16,
   "id": "8e76e52f-c1c1-4126-883f-a84882eb5835",
   "metadata": {},
   "outputs": [],
   "source": [
    "# copy files -- pdf\n",
    "pdfs = []\n",
    "for f in filenames:\n",
    "    p = pdfsDir + f.split('/')[-1].split('_p')[0] + '.pdf'\n",
    "    pdfs.append(p)"
   ]
  },
  {
   "cell_type": "code",
   "execution_count": 17,
   "id": "fa4d4ea9-8623-40a3-a81c-0de37ad28bde",
   "metadata": {},
   "outputs": [
    {
     "data": {
      "text/plain": [
       "(1378, 1500)"
      ]
     },
     "execution_count": 17,
     "metadata": {},
     "output_type": "execute_result"
    }
   ],
   "source": [
    "# get unique\n",
    "pdfsu = np.unique(pdfs)\n",
    "len(pdfsu),len(pdfs)"
   ]
  },
  {
   "cell_type": "code",
   "execution_count": 20,
   "id": "150ef1ab-6ede-4054-be0f-2976ad5dd07a",
   "metadata": {},
   "outputs": [
    {
     "data": {
      "text/plain": [
       "array(['/Users/jillnaiman/tmpADSDownloads/pdfs/1852AJ______2__158A.pdf',\n",
       "       '/Users/jillnaiman/tmpADSDownloads/pdfs/1895ApJ_____1__162H.pdf',\n",
       "       '/Users/jillnaiman/tmpADSDownloads/pdfs/1895ApJ_____1__416K.pdf',\n",
       "       '/Users/jillnaiman/tmpADSDownloads/pdfs/1896ApJ_____3__114H.pdf',\n",
       "       '/Users/jillnaiman/tmpADSDownloads/pdfs/1896ApJ_____4__274W.pdf'],\n",
       "      dtype='<U62')"
      ]
     },
     "execution_count": 20,
     "metadata": {},
     "output_type": "execute_result"
    }
   ],
   "source": [
    "pdfsu[:5]"
   ]
  },
  {
   "cell_type": "code",
   "execution_count": 27,
   "id": "2a0ffa8d-6c41-4226-85f8-f6e7857f3b0a",
   "metadata": {},
   "outputs": [],
   "source": [
    "# copy!\n",
    "for p in pdfsu:\n",
    "    #print(p)\n",
    "    #print(mainToDir + 'pdfs/'+p.split('/')[-1])\n",
    "    shutil.copyfile(p, mainToDir + 'pdfs/'+p.split('/')[-1])    "
   ]
  },
  {
   "cell_type": "code",
   "execution_count": null,
   "id": "9756e5f5-217f-42fb-9a3e-708b8eeeaa0e",
   "metadata": {},
   "outputs": [],
   "source": []
  }
 ],
 "metadata": {
  "kernelspec": {
   "display_name": "Python 3 (ipykernel)",
   "language": "python",
   "name": "python3"
  },
  "language_info": {
   "codemirror_mode": {
    "name": "ipython",
    "version": 3
   },
   "file_extension": ".py",
   "mimetype": "text/x-python",
   "name": "python",
   "nbconvert_exporter": "python",
   "pygments_lexer": "ipython3",
   "version": "3.7.12"
  }
 },
 "nbformat": 4,
 "nbformat_minor": 5
}
