{
 "cells": [
  {
   "cell_type": "code",
   "execution_count": 1,
   "id": "fe226668",
   "metadata": {},
   "outputs": [],
   "source": [
    "pickleFile = '/Users/jillnaiman/Dropbox/wwt_image_extraction/ClassifyingImages/pickleFiles/ids_locations_workflow1_links.pickle'"
   ]
  },
  {
   "cell_type": "code",
   "execution_count": 15,
   "id": "61cff1ab",
   "metadata": {},
   "outputs": [],
   "source": [
    "import pickle\n",
    "import numpy as np\n",
    "import json\n",
    "import pandas as pd"
   ]
  },
  {
   "cell_type": "code",
   "execution_count": 3,
   "id": "c39238c1",
   "metadata": {},
   "outputs": [],
   "source": [
    "with open(pickleFile, 'rb') as f:\n",
    "    myClass, uniqIDs, locations, conf, myClassMulti, \\\n",
    "      myClassIDs, locationsM, links, linksM = pickle.load(f)"
   ]
  },
  {
   "cell_type": "code",
   "execution_count": 4,
   "id": "96ae3f38",
   "metadata": {},
   "outputs": [],
   "source": [
    "# combine:\n",
    "linksFull = links.copy()\n",
    "linksFull.extend(linksM)"
   ]
  },
  {
   "cell_type": "code",
   "execution_count": 5,
   "id": "58811dc5",
   "metadata": {},
   "outputs": [],
   "source": [
    "# get unique articles\n",
    "arts = []\n",
    "for l in linksFull:\n",
    "    arts.append(l.split('/')[-2])"
   ]
  },
  {
   "cell_type": "code",
   "execution_count": 8,
   "id": "68969dc7",
   "metadata": {},
   "outputs": [],
   "source": [
    "uarts = np.unique(arts)"
   ]
  },
  {
   "cell_type": "code",
   "execution_count": 9,
   "id": "76022190",
   "metadata": {},
   "outputs": [
    {
     "data": {
      "text/plain": [
       "10179"
      ]
     },
     "execution_count": 9,
     "metadata": {},
     "output_type": "execute_result"
    }
   ],
   "source": [
    "len(uarts)"
   ]
  },
  {
   "cell_type": "code",
   "execution_count": 57,
   "id": "e0ce83c8",
   "metadata": {},
   "outputs": [
    {
     "data": {
      "text/plain": [
       "28349"
      ]
     },
     "execution_count": 57,
     "metadata": {},
     "output_type": "execute_result"
    }
   ],
   "source": [
    "len(np.unique(linksFull))"
   ]
  },
  {
   "cell_type": "code",
   "execution_count": 14,
   "id": "2fd6da0d",
   "metadata": {},
   "outputs": [],
   "source": [
    "# also, what about from the original workflow 1?\n",
    "wf1file = '/Users/jillnaiman/Dropbox/Consulting_WWT_Fall2018/zooniverseData/workflow-1-identifying-figure-types-classifications.csv'\n",
    "#arsidfile = '/Users/jillnaiman/Downloads/astronomy-rewind-classifications.csv'"
   ]
  },
  {
   "cell_type": "code",
   "execution_count": 16,
   "id": "49a7c092",
   "metadata": {},
   "outputs": [],
   "source": [
    "df = pd.read_csv(wf1file)"
   ]
  },
  {
   "cell_type": "code",
   "execution_count": 18,
   "id": "91cd7a0a",
   "metadata": {},
   "outputs": [
    {
     "data": {
      "text/html": [
       "<div>\n",
       "<style scoped>\n",
       "    .dataframe tbody tr th:only-of-type {\n",
       "        vertical-align: middle;\n",
       "    }\n",
       "\n",
       "    .dataframe tbody tr th {\n",
       "        vertical-align: top;\n",
       "    }\n",
       "\n",
       "    .dataframe thead th {\n",
       "        text-align: right;\n",
       "    }\n",
       "</style>\n",
       "<table border=\"1\" class=\"dataframe\">\n",
       "  <thead>\n",
       "    <tr style=\"text-align: right;\">\n",
       "      <th></th>\n",
       "      <th>classification_id</th>\n",
       "      <th>user_name</th>\n",
       "      <th>user_id</th>\n",
       "      <th>user_ip</th>\n",
       "      <th>workflow_id</th>\n",
       "      <th>workflow_name</th>\n",
       "      <th>workflow_version</th>\n",
       "      <th>created_at</th>\n",
       "      <th>gold_standard</th>\n",
       "      <th>expert</th>\n",
       "      <th>metadata</th>\n",
       "      <th>annotations</th>\n",
       "      <th>subject_data</th>\n",
       "      <th>subject_ids</th>\n",
       "    </tr>\n",
       "  </thead>\n",
       "  <tbody>\n",
       "    <tr>\n",
       "      <th>0</th>\n",
       "      <td>10764799</td>\n",
       "      <td>abans</td>\n",
       "      <td>829803.0</td>\n",
       "      <td>c8c3a7221b7c97b08c5e</td>\n",
       "      <td>1701</td>\n",
       "      <td>Workflow 1: Identifying figure types</td>\n",
       "      <td>9.24</td>\n",
       "      <td>2016-03-23 15:53:30 UTC</td>\n",
       "      <td>NaN</td>\n",
       "      <td>NaN</td>\n",
       "      <td>{\"session\":\"eac11479b0423d7cd5a2e70e78baba45e0...</td>\n",
       "      <td>[{\"task\":\"init\",\"task_label\":\"What types of fi...</td>\n",
       "      <td>{\"1523125\":{\"retired\":null,\"Date\":\"1/4/15\",\"Jo...</td>\n",
       "      <td>1523125</td>\n",
       "    </tr>\n",
       "    <tr>\n",
       "      <th>1</th>\n",
       "      <td>10764809</td>\n",
       "      <td>abans</td>\n",
       "      <td>829803.0</td>\n",
       "      <td>c8c3a7221b7c97b08c5e</td>\n",
       "      <td>1701</td>\n",
       "      <td>Workflow 1: Identifying figure types</td>\n",
       "      <td>9.24</td>\n",
       "      <td>2016-03-23 15:53:47 UTC</td>\n",
       "      <td>NaN</td>\n",
       "      <td>NaN</td>\n",
       "      <td>{\"session\":\"eac11479b0423d7cd5a2e70e78baba45e0...</td>\n",
       "      <td>[{\"task\":\"init\",\"task_label\":\"What types of fi...</td>\n",
       "      <td>{\"1523122\":{\"retired\":null,\"Date\":\"1/1/15\",\"Jo...</td>\n",
       "      <td>1523122</td>\n",
       "    </tr>\n",
       "    <tr>\n",
       "      <th>2</th>\n",
       "      <td>10764817</td>\n",
       "      <td>abans</td>\n",
       "      <td>829803.0</td>\n",
       "      <td>c8c3a7221b7c97b08c5e</td>\n",
       "      <td>1701</td>\n",
       "      <td>Workflow 1: Identifying figure types</td>\n",
       "      <td>9.24</td>\n",
       "      <td>2016-03-23 15:54:03 UTC</td>\n",
       "      <td>NaN</td>\n",
       "      <td>NaN</td>\n",
       "      <td>{\"session\":\"eac11479b0423d7cd5a2e70e78baba45e0...</td>\n",
       "      <td>[{\"task\":\"init\",\"task_label\":\"What types of fi...</td>\n",
       "      <td>{\"1523127\":{\"retired\":null,\"Date\":\"1/6/15\",\"Jo...</td>\n",
       "      <td>1523127</td>\n",
       "    </tr>\n",
       "    <tr>\n",
       "      <th>3</th>\n",
       "      <td>10764837</td>\n",
       "      <td>abans</td>\n",
       "      <td>829803.0</td>\n",
       "      <td>c8c3a7221b7c97b08c5e</td>\n",
       "      <td>1701</td>\n",
       "      <td>Workflow 1: Identifying figure types</td>\n",
       "      <td>9.24</td>\n",
       "      <td>2016-03-23 15:54:55 UTC</td>\n",
       "      <td>NaN</td>\n",
       "      <td>NaN</td>\n",
       "      <td>{\"session\":\"eac11479b0423d7cd5a2e70e78baba45e0...</td>\n",
       "      <td>[{\"task\":\"init\",\"task_label\":\"What types of fi...</td>\n",
       "      <td>{\"1523126\":{\"retired\":null,\"Date\":\"1/5/15\",\"Jo...</td>\n",
       "      <td>1523126</td>\n",
       "    </tr>\n",
       "    <tr>\n",
       "      <th>4</th>\n",
       "      <td>10764845</td>\n",
       "      <td>abans</td>\n",
       "      <td>829803.0</td>\n",
       "      <td>c8c3a7221b7c97b08c5e</td>\n",
       "      <td>1701</td>\n",
       "      <td>Workflow 1: Identifying figure types</td>\n",
       "      <td>9.24</td>\n",
       "      <td>2016-03-23 15:55:12 UTC</td>\n",
       "      <td>NaN</td>\n",
       "      <td>NaN</td>\n",
       "      <td>{\"session\":\"eac11479b0423d7cd5a2e70e78baba45e0...</td>\n",
       "      <td>[{\"task\":\"init\",\"task_label\":\"What types of fi...</td>\n",
       "      <td>{\"1523129\":{\"retired\":null,\"Date\":\"1/8/15\",\"Jo...</td>\n",
       "      <td>1523129</td>\n",
       "    </tr>\n",
       "  </tbody>\n",
       "</table>\n",
       "</div>"
      ],
      "text/plain": [
       "   classification_id user_name   user_id               user_ip  workflow_id  \\\n",
       "0           10764799     abans  829803.0  c8c3a7221b7c97b08c5e         1701   \n",
       "1           10764809     abans  829803.0  c8c3a7221b7c97b08c5e         1701   \n",
       "2           10764817     abans  829803.0  c8c3a7221b7c97b08c5e         1701   \n",
       "3           10764837     abans  829803.0  c8c3a7221b7c97b08c5e         1701   \n",
       "4           10764845     abans  829803.0  c8c3a7221b7c97b08c5e         1701   \n",
       "\n",
       "                          workflow_name  workflow_version  \\\n",
       "0  Workflow 1: Identifying figure types              9.24   \n",
       "1  Workflow 1: Identifying figure types              9.24   \n",
       "2  Workflow 1: Identifying figure types              9.24   \n",
       "3  Workflow 1: Identifying figure types              9.24   \n",
       "4  Workflow 1: Identifying figure types              9.24   \n",
       "\n",
       "                created_at  gold_standard  expert  \\\n",
       "0  2016-03-23 15:53:30 UTC            NaN     NaN   \n",
       "1  2016-03-23 15:53:47 UTC            NaN     NaN   \n",
       "2  2016-03-23 15:54:03 UTC            NaN     NaN   \n",
       "3  2016-03-23 15:54:55 UTC            NaN     NaN   \n",
       "4  2016-03-23 15:55:12 UTC            NaN     NaN   \n",
       "\n",
       "                                            metadata  \\\n",
       "0  {\"session\":\"eac11479b0423d7cd5a2e70e78baba45e0...   \n",
       "1  {\"session\":\"eac11479b0423d7cd5a2e70e78baba45e0...   \n",
       "2  {\"session\":\"eac11479b0423d7cd5a2e70e78baba45e0...   \n",
       "3  {\"session\":\"eac11479b0423d7cd5a2e70e78baba45e0...   \n",
       "4  {\"session\":\"eac11479b0423d7cd5a2e70e78baba45e0...   \n",
       "\n",
       "                                         annotations  \\\n",
       "0  [{\"task\":\"init\",\"task_label\":\"What types of fi...   \n",
       "1  [{\"task\":\"init\",\"task_label\":\"What types of fi...   \n",
       "2  [{\"task\":\"init\",\"task_label\":\"What types of fi...   \n",
       "3  [{\"task\":\"init\",\"task_label\":\"What types of fi...   \n",
       "4  [{\"task\":\"init\",\"task_label\":\"What types of fi...   \n",
       "\n",
       "                                        subject_data  subject_ids  \n",
       "0  {\"1523125\":{\"retired\":null,\"Date\":\"1/4/15\",\"Jo...      1523125  \n",
       "1  {\"1523122\":{\"retired\":null,\"Date\":\"1/1/15\",\"Jo...      1523122  \n",
       "2  {\"1523127\":{\"retired\":null,\"Date\":\"1/6/15\",\"Jo...      1523127  \n",
       "3  {\"1523126\":{\"retired\":null,\"Date\":\"1/5/15\",\"Jo...      1523126  \n",
       "4  {\"1523129\":{\"retired\":null,\"Date\":\"1/8/15\",\"Jo...      1523129  "
      ]
     },
     "execution_count": 18,
     "metadata": {},
     "output_type": "execute_result"
    }
   ],
   "source": [
    "df.head()"
   ]
  },
  {
   "cell_type": "code",
   "execution_count": 53,
   "id": "bc280d3d",
   "metadata": {},
   "outputs": [],
   "source": [
    "# get articles\n",
    "wf1arts = []\n",
    "for d in df['subject_data']:\n",
    "    dj = json.loads(d)\n",
    "    for k in dj.keys():\n",
    "        # inconsistent storage of names\n",
    "        if 'filename' in dj[k]:\n",
    "            fn = dj[k]['filename']\n",
    "            wf1arts.append(fn.split('-')[0])\n",
    "        elif 'bibcode' in dj[k]:\n",
    "            wf1arts.append(dj[k]['bibcode'])\n",
    "        elif 'Bibcode' in dj[k]:\n",
    "            wf1arts.append(dj[k]['Bibcode'])\n",
    "        else:\n",
    "            print('nope')\n",
    "            import sys; sys.exit()"
   ]
  },
  {
   "cell_type": "code",
   "execution_count": 56,
   "id": "a827a58a",
   "metadata": {},
   "outputs": [
    {
     "data": {
      "text/plain": [
       "10212"
      ]
     },
     "execution_count": 56,
     "metadata": {},
     "output_type": "execute_result"
    }
   ],
   "source": [
    "wf1artsu = np.unique(wf1arts)\n",
    "len(wf1artsu)"
   ]
  },
  {
   "cell_type": "code",
   "execution_count": 60,
   "id": "bbd7251d",
   "metadata": {},
   "outputs": [],
   "source": [
    "# more info about workflow 2 as well\n",
    "wf2file = '/Users/jillnaiman/Dropbox/Consulting_WWT_Fall2018/zooniverseData/workflow-2a-single-sky-images-with-axes-labeled-classifications_20190909.csv'"
   ]
  },
  {
   "cell_type": "code",
   "execution_count": 61,
   "id": "51a9b540",
   "metadata": {},
   "outputs": [],
   "source": [
    "df2 = pd.read_csv(wf2file)"
   ]
  },
  {
   "cell_type": "code",
   "execution_count": 63,
   "id": "e2903658",
   "metadata": {},
   "outputs": [
    {
     "data": {
      "text/html": [
       "<div>\n",
       "<style scoped>\n",
       "    .dataframe tbody tr th:only-of-type {\n",
       "        vertical-align: middle;\n",
       "    }\n",
       "\n",
       "    .dataframe tbody tr th {\n",
       "        vertical-align: top;\n",
       "    }\n",
       "\n",
       "    .dataframe thead th {\n",
       "        text-align: right;\n",
       "    }\n",
       "</style>\n",
       "<table border=\"1\" class=\"dataframe\">\n",
       "  <thead>\n",
       "    <tr style=\"text-align: right;\">\n",
       "      <th></th>\n",
       "      <th>classification_id</th>\n",
       "      <th>user_name</th>\n",
       "      <th>user_id</th>\n",
       "      <th>user_ip</th>\n",
       "      <th>workflow_id</th>\n",
       "      <th>workflow_name</th>\n",
       "      <th>workflow_version</th>\n",
       "      <th>created_at</th>\n",
       "      <th>gold_standard</th>\n",
       "      <th>expert</th>\n",
       "      <th>metadata</th>\n",
       "      <th>annotations</th>\n",
       "      <th>subject_data</th>\n",
       "      <th>subject_ids</th>\n",
       "    </tr>\n",
       "  </thead>\n",
       "  <tbody>\n",
       "    <tr>\n",
       "      <th>0</th>\n",
       "      <td>10764765</td>\n",
       "      <td>abans</td>\n",
       "      <td>829803.0</td>\n",
       "      <td>44c89f0ef3cdede16cc0</td>\n",
       "      <td>1700</td>\n",
       "      <td>Workflow 2a: Single sky images with axes labeled</td>\n",
       "      <td>95.119</td>\n",
       "      <td>2016-03-23 15:52:33 UTC</td>\n",
       "      <td>NaN</td>\n",
       "      <td>NaN</td>\n",
       "      <td>{\"session\":\"eac11479b0423d7cd5a2e70e78baba45e0...</td>\n",
       "      <td>[{\"task\":\"init\",\"task_label\":\"How many of the ...</td>\n",
       "      <td>{\"1523127\":{\"retired\":null,\"Date\":\"1/6/15\",\"Jo...</td>\n",
       "      <td>1523127</td>\n",
       "    </tr>\n",
       "    <tr>\n",
       "      <th>1</th>\n",
       "      <td>10769518</td>\n",
       "      <td>wgranger</td>\n",
       "      <td>1452299.0</td>\n",
       "      <td>450c10db197488e60f31</td>\n",
       "      <td>1700</td>\n",
       "      <td>Workflow 2a: Single sky images with axes labeled</td>\n",
       "      <td>95.119</td>\n",
       "      <td>2016-03-23 18:51:44 UTC</td>\n",
       "      <td>NaN</td>\n",
       "      <td>NaN</td>\n",
       "      <td>{\"session\":\"9a611c7b4d59c90cc64a03e8a7b2030ef0...</td>\n",
       "      <td>[{\"task\":\"init\",\"task_label\":\"How many of the ...</td>\n",
       "      <td>{\"1523125\":{\"retired\":null,\"Date\":\"1/4/15\",\"Jo...</td>\n",
       "      <td>1523125</td>\n",
       "    </tr>\n",
       "    <tr>\n",
       "      <th>2</th>\n",
       "      <td>10769523</td>\n",
       "      <td>wgranger</td>\n",
       "      <td>1452299.0</td>\n",
       "      <td>450c10db197488e60f31</td>\n",
       "      <td>1700</td>\n",
       "      <td>Workflow 2a: Single sky images with axes labeled</td>\n",
       "      <td>95.119</td>\n",
       "      <td>2016-03-23 18:51:56 UTC</td>\n",
       "      <td>NaN</td>\n",
       "      <td>NaN</td>\n",
       "      <td>{\"session\":\"9a611c7b4d59c90cc64a03e8a7b2030ef0...</td>\n",
       "      <td>[{\"task\":\"init\",\"task_label\":\"How many of the ...</td>\n",
       "      <td>{\"1523126\":{\"retired\":null,\"Date\":\"1/5/15\",\"Jo...</td>\n",
       "      <td>1523126</td>\n",
       "    </tr>\n",
       "    <tr>\n",
       "      <th>3</th>\n",
       "      <td>10769525</td>\n",
       "      <td>wgranger</td>\n",
       "      <td>1452299.0</td>\n",
       "      <td>450c10db197488e60f31</td>\n",
       "      <td>1700</td>\n",
       "      <td>Workflow 2a: Single sky images with axes labeled</td>\n",
       "      <td>95.119</td>\n",
       "      <td>2016-03-23 18:52:05 UTC</td>\n",
       "      <td>NaN</td>\n",
       "      <td>NaN</td>\n",
       "      <td>{\"session\":\"9a611c7b4d59c90cc64a03e8a7b2030ef0...</td>\n",
       "      <td>[{\"task\":\"init\",\"task_label\":\"How many of the ...</td>\n",
       "      <td>{\"1523127\":{\"retired\":null,\"Date\":\"1/6/15\",\"Jo...</td>\n",
       "      <td>1523127</td>\n",
       "    </tr>\n",
       "    <tr>\n",
       "      <th>4</th>\n",
       "      <td>10811568</td>\n",
       "      <td>wgranger</td>\n",
       "      <td>1452299.0</td>\n",
       "      <td>44c89f0ef3cdede16cc0</td>\n",
       "      <td>1700</td>\n",
       "      <td>Workflow 2a: Single sky images with axes labeled</td>\n",
       "      <td>95.119</td>\n",
       "      <td>2016-03-25 15:54:48 UTC</td>\n",
       "      <td>NaN</td>\n",
       "      <td>NaN</td>\n",
       "      <td>{\"session\":\"6c658da2b38f392f63ba71c309c80ee6f0...</td>\n",
       "      <td>[{\"task\":\"init\",\"task_label\":\"How many of the ...</td>\n",
       "      <td>{\"1523123\":{\"retired\":null,\"Date\":\"1/2/15\",\"Jo...</td>\n",
       "      <td>1523123</td>\n",
       "    </tr>\n",
       "  </tbody>\n",
       "</table>\n",
       "</div>"
      ],
      "text/plain": [
       "   classification_id user_name    user_id               user_ip  workflow_id  \\\n",
       "0           10764765     abans   829803.0  44c89f0ef3cdede16cc0         1700   \n",
       "1           10769518  wgranger  1452299.0  450c10db197488e60f31         1700   \n",
       "2           10769523  wgranger  1452299.0  450c10db197488e60f31         1700   \n",
       "3           10769525  wgranger  1452299.0  450c10db197488e60f31         1700   \n",
       "4           10811568  wgranger  1452299.0  44c89f0ef3cdede16cc0         1700   \n",
       "\n",
       "                                      workflow_name  workflow_version  \\\n",
       "0  Workflow 2a: Single sky images with axes labeled            95.119   \n",
       "1  Workflow 2a: Single sky images with axes labeled            95.119   \n",
       "2  Workflow 2a: Single sky images with axes labeled            95.119   \n",
       "3  Workflow 2a: Single sky images with axes labeled            95.119   \n",
       "4  Workflow 2a: Single sky images with axes labeled            95.119   \n",
       "\n",
       "                created_at  gold_standard  expert  \\\n",
       "0  2016-03-23 15:52:33 UTC            NaN     NaN   \n",
       "1  2016-03-23 18:51:44 UTC            NaN     NaN   \n",
       "2  2016-03-23 18:51:56 UTC            NaN     NaN   \n",
       "3  2016-03-23 18:52:05 UTC            NaN     NaN   \n",
       "4  2016-03-25 15:54:48 UTC            NaN     NaN   \n",
       "\n",
       "                                            metadata  \\\n",
       "0  {\"session\":\"eac11479b0423d7cd5a2e70e78baba45e0...   \n",
       "1  {\"session\":\"9a611c7b4d59c90cc64a03e8a7b2030ef0...   \n",
       "2  {\"session\":\"9a611c7b4d59c90cc64a03e8a7b2030ef0...   \n",
       "3  {\"session\":\"9a611c7b4d59c90cc64a03e8a7b2030ef0...   \n",
       "4  {\"session\":\"6c658da2b38f392f63ba71c309c80ee6f0...   \n",
       "\n",
       "                                         annotations  \\\n",
       "0  [{\"task\":\"init\",\"task_label\":\"How many of the ...   \n",
       "1  [{\"task\":\"init\",\"task_label\":\"How many of the ...   \n",
       "2  [{\"task\":\"init\",\"task_label\":\"How many of the ...   \n",
       "3  [{\"task\":\"init\",\"task_label\":\"How many of the ...   \n",
       "4  [{\"task\":\"init\",\"task_label\":\"How many of the ...   \n",
       "\n",
       "                                        subject_data  subject_ids  \n",
       "0  {\"1523127\":{\"retired\":null,\"Date\":\"1/6/15\",\"Jo...      1523127  \n",
       "1  {\"1523125\":{\"retired\":null,\"Date\":\"1/4/15\",\"Jo...      1523125  \n",
       "2  {\"1523126\":{\"retired\":null,\"Date\":\"1/5/15\",\"Jo...      1523126  \n",
       "3  {\"1523127\":{\"retired\":null,\"Date\":\"1/6/15\",\"Jo...      1523127  \n",
       "4  {\"1523123\":{\"retired\":null,\"Date\":\"1/2/15\",\"Jo...      1523123  "
      ]
     },
     "execution_count": 63,
     "metadata": {},
     "output_type": "execute_result"
    }
   ],
   "source": [
    "df2.head()"
   ]
  },
  {
   "cell_type": "code",
   "execution_count": 64,
   "id": "f17103b2",
   "metadata": {},
   "outputs": [
    {
     "data": {
      "text/plain": [
       "classification_id                                            156796773\n",
       "user_name                                                      Quarkgc\n",
       "user_id                                                    1.44088e+06\n",
       "user_ip                                           e2650f3d67a41b4956e0\n",
       "workflow_id                                                       1700\n",
       "workflow_name         Workflow 2a: Single sky images with axes labeled\n",
       "workflow_version                                               156.269\n",
       "created_at                                     2019-03-31 17:10:29 UTC\n",
       "gold_standard                                                      NaN\n",
       "expert                                                             NaN\n",
       "metadata             {\"source\":\"api\",\"session\":\"bd2816f77836ee2831b...\n",
       "annotations          [{\"task\":\"T7\",\"task_label\":\"![skyfigureMarked-...\n",
       "subject_data         {\"7821504\":{\"retired\":null,\"id\":\"851\",\"Title\":...\n",
       "subject_ids                                                    7821504\n",
       "Name: 12973, dtype: object"
      ]
     },
     "execution_count": 64,
     "metadata": {},
     "output_type": "execute_result"
    }
   ],
   "source": [
    "df2.iloc[-2]"
   ]
  },
  {
   "cell_type": "code",
   "execution_count": 65,
   "id": "9d8a125d",
   "metadata": {},
   "outputs": [
    {
     "data": {
      "text/plain": [
       "'{\"source\":\"api\",\"session\":\"bd2816f77836ee2831bdb3a6cff415a56473501a0be4d9f5e936934d60545ff2\",\"viewport\":{\"width\":1472,\"height\":702},\"started_at\":\"2019-03-31T17:07:26.640Z\",\"user_agent\":\"Mozilla/5.0 (Windows NT 10.0; Win64; x64; rv:66.0) Gecko/20100101 Firefox/66.0\",\"utc_offset\":\"-7200\",\"finished_at\":\"2019-03-31T17:10:28.529Z\",\"live_project\":true,\"interventions\":{\"opt_in\":true,\"message\":false},\"user_language\":\"en\",\"user_group_ids\":[],\"subject_dimensions\":[{\"clientWidth\":435,\"clientHeight\":632,\"naturalWidth\":2272,\"naturalHeight\":3300}],\"subject_selection_state\":{\"retired\":false,\"already_seen\":false,\"selection_state\":\"normal\",\"finished_workflow\":false,\"user_has_finished_workflow\":false},\"workflow_translation_id\":null}'"
      ]
     },
     "execution_count": 65,
     "metadata": {},
     "output_type": "execute_result"
    }
   ],
   "source": [
    "df2.iloc[-2]['metadata']"
   ]
  },
  {
   "cell_type": "code",
   "execution_count": 66,
   "id": "a75bce6b",
   "metadata": {},
   "outputs": [
    {
     "data": {
      "text/plain": [
       "'[{\"task\":\"T7\",\"task_label\":\"![skyfigureMarked-v2.jpeg](https://panoptes-uploads.zooniverse.org/production/project_attached_image/896a543d-0dd9-4795-a294-be53288026df.jpeg =200x)\\\\nDraw a rectangle around a single sky figure **with axes labeled**. \\\\nDraw a separate rectangle around the relevant caption, if present. \",\"value\":[{\"x\":278.017333984375,\"y\":142.286376953125,\"tool\":0,\"frame\":0,\"width\":804.114013671875,\"height\":960.759521484375,\"details\":[],\"tool_label\":\"Rectangle tool\"},{\"x\":63.93505859375,\"y\":1280.57763671875,\"tool\":0,\"frame\":0,\"width\":1054.746826171875,\"height\":130.537841796875,\"details\":[],\"tool_label\":\"Rectangle tool\"}]},{\"task\":\"T5\",\"task_label\":\"![radeclabels.jpg](https://panoptes-uploads.zooniverse.org/production/project_attached_image/bce3079b-4748-422b-9698-e7018fe1da61.jpeg =350x)\\\\n\\\\nUse the tool to mark and transcribe the first and last number labeled on the x and y-axis, outside the rectangle, as shown above. \\\\n\\\\nNote: In the example above, the left-hand value on the x-axis is transcribed as 23 25 40 and the right-hand value on the x-axis is transcribed as 23 25 0. **Do** include the inferred initial values (in this case: 23 25), even if they\\'re not labeled on the figure.  \\\\n\\\\nUse the Zoom as needed.\",\"value\":[{\"x\":264.267333984375,\"y\":1139.596435546875,\"tool\":0,\"frame\":0,\"details\":[{\"value\":\"3h19\\'20\\'\\'\"}],\"tool_label\":\"Marking+transcription tool\"},{\"x\":969.17236328125,\"y\":1144.818115234375,\"tool\":0,\"frame\":0,\"details\":[{\"value\":\"3h17\\'20\\'\\'\"}],\"tool_label\":\"Marking+transcription tool\"},{\"x\":196.3875732421875,\"y\":1009.05859375,\"tool\":0,\"frame\":0,\"details\":[{\"value\":\"-68°36\\'\"}],\"tool_label\":\"Marking+transcription tool\"},{\"x\":227.7166748046875,\"y\":157.950927734375,\"tool\":0,\"frame\":0,\"details\":[{\"value\":\"-66°21\\'\"}],\"tool_label\":\"Marking+transcription tool\"}]},{\"task\":\"T6\",\"task_label\":\"![labelingUnits.jpg](https://panoptes-uploads.zooniverse.org/production/project_attached_image/92e17f27-2b61-41ad-8337-6573f3901ca1.jpeg =300x)\\\\n\\\\nUse the tool to mark the location of any units labeled (as shown above). Do this for both axes, if present.\\\\n\\\\nUse the Zoom as needed.\\\\n\\\\nIf the sky figure you\\'ve marked does not have labeled units, click \\'Done\\'.\",\"value\":[{\"x\":690.517333984375,\"y\":1164.6597900390625,\"tool\":0,\"frame\":0,\"details\":[{\"value\":0}],\"tool_label\":\"Marking tool\"},{\"x\":95.26416015625,\"y\":637.286376953125,\"tool\":0,\"frame\":0,\"details\":[{\"value\":2}],\"tool_label\":\"Marking tool\"}]}]'"
      ]
     },
     "execution_count": 66,
     "metadata": {},
     "output_type": "execute_result"
    }
   ],
   "source": [
    "df2.iloc[-2]['annotations']"
   ]
  },
  {
   "cell_type": "code",
   "execution_count": 67,
   "id": "7df88bc2",
   "metadata": {},
   "outputs": [
    {
     "data": {
      "text/plain": [
       "classification_id                                            156795844\n",
       "user_name                                                      Quarkgc\n",
       "user_id                                                    1.44088e+06\n",
       "user_ip                                           e2650f3d67a41b4956e0\n",
       "workflow_id                                                       1700\n",
       "workflow_name         Workflow 2a: Single sky images with axes labeled\n",
       "workflow_version                                               156.269\n",
       "created_at                                     2019-03-31 17:06:07 UTC\n",
       "gold_standard                                                      NaN\n",
       "expert                                                             NaN\n",
       "metadata             {\"source\":\"api\",\"session\":\"bd2816f77836ee2831b...\n",
       "annotations          [{\"task\":\"T7\",\"task_label\":\"![skyfigureMarked-...\n",
       "subject_data         {\"7841512\":{\"retired\":null,\"id\":\"468\",\"Title\":...\n",
       "subject_ids                                                    7841512\n",
       "Name: 12972, dtype: object"
      ]
     },
     "execution_count": 67,
     "metadata": {},
     "output_type": "execute_result"
    }
   ],
   "source": [
    "df2.iloc[-3]"
   ]
  },
  {
   "cell_type": "code",
   "execution_count": null,
   "id": "41ee49e7",
   "metadata": {},
   "outputs": [],
   "source": []
  }
 ],
 "metadata": {
  "kernelspec": {
   "display_name": "Python 3",
   "language": "python",
   "name": "python3"
  },
  "language_info": {
   "codemirror_mode": {
    "name": "ipython",
    "version": 3
   },
   "file_extension": ".py",
   "mimetype": "text/x-python",
   "name": "python",
   "nbconvert_exporter": "python",
   "pygments_lexer": "ipython3",
   "version": "3.7.10"
  }
 },
 "nbformat": 4,
 "nbformat_minor": 5
}
