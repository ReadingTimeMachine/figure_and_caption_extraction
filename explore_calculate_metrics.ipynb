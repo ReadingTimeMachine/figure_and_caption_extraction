{
 "cells": [
  {
   "cell_type": "markdown",
   "id": "4b190a5b-34c7-427f-87e8-7cdf6e0aa159",
   "metadata": {
    "tags": []
   },
   "source": [
    "## Explore and Calculate Metrics\n",
    "\n",
    "Here we calculate metrics for final post-processed boxes and can look at how those metrics change with other steps in the post processing, if you want to."
   ]
  },
  {
   "cell_type": "code",
   "execution_count": 1,
   "id": "fbddb717-825f-484f-b9d9-241cd3295893",
   "metadata": {},
   "outputs": [],
   "source": [
    "# which metric file?\n",
    "binary_dirs = 'binaries_model1/'"
   ]
  },
  {
   "cell_type": "markdown",
   "id": "1dd07b34-7e10-4609-9ab7-21ed7fa10478",
   "metadata": {},
   "source": [
    "How do we want to quantify how well we are doing?"
   ]
  },
  {
   "cell_type": "code",
   "execution_count": 2,
   "id": "e70cf3a3-7bad-4293-95f9-34375b8f77f2",
   "metadata": {},
   "outputs": [],
   "source": [
    "n_folds_cv = 5 # for calculating the spread in our metrics, we we'll do a CV\n",
    "scoreminVec = [0.1, 0.5, 0.9] # list of minimum box \"scores\"\n",
    "iouminVec = [0.1, 0.5, 0.6, 0.7, 0.75, 0.8, 0.9, 0.95] # list of IOU cut offs we want to explore"
   ]
  },
  {
   "cell_type": "code",
   "execution_count": 3,
   "id": "147a72b5-3a3e-4879-bf93-cacccb67ab57",
   "metadata": {},
   "outputs": [],
   "source": [
    "import pickle\n",
    "import config\n",
    "import numpy as np\n",
    "import matplotlib.pyplot as plt\n",
    "import matplotlib\n",
    "from metric_utils import calc_base_metrics_allboxes_cv, calc_prec_rec_f1_cv"
   ]
  },
  {
   "cell_type": "code",
   "execution_count": 4,
   "id": "196fb4fb-9925-48e1-be6e-7ef074b05fd3",
   "metadata": {},
   "outputs": [],
   "source": [
    "# build up filename\n",
    "pp = config.metric_results_dir\n",
    "pp += binary_dirs.split('/')[-1]\n",
    "pp += '.pickle'\n",
    "with open(pp, 'rb') as ff:\n",
    "    icombo,imgs_name, truebox, pdfboxes, pdfrawboxes, captionText_figcap,\\\n",
    "                 bbox_figcap_pars,\\\n",
    "                 sboxes_cleaned, slabels_cleaned, sscores_cleaned,\\\n",
    "                 boxes_pdf, labels_pdf, scores_pdf,\\\n",
    "                 boxes_heur, labels_heur, scores_heur,\\\n",
    "                 boxes_heur2, labels_heur2, scores_heur2,\\\n",
    "                 boxes_par_found, labels_par_found, scores_par_found,\\\n",
    "                 boxes_sq1, labels_sq1, scores_sq1,\\\n",
    "                 boxes_sq2, labels_sq2, scores_sq2,\\\n",
    "                 boxes_sq3, labels_sq3, scores_sq3,\\\n",
    "                 boxes_sq4, labels_sq4, scores_sq4,\\\n",
    "                 truebox1,truebox2,rotatedImage,LABELS = pickle.load(ff)\n",
    "    \n",
    "    \n",
    "# compare to old and find diffs\n",
    "other_type = '/Users/jillnaiman/Dropbox/wwt_image_extraction/FigureLocalization/OCR_processing/mega_yolov5_withCaptionCleaning_kh7kv3_b3x3_model1.pickle'\n",
    "with open(other_type, 'rb') as f:\n",
    "    icombos,TPa,FPa,FNa,MC,TH,TTa,TPyear,FPyear,\\\n",
    "                 FNyear,MCyear,THyear,TTyear,years,year,\\\n",
    "                 n_folds_cv,k_cv, iouminVeca, scoreminVeca, \\\n",
    "                save_scores, save_ious, \\\n",
    "                 TPva, FPva, FNva, MISSCLASSva, THROWNOUTva, totalTrueva,\\\n",
    "                TPyears, FPyears, FNyears, MISSCLASSyears, THROWNOUTyears, totalTrueyears, \\\n",
    "                 boxes, labels, scores, \\\n",
    "                founds, trues, fnames, founds2, trues2, rotatedImages, tfpairs = pickle.load(f)\n"
   ]
  },
  {
   "cell_type": "code",
   "execution_count": 76,
   "id": "51608b17-3870-405b-8b45-90b4f5aa7d6f",
   "metadata": {},
   "outputs": [
    {
     "ename": "SystemExit",
     "evalue": "",
     "output_type": "error",
     "traceback": [
      "An exception has occurred, use %tb to see the full traceback.\n",
      "\u001b[0;31mSystemExit\u001b[0m\n"
     ]
    }
   ],
   "source": [
    "for i,(bs, f) in enumerate(zip(boxes_sq4,founds)):\n",
    "    yes = False\n",
    "    for b1 in bs:\n",
    "        for ff in f[0]:\n",
    "            if (np.array(b1) == ff).all():\n",
    "                yes=True\n",
    "                continue\n",
    "    if len(bs)==0 and len(f[0])==0: yes=True\n",
    "    if not yes:\n",
    "        print('nope',i,fnames[i],imgs_name[i])\n",
    "        print(bs)\n",
    "        print(f[0])\n",
    "        import sys; sys.exit()\n",
    "    if i==1: import sys; sys.exit()"
   ]
  },
  {
   "cell_type": "code",
   "execution_count": 78,
   "id": "2a6121f0-8a02-4099-8741-78bd7dac6f5f",
   "metadata": {},
   "outputs": [
    {
     "data": {
      "text/plain": [
       "('1898ApJ_____8__252T_p0',\n",
       " '/Users/jillnaiman/MegaYolo/binaries_model1/1898ApJ_____8__252T_p0.npz')"
      ]
     },
     "execution_count": 78,
     "metadata": {},
     "output_type": "execute_result"
    }
   ],
   "source": [
    "fnames[1],imgs_name[1]"
   ]
  },
  {
   "cell_type": "code",
   "execution_count": 77,
   "id": "7d943a83-015d-4e6e-8484-13f5254b4db9",
   "metadata": {},
   "outputs": [
    {
     "data": {
      "text/plain": [
       "([array([114.44705882, 328.14545455, 399.76156863, 335.12727273]),\n",
       "  (112.40217590332031,\n",
       "   113.7260606060606,\n",
       "   399.76156862745097,\n",
       "   221.86666666666667)],\n",
       " [array([114.44705882, 328.14545455, 399.76156863, 335.12727273]),\n",
       "  (112.40217590332031,\n",
       "   113.7260606060606,\n",
       "   399.76156862745097,\n",
       "   328.1454545454545)])"
      ]
     },
     "execution_count": 77,
     "metadata": {},
     "output_type": "execute_result"
    }
   ],
   "source": [
    "bs,f[0]"
   ]
  },
  {
   "cell_type": "code",
   "execution_count": 6,
   "id": "429f878b-4eac-48f3-87cc-786006bf3efc",
   "metadata": {},
   "outputs": [],
   "source": [
    "for i,(bs, f) in enumerate(zip(truebox2,trues)):\n",
    "    yes = False\n",
    "    for b1 in bs:\n",
    "        for ff in f:\n",
    "            if (np.array(b1) == ff).all():\n",
    "                yes=True\n",
    "                continue\n",
    "    if len(bs)==0 and len(f)==0: yes=True\n",
    "    if not yes:\n",
    "        print('nope',i,fnames[i],imgs_name[i])\n",
    "        print(bs)\n",
    "        print(f[0])\n",
    "        import sys; sys.exit()"
   ]
  },
  {
   "cell_type": "markdown",
   "id": "5d9bc540-f4ca-4d2d-8100-0946a73f441f",
   "metadata": {},
   "source": [
    "Final box analytics:"
   ]
  },
  {
   "cell_type": "code",
   "execution_count": 7,
   "id": "fbab6c27-3b85-4264-98ed-c177120982a9",
   "metadata": {},
   "outputs": [],
   "source": [
    "# TPv2, FPv2, FNv2, totalTruev2 = calc_metrics(truebox2, boxes_sq4,labels_sq4, \n",
    "#                                               scores_sq4, LABELS\n",
    "    \n",
    "    # truebox1, boxes_sq, labels_sq, scores_sq, LABELS,ioumin,\n",
    "    #             years=[], iioumin=-1, iscoremin=-1, \n",
    "    #             TPyear = [], FPyear=[], totalTrueyear=[], FNyear=[], year=[],\n",
    "    #             totalTruev=[], TPv=[], FPv=[],FNv=[], return_pairs = False)"
   ]
  },
  {
   "cell_type": "code",
   "execution_count": 8,
   "id": "6f3f1798-07c0-48b4-84b9-82f201bf9c44",
   "metadata": {},
   "outputs": [],
   "source": [
    "# TPv, FPv, FNv, totalTruev = calc_base_metrics_allboxes_cv(LABELS,scoreminVec,iouminVec,\n",
    "#                                               truebox2,boxes_sq4,labels_sq4, \n",
    "#                                               scores_sq4,n_folds_cv=n_folds_cv)\n",
    "iouminVec=iouminVeca\n",
    "TPv, FPv, FNv, totalTruev = calc_base_metrics_allboxes_cv(LABELS,scoreminVec,iouminVec,\n",
    "                                              truebox2,boxes_sq4,labels_sq4, \n",
    "                                              scores_sq4,n_folds_cv=n_folds_cv)"
   ]
  },
  {
   "cell_type": "code",
   "execution_count": 67,
   "id": "9cc5e80b-9860-4832-9633-883f9b85b747",
   "metadata": {},
   "outputs": [
    {
     "ename": "SystemExit",
     "evalue": "",
     "output_type": "error",
     "traceback": [
      "An exception has occurred, use %tb to see the full traceback.\n",
      "\u001b[0;31mSystemExit\u001b[0m\n"
     ]
    },
    {
     "name": "stderr",
     "output_type": "stream",
     "text": [
      "/Users/jillnaiman/anaconda3/envs/Paper1/lib/python3.7/site-packages/IPython/core/interactiveshell.py:3452: UserWarning: To exit: use 'exit', 'quit', or Ctrl-D.\n",
      "  warn(\"To exit: use 'exit', 'quit', or Ctrl-D.\", stacklevel=1)\n"
     ]
    }
   ],
   "source": [
    "from metric_utils import calc_metrics\n",
    "\n",
    "TPs = np.zeros([len(LABELS), len(scoreminVec),len(iouminVec),n_folds_cv])\n",
    "#TPs = np.zeros([len(LABELS), len(iouminVec),len(scoreminVec),n_folds_cv])\n",
    "totalTrues = TPs.copy(); FPs = TPs.copy(); FNs = TPs.copy()\n",
    "\n",
    "# place randomly\n",
    "rinds = np.random.randint(0,n_folds_cv, len(truebox2))\n",
    "\n",
    "for iit in range(len(truebox2)):\n",
    "    for iscore,scoremin in enumerate(scoreminVec):\n",
    "        for iiou,ioumin in enumerate(iouminVec):\n",
    "            # truebox2 is fig-caption pairs, unwrap for this\n",
    "            tboxes = []\n",
    "            for t in truebox2[iit]:\n",
    "                #for t in tt:\n",
    "                tboxes.append(t)\n",
    "            # same same for found boxes\n",
    "            bboxes = []; llabels = []; sscores = []\n",
    "            for b,l,s in zip(boxes_sq4[iit],labels_sq4[iit],scores_sq4[iit]):\n",
    "                #for b,l,s in zip(bb,ll,ss):\n",
    "                if s >= scoremin:\n",
    "                    bboxes.append(b); llabels.append(l); sscores.append(s)\n",
    "\n",
    "            totalTruev1, TPv1, FPv1, FNv1 = calc_metrics(tboxes, bboxes, llabels, \n",
    "                                                         sscores, LABELS,ioumin)\n",
    "            # only the \"fake\" index\n",
    "            #totalTrues[:,iiou,iscore,rinds[iit]] += totalTruev1; \n",
    "            totalTrues[:,iscore,iiou,rinds[iit]] += totalTruev1; \n",
    "            TPs[:,iscore,iiou,rinds[iit]] += TPv1; \n",
    "            FPs[:,iscore,iiou,rinds[iit]] += FPv1; \n",
    "            FNs[:,iscore,iiou,rinds[iit]] += FNv1\n",
    "            #TPs[:,iiou,iscore,rinds[iit]] += TPv1; \n",
    "            #FPs[:,iiou,iscore,rinds[iit]] += FPv1; \n",
    "            #FNs[:,iiou,iscore,rinds[iit]] += FNv1\n",
    "            \n",
    "        if iit > 0 and scoremin == 0.1: import sys; sys.exit()\n",
    "\n",
    "# total trues, are actually just for the whole thing -- could do this better!\n",
    "totalTrues = totalTrues[:,0,0,:]\n"
   ]
  },
  {
   "cell_type": "code",
   "execution_count": 69,
   "id": "6284e549-978f-46ce-9c7b-933098c565a2",
   "metadata": {},
   "outputs": [
    {
     "data": {
      "text/plain": [
       "[array([119., 112., 399., 223.,   1.])]"
      ]
     },
     "execution_count": 69,
     "metadata": {},
     "output_type": "execute_result"
    }
   ],
   "source": [
    "tboxes"
   ]
  },
  {
   "cell_type": "code",
   "execution_count": 74,
   "id": "de9356f1-947b-4e8a-a6e6-9bccc7289780",
   "metadata": {},
   "outputs": [
    {
     "data": {
      "text/plain": [
       "(112.40217590332031, 113.7260606060606, 399.76156862745097, 221.86666666666667)"
      ]
     },
     "execution_count": 74,
     "metadata": {},
     "output_type": "execute_result"
    }
   ],
   "source": [
    "bboxes[iit]"
   ]
  },
  {
   "cell_type": "code",
   "execution_count": 75,
   "id": "28ac68c2-4afa-4a34-88f6-76d9f923ba56",
   "metadata": {},
   "outputs": [
    {
     "data": {
      "text/plain": [
       "1"
      ]
     },
     "execution_count": 75,
     "metadata": {},
     "output_type": "execute_result"
    }
   ],
   "source": [
    "iit"
   ]
  },
  {
   "cell_type": "code",
   "execution_count": 73,
   "id": "2aec3c2f-0763-4e10-a66d-cc4ebc949d9c",
   "metadata": {},
   "outputs": [
    {
     "data": {
      "text/plain": [
       "[[array([114.44705882, 328.14545455, 399.76156863, 335.12727273]),\n",
       "  (112.40217590332031,\n",
       "   113.7260606060606,\n",
       "   399.76156862745097,\n",
       "   328.1454545454545)],\n",
       " [1, 0],\n",
       " [1.0, 0.9999145]]"
      ]
     },
     "execution_count": 73,
     "metadata": {},
     "output_type": "execute_result"
    }
   ],
   "source": [
    "founds[iit]"
   ]
  },
  {
   "cell_type": "code",
   "execution_count": 63,
   "id": "3beeccde-cf13-4d33-964d-f6a8516a4c0c",
   "metadata": {},
   "outputs": [
    {
     "data": {
      "text/plain": [
       "[array([346.7545098 ,  99.2969697 , 367.2345098 , 397.03272727,\n",
       "          2.        ]),\n",
       " array([205.       ,  60.       , 346.7545098, 436.       ,   1.       ])]"
      ]
     },
     "execution_count": 63,
     "metadata": {},
     "output_type": "execute_result"
    }
   ],
   "source": [
    "trues[iit]"
   ]
  },
  {
   "cell_type": "code",
   "execution_count": 64,
   "id": "fd2f0724-e4a9-4705-bd9b-0ae1e213692b",
   "metadata": {},
   "outputs": [
    {
     "ename": "IndexError",
     "evalue": "list index out of range",
     "output_type": "error",
     "traceback": [
      "\u001b[0;31m---------------------------------------------------------------------------\u001b[0m",
      "\u001b[0;31mIndexError\u001b[0m                                Traceback (most recent call last)",
      "\u001b[0;32m/var/folders/t5/9xgccmv92hnfvjwd62mk8zqh0000gn/T/ipykernel_2798/2004329866.py\u001b[0m in \u001b[0;36m<module>\u001b[0;34m\u001b[0m\n\u001b[1;32m      4\u001b[0m \u001b[0mx2\u001b[0m\u001b[0;34m,\u001b[0m \u001b[0my2\u001b[0m \u001b[0;34m=\u001b[0m \u001b[0mtbox\u001b[0m\u001b[0;34m[\u001b[0m\u001b[0;36m0\u001b[0m\u001b[0;34m]\u001b[0m\u001b[0;34m+\u001b[0m\u001b[0;36m0.5\u001b[0m\u001b[0;34m*\u001b[0m\u001b[0mw2\u001b[0m\u001b[0;34m,\u001b[0m \u001b[0mtbox\u001b[0m\u001b[0;34m[\u001b[0m\u001b[0;36m1\u001b[0m\u001b[0;34m]\u001b[0m\u001b[0;34m+\u001b[0m\u001b[0;36m0.5\u001b[0m\u001b[0;34m*\u001b[0m\u001b[0mh2\u001b[0m\u001b[0;34m\u001b[0m\u001b[0;34m\u001b[0m\u001b[0m\n\u001b[1;32m      5\u001b[0m \u001b[0;34m\u001b[0m\u001b[0m\n\u001b[0;32m----> 6\u001b[0;31m \u001b[0mb\u001b[0m \u001b[0;34m=\u001b[0m \u001b[0mbboxes\u001b[0m\u001b[0;34m[\u001b[0m\u001b[0;36m1\u001b[0m\u001b[0;34m]\u001b[0m\u001b[0;34m\u001b[0m\u001b[0;34m\u001b[0m\u001b[0m\n\u001b[0m\u001b[1;32m      7\u001b[0m \u001b[0mw1\u001b[0m\u001b[0;34m,\u001b[0m \u001b[0mh1\u001b[0m \u001b[0;34m=\u001b[0m \u001b[0mb\u001b[0m\u001b[0;34m[\u001b[0m\u001b[0;36m2\u001b[0m\u001b[0;34m]\u001b[0m\u001b[0;34m-\u001b[0m\u001b[0mb\u001b[0m\u001b[0;34m[\u001b[0m\u001b[0;36m0\u001b[0m\u001b[0;34m]\u001b[0m\u001b[0;34m,\u001b[0m \u001b[0mb\u001b[0m\u001b[0;34m[\u001b[0m\u001b[0;36m3\u001b[0m\u001b[0;34m]\u001b[0m\u001b[0;34m-\u001b[0m\u001b[0mb\u001b[0m\u001b[0;34m[\u001b[0m\u001b[0;36m1\u001b[0m\u001b[0;34m]\u001b[0m\u001b[0;34m\u001b[0m\u001b[0;34m\u001b[0m\u001b[0m\n\u001b[1;32m      8\u001b[0m \u001b[0mx1\u001b[0m\u001b[0;34m,\u001b[0m \u001b[0my1\u001b[0m \u001b[0;34m=\u001b[0m \u001b[0mb\u001b[0m\u001b[0;34m[\u001b[0m\u001b[0;36m0\u001b[0m\u001b[0;34m]\u001b[0m\u001b[0;34m+\u001b[0m\u001b[0;36m0.5\u001b[0m\u001b[0;34m*\u001b[0m\u001b[0mw1\u001b[0m\u001b[0;34m,\u001b[0m \u001b[0mb\u001b[0m\u001b[0;34m[\u001b[0m\u001b[0;36m1\u001b[0m\u001b[0;34m]\u001b[0m\u001b[0;34m+\u001b[0m\u001b[0;36m0.5\u001b[0m\u001b[0;34m*\u001b[0m\u001b[0mh1\u001b[0m\u001b[0;34m\u001b[0m\u001b[0;34m\u001b[0m\u001b[0m\n",
      "\u001b[0;31mIndexError\u001b[0m: list index out of range"
     ]
    }
   ],
   "source": [
    "from general_utils import iou_orig\n",
    "tbox = tboxes[1]; \n",
    "w2, h2 = tbox[2]-tbox[0], tbox[3]-tbox[1]\n",
    "x2, y2 = tbox[0]+0.5*w2, tbox[1]+0.5*h2\n",
    "\n",
    "b = bboxes[1]\n",
    "w1, h1 = b[2]-b[0], b[3]-b[1]\n",
    "x1, y1 = b[0]+0.5*w1, b[1]+0.5*h1\n",
    "\n",
    "iou_orig(x1,y1,w1,h1, x2,y2,w2,h2)\n"
   ]
  },
  {
   "cell_type": "code",
   "execution_count": 66,
   "id": "ef0ccf53-5805-445e-8e85-f3b519e10daf",
   "metadata": {},
   "outputs": [
    {
     "data": {
      "text/plain": [
       "[0.98728126, 0.8987584]"
      ]
     },
     "execution_count": 66,
     "metadata": {},
     "output_type": "execute_result"
    }
   ],
   "source": [
    "scores_sq4[iit]"
   ]
  },
  {
   "cell_type": "code",
   "execution_count": 52,
   "id": "a36ea748-f354-483b-87e2-5a15ea5a1027",
   "metadata": {},
   "outputs": [
    {
     "data": {
      "text/plain": [
       "array([346.7545098 ,  99.2969697 , 353.9827451 , 397.03272727])"
      ]
     },
     "execution_count": 52,
     "metadata": {},
     "output_type": "execute_result"
    }
   ],
   "source": [
    "b"
   ]
  },
  {
   "cell_type": "code",
   "execution_count": 54,
   "id": "cbab9d25-a5a5-449a-9042-e0d31354f862",
   "metadata": {},
   "outputs": [
    {
     "data": {
      "text/plain": [
       "array([346.7545098 ,  99.2969697 , 367.2345098 , 397.03272727,\n",
       "         2.        ])"
      ]
     },
     "execution_count": 54,
     "metadata": {},
     "output_type": "execute_result"
    }
   ],
   "source": [
    "trues[0][0]"
   ]
  },
  {
   "cell_type": "code",
   "execution_count": 56,
   "id": "1e67467f-ffc9-447b-a17c-f23f92577e51",
   "metadata": {},
   "outputs": [
    {
     "data": {
      "text/plain": [
       "array([346.7545098 ,  99.2969697 , 353.9827451 , 397.03272727])"
      ]
     },
     "execution_count": 56,
     "metadata": {},
     "output_type": "execute_result"
    }
   ],
   "source": [
    "founds[0][0][0]"
   ]
  },
  {
   "cell_type": "code",
   "execution_count": null,
   "id": "e7621646-8cc1-49f6-89d0-d6b3cbba9787",
   "metadata": {},
   "outputs": [],
   "source": []
  },
  {
   "cell_type": "code",
   "execution_count": null,
   "id": "fc910fb8-528c-4891-9d6b-c18547c8121b",
   "metadata": {},
   "outputs": [],
   "source": []
  },
  {
   "cell_type": "code",
   "execution_count": 27,
   "id": "a5cae4f1-d8ca-43af-9077-e3b3751a85fb",
   "metadata": {},
   "outputs": [
    {
     "data": {
      "text/plain": [
       "array([1., 1., 0., 0.])"
      ]
     },
     "execution_count": 27,
     "metadata": {},
     "output_type": "execute_result"
    }
   ],
   "source": [
    "totalTruev1"
   ]
  },
  {
   "cell_type": "code",
   "execution_count": 29,
   "id": "4ccbc3ec-2657-4038-9b07-c27fb9e87d1f",
   "metadata": {},
   "outputs": [
    {
     "data": {
      "text/plain": [
       "array([0., 0., 0., 0.])"
      ]
     },
     "execution_count": 29,
     "metadata": {},
     "output_type": "execute_result"
    }
   ],
   "source": [
    "TPv1"
   ]
  },
  {
   "cell_type": "code",
   "execution_count": 38,
   "id": "92f570dc-4a83-4f0c-bf85-585076040f33",
   "metadata": {},
   "outputs": [
    {
     "data": {
      "text/plain": [
       "array([0., 0., 0.])"
      ]
     },
     "execution_count": 38,
     "metadata": {},
     "output_type": "execute_result"
    }
   ],
   "source": [
    "TPs[0,:,7,:].sum(axis=1)"
   ]
  },
  {
   "cell_type": "code",
   "execution_count": 40,
   "id": "8e6abd9d-61e0-4c01-9152-7f388f399117",
   "metadata": {},
   "outputs": [
    {
     "data": {
      "text/plain": [
       "(0.7, 0.95)"
      ]
     },
     "execution_count": 40,
     "metadata": {},
     "output_type": "execute_result"
    }
   ],
   "source": [
    "iouminVec[3], iouminVec[7]"
   ]
  },
  {
   "cell_type": "code",
   "execution_count": 9,
   "id": "5a422dc8-e1f3-4c25-9e70-ecd26cc7671d",
   "metadata": {},
   "outputs": [],
   "source": [
    "#TPv\n",
    "#(4, 3, 8, 5)"
   ]
  },
  {
   "cell_type": "code",
   "execution_count": 10,
   "id": "fb50492b-934a-48e4-8b34-7a660733144b",
   "metadata": {},
   "outputs": [
    {
     "data": {
      "text/plain": [
       "(4, 3, 8, 5)"
      ]
     },
     "execution_count": 10,
     "metadata": {},
     "output_type": "execute_result"
    }
   ],
   "source": [
    "TPv.shape"
   ]
  },
  {
   "cell_type": "code",
   "execution_count": 11,
   "id": "e928e5bf-fe38-4452-a2ad-941150cb562b",
   "metadata": {},
   "outputs": [],
   "source": [
    "#TPv[1,0,:,:].sum(axis=1)"
   ]
  },
  {
   "cell_type": "markdown",
   "id": "f47f1c09-cd62-4e8f-9bc8-d7dd8f9c6c4a",
   "metadata": {},
   "source": [
    "Shape is: (# labels, #scores, #ious, #CV folds)"
   ]
  },
  {
   "cell_type": "code",
   "execution_count": 12,
   "id": "023109a7-0c73-43c6-ab44-fcfc99a45e6f",
   "metadata": {},
   "outputs": [],
   "source": [
    "#TPv = np.zeros([len(LABELS), len(iouminVec), len(scoreminVec), n_folds_cv]) \n",
    "#TPva[1,0,:,:].sum(axis=1)"
   ]
  },
  {
   "cell_type": "code",
   "execution_count": 14,
   "id": "a52744dc-77ae-4f86-a06a-fc36c31d187c",
   "metadata": {},
   "outputs": [],
   "source": [
    "#TPva.shape"
   ]
  },
  {
   "cell_type": "markdown",
   "id": "f6abac9d-2070-4cd6-9c87-7084b9e52936",
   "metadata": {},
   "source": [
    "Calculate precision, recall, F1 (ignore /0 warnings, taken care of):"
   ]
  },
  {
   "cell_type": "code",
   "execution_count": 15,
   "id": "2c2d8ad9-8e39-40c5-a96f-0ad43ef1b59d",
   "metadata": {},
   "outputs": [
    {
     "name": "stderr",
     "output_type": "stream",
     "text": [
      "/Users/jillnaiman/anaconda3/envs/Paper1/lib/python3.7/site-packages/ipykernel_launcher.py:18: RuntimeWarning: invalid value encountered in true_divide\n",
      "/Users/jillnaiman/anaconda3/envs/Paper1/lib/python3.7/site-packages/ipykernel_launcher.py:14: RuntimeWarning: invalid value encountered in true_divide\n",
      "  \n"
     ]
    }
   ],
   "source": [
    "precision = np.zeros([len(LABELS), len(scoreminVec),len(iouminVec)])\n",
    "recall = np.zeros([len(LABELS), len(scoreminVec),len(iouminVec)])\n",
    "f1 = np.zeros([len(LABELS), len(scoreminVec),len(iouminVec)])\n",
    "\n",
    "# from CV\n",
    "precision_std = np.zeros([len(LABELS), len(scoreminVec),len(iouminVec)])\n",
    "recall_std = np.zeros([len(LABELS), len(scoreminVec),len(iouminVec)])\n",
    "f1_std = np.zeros([len(LABELS), len(scoreminVec),len(iouminVec)])\n",
    "\n",
    "for j in range(len(iouminVec)):\n",
    "    for i in range(len(scoreminVec)):\n",
    "# for i in range(len(iouminVec)):\n",
    "#     for j in range(len(scoreminVec)):\n",
    "        p = TPv[:,i,j]/(TPv[:,i,j]+FPv[:,i,j])*100\n",
    "        p[TPv[:,i,j]+FPv[:,i,j]<=0] = 0\n",
    "        r = TPv[:,i,j]/(TPv[:,i,j]+FNv[:,i,j])*100\n",
    "        r[TPv[:,i,j]+FNv[:,i,j]<=0] = 0\n",
    "        f = 2.0*(r*p)/(r+p)\n",
    "        f[r+p <=0] = 0\n",
    "        precision_std[:,i,j] = np.std(p,axis=1)\n",
    "        recall_std[:,i,j] = np.std(r,axis=1)\n",
    "        f1_std[:,i,j] = np.std(f,axis=1)\n",
    "        p = np.mean(p, axis=1)\n",
    "        r = np.mean(r, axis=1)\n",
    "        f = np.mean(f, axis=1)\n",
    "\n",
    "        precision[:,i,j] = p\n",
    "        recall[:,i,j] = r\n",
    "        f1[:,i,j] = f"
   ]
  },
  {
   "cell_type": "code",
   "execution_count": 16,
   "id": "b7f1c9f2-925a-4a9f-94ca-f4c61032ec96",
   "metadata": {},
   "outputs": [
    {
     "data": {
      "text/plain": [
       "array([77.46666667, 96.42755618,  0.        ,  0.        ])"
      ]
     },
     "execution_count": 16,
     "metadata": {},
     "output_type": "execute_result"
    }
   ],
   "source": [
    "p"
   ]
  },
  {
   "cell_type": "code",
   "execution_count": 17,
   "id": "a0dff724-9de6-420f-8b99-9fb59180abc0",
   "metadata": {},
   "outputs": [
    {
     "data": {
      "text/plain": [
       "array([[13., 11., 20., 11., 21.],\n",
       "       [78., 65., 63., 71., 83.],\n",
       "       [ 0.,  0.,  0.,  0.,  0.],\n",
       "       [ 0.,  0.,  0.,  0.,  0.]])"
      ]
     },
     "execution_count": 17,
     "metadata": {},
     "output_type": "execute_result"
    }
   ],
   "source": [
    "TPv[:,i,j]"
   ]
  },
  {
   "cell_type": "code",
   "execution_count": 18,
   "id": "c7e3dc4f-d68c-481f-9b3c-d6cd4de19593",
   "metadata": {},
   "outputs": [
    {
     "data": {
      "text/plain": [
       "482.0"
      ]
     },
     "execution_count": 18,
     "metadata": {},
     "output_type": "execute_result"
    }
   ],
   "source": [
    "TPv[0,0,0,:].sum()"
   ]
  },
  {
   "cell_type": "code",
   "execution_count": 21,
   "id": "5664764c-fb33-4a39-ad2a-61f128dfe747",
   "metadata": {},
   "outputs": [
    {
     "data": {
      "text/plain": [
       "array([13., 11., 20., 11., 21.])"
      ]
     },
     "execution_count": 21,
     "metadata": {},
     "output_type": "execute_result"
    }
   ],
   "source": [
    "TPv[0,2,7,:]"
   ]
  },
  {
   "cell_type": "code",
   "execution_count": 20,
   "id": "692da4f0-06a8-4a3a-b1d0-60dfc75c5544",
   "metadata": {},
   "outputs": [
    {
     "data": {
      "text/plain": [
       "(2, 7)"
      ]
     },
     "execution_count": 20,
     "metadata": {},
     "output_type": "execute_result"
    }
   ],
   "source": [
    "i,j"
   ]
  },
  {
   "cell_type": "code",
   "execution_count": null,
   "id": "da300cfd-25d3-4359-a673-dfae8a2c5459",
   "metadata": {},
   "outputs": [],
   "source": []
  },
  {
   "cell_type": "code",
   "execution_count": null,
   "id": "cfa20dda-3a78-4d2a-8fe8-d1374f7f0e9a",
   "metadata": {},
   "outputs": [],
   "source": []
  },
  {
   "cell_type": "code",
   "execution_count": null,
   "id": "2ba63f75-43c6-43ab-ad4e-ede0ec8c59ba",
   "metadata": {},
   "outputs": [],
   "source": []
  },
  {
   "cell_type": "code",
   "execution_count": null,
   "id": "c8b9da4f-e9ea-457a-bdb9-911677c13260",
   "metadata": {},
   "outputs": [],
   "source": []
  },
  {
   "cell_type": "code",
   "execution_count": 14,
   "id": "c16a9b1c-f9c7-47ed-8d46-0d50b7c6fa9b",
   "metadata": {},
   "outputs": [
    {
     "ename": "IndexError",
     "evalue": "index 3 is out of bounds for axis 1 with size 3",
     "output_type": "error",
     "traceback": [
      "\u001b[0;31m---------------------------------------------------------------------------\u001b[0m",
      "\u001b[0;31mIndexError\u001b[0m                                Traceback (most recent call last)",
      "\u001b[0;32m/var/folders/t5/9xgccmv92hnfvjwd62mk8zqh0000gn/T/ipykernel_2735/2231989591.py\u001b[0m in \u001b[0;36m<module>\u001b[0;34m\u001b[0m\n\u001b[1;32m      2\u001b[0m   recall_std, f1, f1_std = calc_prec_rec_f1_cv(TPv,FPv,FNv,\n\u001b[1;32m      3\u001b[0m                                                \u001b[0mLABELS\u001b[0m\u001b[0;34m,\u001b[0m\u001b[0mscoreminVec\u001b[0m\u001b[0;34m,\u001b[0m\u001b[0;34m\u001b[0m\u001b[0;34m\u001b[0m\u001b[0m\n\u001b[0;32m----> 4\u001b[0;31m                                                iouminVec)\n\u001b[0m",
      "\u001b[0;32m~/figure_and_caption_extraction/metric_utils.py\u001b[0m in \u001b[0;36mcalc_prec_rec_f1_cv\u001b[0;34m(TPv, FPv, FNv, LABELS, scoreminVec, iouminVec)\u001b[0m\n\u001b[1;32m    222\u001b[0m             \u001b[0mf\u001b[0m \u001b[0;34m=\u001b[0m \u001b[0;36m2.0\u001b[0m\u001b[0;34m*\u001b[0m\u001b[0;34m(\u001b[0m\u001b[0mr\u001b[0m\u001b[0;34m*\u001b[0m\u001b[0mp\u001b[0m\u001b[0;34m)\u001b[0m\u001b[0;34m/\u001b[0m\u001b[0;34m(\u001b[0m\u001b[0mr\u001b[0m\u001b[0;34m+\u001b[0m\u001b[0mp\u001b[0m\u001b[0;34m)\u001b[0m\u001b[0;34m\u001b[0m\u001b[0;34m\u001b[0m\u001b[0m\n\u001b[1;32m    223\u001b[0m             \u001b[0mf\u001b[0m\u001b[0;34m[\u001b[0m\u001b[0mr\u001b[0m\u001b[0;34m+\u001b[0m\u001b[0mp\u001b[0m \u001b[0;34m<=\u001b[0m\u001b[0;36m0\u001b[0m\u001b[0;34m]\u001b[0m \u001b[0;34m=\u001b[0m \u001b[0;36m0\u001b[0m\u001b[0;34m\u001b[0m\u001b[0;34m\u001b[0m\u001b[0m\n\u001b[0;32m--> 224\u001b[0;31m             \u001b[0mprecision_std\u001b[0m\u001b[0;34m[\u001b[0m\u001b[0;34m:\u001b[0m\u001b[0;34m,\u001b[0m\u001b[0mi\u001b[0m\u001b[0;34m,\u001b[0m\u001b[0mj\u001b[0m\u001b[0;34m]\u001b[0m \u001b[0;34m=\u001b[0m \u001b[0mnp\u001b[0m\u001b[0;34m.\u001b[0m\u001b[0mstd\u001b[0m\u001b[0;34m(\u001b[0m\u001b[0mp\u001b[0m\u001b[0;34m,\u001b[0m\u001b[0maxis\u001b[0m\u001b[0;34m=\u001b[0m\u001b[0;36m1\u001b[0m\u001b[0;34m)\u001b[0m\u001b[0;34m\u001b[0m\u001b[0;34m\u001b[0m\u001b[0m\n\u001b[0m\u001b[1;32m    225\u001b[0m             \u001b[0mrecall_std\u001b[0m\u001b[0;34m[\u001b[0m\u001b[0;34m:\u001b[0m\u001b[0;34m,\u001b[0m\u001b[0mi\u001b[0m\u001b[0;34m,\u001b[0m\u001b[0mj\u001b[0m\u001b[0;34m]\u001b[0m \u001b[0;34m=\u001b[0m \u001b[0mnp\u001b[0m\u001b[0;34m.\u001b[0m\u001b[0mstd\u001b[0m\u001b[0;34m(\u001b[0m\u001b[0mr\u001b[0m\u001b[0;34m,\u001b[0m\u001b[0maxis\u001b[0m\u001b[0;34m=\u001b[0m\u001b[0;36m1\u001b[0m\u001b[0;34m)\u001b[0m\u001b[0;34m\u001b[0m\u001b[0;34m\u001b[0m\u001b[0m\n\u001b[1;32m    226\u001b[0m             \u001b[0mf1_std\u001b[0m\u001b[0;34m[\u001b[0m\u001b[0;34m:\u001b[0m\u001b[0;34m,\u001b[0m\u001b[0mi\u001b[0m\u001b[0;34m,\u001b[0m\u001b[0mj\u001b[0m\u001b[0;34m]\u001b[0m \u001b[0;34m=\u001b[0m \u001b[0mnp\u001b[0m\u001b[0;34m.\u001b[0m\u001b[0mstd\u001b[0m\u001b[0;34m(\u001b[0m\u001b[0mf\u001b[0m\u001b[0;34m,\u001b[0m\u001b[0maxis\u001b[0m\u001b[0;34m=\u001b[0m\u001b[0;36m1\u001b[0m\u001b[0;34m)\u001b[0m\u001b[0;34m\u001b[0m\u001b[0;34m\u001b[0m\u001b[0m\n",
      "\u001b[0;31mIndexError\u001b[0m: index 3 is out of bounds for axis 1 with size 3"
     ]
    }
   ],
   "source": [
    "precision, precision_std, recall, \\\n",
    "  recall_std, f1, f1_std = calc_prec_rec_f1_cv(TPv,FPv,FNv,\n",
    "                                               LABELS,scoreminVec,\n",
    "                                               iouminVec)"
   ]
  },
  {
   "cell_type": "markdown",
   "id": "ac17c93c-d121-4430-b38a-b018a8ba487b",
   "metadata": {},
   "source": [
    "Plot and check it out!"
   ]
  },
  {
   "cell_type": "code",
   "execution_count": 141,
   "id": "2668a088-1ddd-41f5-ba3a-821c66e60b51",
   "metadata": {},
   "outputs": [
    {
     "name": "stderr",
     "output_type": "stream",
     "text": [
      "/Users/jillnaiman/anaconda3/envs/Paper1/lib/python3.7/site-packages/ipykernel_launcher.py:29: UserWarning: You have mixed positional and keyword arguments, some input may be discarded.\n"
     ]
    },
    {
     "data": {
      "image/png": "[encoded data removed]",
      "text/plain": [
       "<Figure size 1440x720 with 9 Axes>"
      ]
     },
     "metadata": {
      "needs_background": "light"
     },
     "output_type": "display_data"
    }
   ],
   "source": [
    "if len(scoreminVec) == 1:\n",
    "    fig, ax = plt.subplots(3,len(scoreminVec),  figsize=(10,10))\n",
    "    ax = np.array([ax,ax]).T\n",
    "else:\n",
    "    fig, ax = plt.subplots(3,len(scoreminVec),  figsize=(20,10))\n",
    "\n",
    "ps = []\n",
    "for i in range(len(scoreminVec)):\n",
    "    for k in range(len(LABELS)): p1, = ax[0][i].plot(iouminVec,precision[k,i,:],'o-')\n",
    "    ps.append(p1)\n",
    "    ax[0][i].set_title('Scoremin = '+str(scoreminVec[i]))\n",
    "    ax[0][0].set_ylabel('Precision %')\n",
    "    ax[0][i].set_ylim(0,105)\n",
    "    \n",
    "    for k in range(len(LABELS)): ax[1][i].plot(iouminVec,recall[k,i,:], 'o-')\n",
    "    ax[1][0].set_ylabel('Recall %')\n",
    "    ax[1][i].set_ylim(0,105)\n",
    "    \n",
    "    for k in range(len(LABELS)): \n",
    "        ax[2][i].plot(iouminVec,f1[k,i,:], 'o-')\n",
    "        # include stddev\n",
    "        ax[2][i].fill_between(iouminVec, f1[k,i,:]-f1_std[k,i,:], f1[k,i,:]+f1_std[k,i,:], alpha=0.5)\n",
    "    \n",
    "    ax[2][0].set_ylabel('F1 %')\n",
    "    ax[2][i].set_ylim(0,105)\n",
    "        \n",
    "    ax[-1][i].set_xlabel('IOU')\n",
    "\n",
    "fig.legend(ps, labels=LABELS)\n",
    "matplotlib.rcParams.update({'font.size': 12})\n",
    "plt.show()"
   ]
  },
  {
   "cell_type": "markdown",
   "id": "5c24e181-e1c4-4e9a-a42f-34afedb01da4",
   "metadata": {},
   "source": [
    "Choose a score cut-off.  For the most part, we've found 0.1 to be fine:"
   ]
  },
  {
   "cell_type": "code",
   "execution_count": 9,
   "id": "675bbcb7-4c94-4a77-bd4d-a6c2441a618f",
   "metadata": {},
   "outputs": [],
   "source": [
    "scoremin = 0.1 "
   ]
  },
  {
   "cell_type": "markdown",
   "id": "043ec35f-f67e-4262-b21e-b3bf11c999e6",
   "metadata": {},
   "source": [
    "What IOU cut-offs for each label? for reference:"
   ]
  },
  {
   "cell_type": "code",
   "execution_count": 10,
   "id": "be1fed8e-11c9-4319-b6f9-dfe5e834579c",
   "metadata": {},
   "outputs": [
    {
     "data": {
      "text/plain": [
       "['figure', 'figure caption', 'math formula', 'table']"
      ]
     },
     "execution_count": 10,
     "metadata": {},
     "output_type": "execute_result"
    }
   ],
   "source": [
    "LABELS"
   ]
  },
  {
   "cell_type": "code",
   "execution_count": 11,
   "id": "4e768518-f2e4-42bf-92d6-5dbb516b2f2c",
   "metadata": {},
   "outputs": [],
   "source": [
    "ioumin_per_label = [0.9, 0.95, 0.8, 0.8] # fig, fig+caption, math formula, table"
   ]
  },
  {
   "cell_type": "code",
   "execution_count": 22,
   "id": "892bd827-aa58-47a2-a523-7e2bc0d0cb80",
   "metadata": {},
   "outputs": [],
   "source": [
    "#Shape is: (# labels, #scores, #ious, #CV folds)\n",
    "TPs, FPs, FNs, totalTrues = calc_base_metrics_allboxes_cv(LABELS,[scoremin],ioumin_per_label,\n",
    "                                              truebox2,boxes_sq4,labels_sq4, \n",
    "                                              scores_sq4,n_folds_cv=n_folds_cv)"
   ]
  },
  {
   "cell_type": "code",
   "execution_count": 46,
   "id": "98e958e8-6a21-40ef-b8fc-c472b2902f21",
   "metadata": {},
   "outputs": [
    {
     "data": {
      "text/plain": [
       "(4, 1, 4, 5)"
      ]
     },
     "execution_count": 46,
     "metadata": {},
     "output_type": "execute_result"
    }
   ],
   "source": [
    "TPs.shape"
   ]
  },
  {
   "cell_type": "code",
   "execution_count": 45,
   "id": "9aba629f-7ae2-4993-a4bc-f079f35453df",
   "metadata": {},
   "outputs": [
    {
     "data": {
      "text/plain": [
       "array([241.,  79., 373., 373.])"
      ]
     },
     "execution_count": 45,
     "metadata": {},
     "output_type": "execute_result"
    }
   ],
   "source": [
    "TPs[0,0,:,:].sum(axis=1)"
   ]
  },
  {
   "cell_type": "code",
   "execution_count": 41,
   "id": "e108897a-1976-417d-996b-c5b040b93d29",
   "metadata": {},
   "outputs": [],
   "source": [
    "totalTrue = totalTrues.sum(axis=1).astype('int') # collapse onto 1 axis\n",
    "#TP1 = TPs[:,0,:,:].sum(axis=2) # sum across all CV\n",
    "TP = np.diagonal(TPs[:,0,:,:].sum(axis=2)) # sum across all CV, then for the right IOU\n",
    "FP = np.diagonal(FPs[:,0,:,:].sum(axis=2)) # sum across all CV, then for the right IOU\n",
    "FN = np.diagonal(FNs[:,0,:,:].sum(axis=2)) # sum across all CV, then for the right IOU"
   ]
  },
  {
   "cell_type": "code",
   "execution_count": 42,
   "id": "9cb5acd3-f9c6-487a-b347-722525106c18",
   "metadata": {},
   "outputs": [
    {
     "name": "stdout",
     "output_type": "stream",
     "text": [
      "SCORE =  0.1  N_CV =  5\n",
      "Metric          figure          figure caption  math formula    table          \n",
      "iou cut         0.9             0.95            0.8             0.8            \n",
      "# of objs       503             468             114             112            \n",
      "--------------------------------------------------------------------------------------------\n",
      "TP              47.9%           82.7%           3.5%            32.1%          \n",
      "FP              6.2%            4.1%            16.7%           17.9%          \n",
      "FN              52.1%           17.3%           96.5%           67.9%          \n"
     ]
    }
   ],
   "source": [
    "print('SCORE = ', scoremin, ' N_CV = ', n_folds_cv)\n",
    "\n",
    "labelsMetric = ['Metric']\n",
    "labelsMetric.extend(LABELS)\n",
    "spacing = '%-15s'\n",
    "strOut = ' '.join([spacing % (i,) for i in labelsMetric])\n",
    "print(strOut)\n",
    "\n",
    "out = ['iou cut']\n",
    "for i in range(len(LABELS)):\n",
    "    out.append( str(ioumin_per_label[i]) )\n",
    "strOut = ' '.join([spacing % (i,) for i in out])\n",
    "print(strOut)\n",
    "\n",
    "out = ['# of objs']\n",
    "for i in range(len(LABELS)):\n",
    "    out.append( str(totalTrue[i]) )\n",
    "strOut = ' '.join([spacing % (i,) for i in out])\n",
    "print(strOut)\n",
    "\n",
    "print('--------------------------------------------------------------------------------------------')\n",
    "\n",
    "out = ['TP']\n",
    "for i in range(len(LABELS)):\n",
    "    out.append( str(round(TP[i]/totalTrue[i]*100,1))+'%' )\n",
    "strOut = ' '.join([spacing % (i,) for i in out])\n",
    "print(strOut)\n",
    "\n",
    "out = ['FP']\n",
    "for i in range(len(LABELS)):\n",
    "    out.append( str(round(FP[i]/totalTrue[i]*100,1))+'%' )\n",
    "strOut = ' '.join([spacing % (i,) for i in out])\n",
    "print(strOut)\n",
    "\n",
    "out = ['FN']\n",
    "for i in range(len(LABELS)):\n",
    "    out.append( str(round(FN[i]/totalTrue[i]*100,1))+'%' )\n",
    "strOut = ' '.join([spacing % (i,) for i in out])\n",
    "print(strOut)\n",
    "\n",
    "# print('--------------------------------------------------------------------------------------------')\n",
    "# out = ['Precision'] # accuracy of positive predictions => number of true positives out of all of the things we label as positive\n",
    "# for i in range(len(LABELS)):\n",
    "#     iind = np.where(iouminVec == ioumin_per_label[i])[0]\n",
    "#     out.append( str(np.round(precision[i,sind,iind][0],1))+'+/-' +str(np.round(precision_std[i,sind,iind][0],1))+ '%' )\n",
    "# strOut = ' '.join([spacing % (i,) for i in out])\n",
    "# print(strOut)\n",
    "\n",
    "# out = ['Recall'] # true positive rate => number of true positives over all of the things that SHOULD be positive\n",
    "# for i in range(len(LABELS)):\n",
    "#     iind = np.where(iouminVec == ioumin_per_label[i])[0]\n",
    "#     out.append( str(np.round(recall[i,sind,iind][0],1))+'+/-' +str(np.round(recall_std[i,sind,iind][0],1))+ '%' )\n",
    "# strOut = ' '.join([spacing % (i,) for i in out])\n",
    "# print(strOut)\n",
    "\n",
    "# out = ['F1']\n",
    "# for i in range(len(LABELS)):\n",
    "#     iind = np.where(iouminVec == ioumin_per_label[i])[0]\n",
    "#     out.append( str(np.round(f1[i,sind,iind][0],1))+'+/-' +str(np.round(f1_std[i,sind,iind][0],1))+ '%' )\n",
    "# strOut = ' '.join([spacing % (i,) for i in out])\n",
    "# print(strOut)"
   ]
  },
  {
   "cell_type": "code",
   "execution_count": null,
   "id": "716f7556-c509-4e57-982b-3919883c2893",
   "metadata": {},
   "outputs": [],
   "source": []
  },
  {
   "cell_type": "code",
   "execution_count": null,
   "id": "89266f18-b4f8-43ef-b096-646b08521ad2",
   "metadata": {},
   "outputs": [],
   "source": []
  }
 ],
 "metadata": {
  "kernelspec": {
   "display_name": "Python 3 (ipykernel)",
   "language": "python",
   "name": "python3"
  },
  "language_info": {
   "codemirror_mode": {
    "name": "ipython",
    "version": 3
   },
   "file_extension": ".py",
   "mimetype": "text/x-python",
   "name": "python",
   "nbconvert_exporter": "python",
   "pygments_lexer": "ipython3",
   "version": "3.7.12"
  }
 },
 "nbformat": 4,
 "nbformat_minor": 5
}
