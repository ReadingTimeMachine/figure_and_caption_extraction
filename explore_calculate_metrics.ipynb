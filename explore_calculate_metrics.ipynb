{
 "cells": [
  {
   "cell_type": "markdown",
   "id": "4b190a5b-34c7-427f-87e8-7cdf6e0aa159",
   "metadata": {
    "tags": []
   },
   "source": [
    "## Explore and Calculate Metrics\n",
    "\n",
    "Here we calculate metrics for final post-processed boxes and can look at how those metrics change with other steps in the post processing, if you want to."
   ]
  },
  {
   "cell_type": "code",
   "execution_count": 1,
   "id": "fbddb717-825f-484f-b9d9-241cd3295893",
   "metadata": {},
   "outputs": [],
   "source": [
    "# which metric file?\n",
    "binary_dirs = 'binaries_model1_tfrecordz/'\n",
    "binary_dirs = 'binaries_model2_tfrecordz/'\n",
    "# binary_dirs = 'binaries_model3_tfrecordz/'\n",
    "# binary_dirs = 'binaries_model4_tfrecordz/'\n",
    "# binary_dirs = 'binaries_model5_tfrecordz/'\n",
    "# binary_dirs = 'binaries_model6_tfrecordz/'\n",
    "# binary_dirs = 'binaries_model7_tfrecordz/'\n",
    "# binary_dirs = 'binaries_model8_tfrecordz/'\n",
    "# binary_dirs = 'binaries_model9_tfrecordz/'\n",
    "# binary_dirs = 'binaries_model10_tfrecordz/'\n",
    "binary_dirs = 'binaries_model11_tfrecordz/'\n",
    "binary_dirs = 'binaries_model12_tfrecordz/'\n",
    "\n",
    "\n",
    "binary_dirs = 'binaries_model12_tfrecordz_pmcnoncom/'\n",
    "\n",
    "# for benchmarks,ioustar defaults to 0.6\n",
    "benchmark = True\n",
    "\n",
    "use_valid = False\n",
    "\n",
    "# do we want to save our results to .dat files for use in other areas (like tables in latex)\n",
    "save_dats = True\n",
    "#any extra tag to anything\n",
    "adder_dats = ''\n",
    "# which iou's to save?\n",
    "#ioustar = [0.9,0.95] # fig, caption\n",
    "ioustar = [0.9] # fig, caption\n",
    "scorestar = 0.1\n",
    "\n",
    "if benchmark: ioustar = [0.6]\n",
    "\n",
    "adder = ''\n",
    "#adder = 'colorbar'\n",
    "#adder = 'truebox'"
   ]
  },
  {
   "cell_type": "code",
   "execution_count": 2,
   "id": "44f62cf0-d86c-4be6-8109-f51cd2a62fdd",
   "metadata": {},
   "outputs": [],
   "source": [
    "if use_valid: adder = '_valid'"
   ]
  },
  {
   "cell_type": "markdown",
   "id": "1dd07b34-7e10-4609-9ab7-21ed7fa10478",
   "metadata": {},
   "source": [
    "How do we want to quantify how well we are doing?"
   ]
  },
  {
   "cell_type": "code",
   "execution_count": 3,
   "id": "e70cf3a3-7bad-4293-95f9-34375b8f77f2",
   "metadata": {},
   "outputs": [],
   "source": [
    "n_folds_cv = 5 # for calculating the spread in our metrics, we we'll do a CV\n",
    "scoreminVec = [0.1, 0.5, 0.9] # list of minimum box \"scores\"\n",
    "iouminVec = [0.1, 0.5, 0.6, 0.7, 0.75, 0.8, 0.9, 0.95] # list of IOU cut offs we want to explore"
   ]
  },
  {
   "cell_type": "code",
   "execution_count": 4,
   "id": "147a72b5-3a3e-4879-bf93-cacccb67ab57",
   "metadata": {},
   "outputs": [],
   "source": [
    "import pickle\n",
    "import config\n",
    "import numpy as np\n",
    "import matplotlib.pyplot as plt\n",
    "import matplotlib\n",
    "import pandas as pd\n",
    "from metric_utils import calc_base_metrics_allboxes_cv, calc_prec_rec_f1_cv, print_metrics_table, \\\n",
    "  get_years_dataframe"
   ]
  },
  {
   "cell_type": "code",
   "execution_count": 5,
   "id": "c33d1967-80e0-4ce6-abd8-38a9635628f6",
   "metadata": {},
   "outputs": [],
   "source": [
    "# # debugging\n",
    "# import metric_utils\n",
    "# reload(metric_utils)\n",
    "# from metric_utils import calc_base_metrics_allboxes_cv,calc_metrics"
   ]
  },
  {
   "cell_type": "code",
   "execution_count": 6,
   "id": "196fb4fb-9925-48e1-be6e-7ef074b05fd3",
   "metadata": {},
   "outputs": [],
   "source": [
    "# build up filename\n",
    "pp = config.metric_results_dir\n",
    "pp += binary_dirs.split('/')[0]\n",
    "pp += adder\n",
    "pp += '.pickle'\n",
    "with open(pp, 'rb') as ff:\n",
    "    icombo,imgs_name, truebox, pdfboxes, pdfrawboxes, captionText_figcap,\\\n",
    "                 bbox_figcap_pars,\\\n",
    "                 sboxes_cleaned, slabels_cleaned, sscores_cleaned,\\\n",
    "                 boxes_pdf, labels_pdf, scores_pdf,\\\n",
    "                 boxes_heur, labels_heur, scores_heur,\\\n",
    "                 boxes_heur2, labels_heur2, scores_heur2,\\\n",
    "                 boxes_par_found, labels_par_found, scores_par_found,\\\n",
    "                 boxes_sq1, labels_sq1, scores_sq1,\\\n",
    "                 boxes_sq2, labels_sq2, scores_sq2,\\\n",
    "                 boxes_sq3, labels_sq3, scores_sq3,\\\n",
    "                 boxes_sq4, labels_sq4, scores_sq4,\\\n",
    "                 boxes_sq5, labels_sq5, scores_sq5,\\\n",
    "                 truebox1,truebox2,truebox3,rotatedImage,LABELS,boxes1, scores1, labels1 = pickle.load(ff)"
   ]
  },
  {
   "cell_type": "code",
   "execution_count": 7,
   "id": "180c3ba0-3d80-47e7-94a6-124ea0092b4f",
   "metadata": {},
   "outputs": [
    {
     "data": {
      "text/plain": [
       "'/Users/jillnaiman/Dropbox/wwt_image_extraction/FigureLocalization/MetricsResults/'"
      ]
     },
     "execution_count": 7,
     "metadata": {},
     "output_type": "execute_result"
    }
   ],
   "source": [
    "config.metric_results_dir"
   ]
  },
  {
   "cell_type": "markdown",
   "id": "5d9bc540-f4ca-4d2d-8100-0946a73f441f",
   "metadata": {},
   "source": [
    "Final box analytics:"
   ]
  },
  {
   "cell_type": "code",
   "execution_count": 8,
   "id": "6f3f1798-07c0-48b4-84b9-82f201bf9c44",
   "metadata": {},
   "outputs": [],
   "source": [
    "TPv, FPv, FNv, totalTruev = calc_base_metrics_allboxes_cv(LABELS,scoreminVec,iouminVec,\n",
    "                                              truebox3,boxes_sq5,labels_sq5, \n",
    "                                              scores_sq5,n_folds_cv=n_folds_cv)"
   ]
  },
  {
   "cell_type": "code",
   "execution_count": 9,
   "id": "fb50492b-934a-48e4-8b34-7a660733144b",
   "metadata": {},
   "outputs": [
    {
     "data": {
      "text/plain": [
       "(4, 3, 8, 5)"
      ]
     },
     "execution_count": 9,
     "metadata": {},
     "output_type": "execute_result"
    }
   ],
   "source": [
    "TPv.shape"
   ]
  },
  {
   "cell_type": "markdown",
   "id": "f47f1c09-cd62-4e8f-9bc8-d7dd8f9c6c4a",
   "metadata": {},
   "source": [
    "Shape is: (# labels, #scores, #ious, #CV folds)"
   ]
  },
  {
   "cell_type": "markdown",
   "id": "f6abac9d-2070-4cd6-9c87-7084b9e52936",
   "metadata": {},
   "source": [
    "Calculate precision, recall, F1 (ignore /0 warnings, taken care of):"
   ]
  },
  {
   "cell_type": "code",
   "execution_count": 10,
   "id": "c16a9b1c-f9c7-47ed-8d46-0d50b7c6fa9b",
   "metadata": {},
   "outputs": [],
   "source": [
    "precision, precision_std, recall, \\\n",
    "  recall_std, f1, f1_std = calc_prec_rec_f1_cv(TPv,FPv,FNv,\n",
    "                                               LABELS,scoreminVec,\n",
    "                                               iouminVec)"
   ]
  },
  {
   "cell_type": "markdown",
   "id": "ac17c93c-d121-4430-b38a-b018a8ba487b",
   "metadata": {},
   "source": [
    "Plot and check it out!"
   ]
  },
  {
   "cell_type": "code",
   "execution_count": 11,
   "id": "2668a088-1ddd-41f5-ba3a-821c66e60b51",
   "metadata": {},
   "outputs": [
    {
     "name": "stderr",
     "output_type": "stream",
     "text": [
      "/Users/jillnaiman/anaconda3/envs/Paper1/lib/python3.7/site-packages/ipykernel_launcher.py:29: UserWarning: You have mixed positional and keyword arguments, some input may be discarded.\n"
     ]
    },
    {
     "data": {
      "image/png": "[encoded data removed]",
      "text/plain": [
       "<Figure size 1440x720 with 9 Axes>"
      ]
     },
     "metadata": {
      "needs_background": "light"
     },
     "output_type": "display_data"
    }
   ],
   "source": [
    "if len(scoreminVec) == 1:\n",
    "    fig, ax = plt.subplots(3,len(scoreminVec),  figsize=(10,10))\n",
    "    ax = np.array([ax,ax]).T\n",
    "else:\n",
    "    fig, ax = plt.subplots(3,len(scoreminVec),  figsize=(20,10))\n",
    "\n",
    "ps = []\n",
    "for i in range(len(scoreminVec)):\n",
    "    for k in range(len(LABELS)): p1, = ax[0][i].plot(iouminVec,precision[k,i,:],'o-')\n",
    "    ps.append(p1)\n",
    "    ax[0][i].set_title('Scoremin = '+str(scoreminVec[i]))\n",
    "    ax[0][0].set_ylabel('Precision %')\n",
    "    ax[0][i].set_ylim(0,105)\n",
    "    \n",
    "    for k in range(len(LABELS)): ax[1][i].plot(iouminVec,recall[k,i,:], 'o-')\n",
    "    ax[1][0].set_ylabel('Recall %')\n",
    "    ax[1][i].set_ylim(0,105)\n",
    "    \n",
    "    for k in range(len(LABELS)): \n",
    "        ax[2][i].plot(iouminVec,f1[k,i,:], 'o-')\n",
    "        # include stddev\n",
    "        ax[2][i].fill_between(iouminVec, f1[k,i,:]-f1_std[k,i,:], f1[k,i,:]+f1_std[k,i,:], alpha=0.5)\n",
    "    \n",
    "    ax[2][0].set_ylabel('F1 %')\n",
    "    ax[2][i].set_ylim(0,105)\n",
    "        \n",
    "    ax[-1][i].set_xlabel('IOU')\n",
    "\n",
    "fig.legend(ps, labels=LABELS)\n",
    "matplotlib.rcParams.update({'font.size': 12})\n",
    "plt.show()"
   ]
  },
  {
   "cell_type": "markdown",
   "id": "5c24e181-e1c4-4e9a-a42f-34afedb01da4",
   "metadata": {},
   "source": [
    "Choose a score cut-off.  For the most part, we've found 0.1 to be fine:"
   ]
  },
  {
   "cell_type": "code",
   "execution_count": 12,
   "id": "675bbcb7-4c94-4a77-bd4d-a6c2441a618f",
   "metadata": {},
   "outputs": [],
   "source": [
    "scoremin = 0.1"
   ]
  },
  {
   "cell_type": "markdown",
   "id": "043ec35f-f67e-4262-b21e-b3bf11c999e6",
   "metadata": {},
   "source": [
    "What IOU cut-offs for each label? for reference:"
   ]
  },
  {
   "cell_type": "code",
   "execution_count": 13,
   "id": "be1fed8e-11c9-4319-b6f9-dfe5e834579c",
   "metadata": {},
   "outputs": [
    {
     "data": {
      "text/plain": [
       "['figure', 'figure caption', 'math formula', 'table']"
      ]
     },
     "execution_count": 13,
     "metadata": {},
     "output_type": "execute_result"
    }
   ],
   "source": [
    "LABELS"
   ]
  },
  {
   "cell_type": "code",
   "execution_count": 14,
   "id": "4e768518-f2e4-42bf-92d6-5dbb516b2f2c",
   "metadata": {},
   "outputs": [],
   "source": [
    "ioumin_per_label = [0.9, 0.95, 0.8, 0.6] # fig, fig+caption, math formula, table"
   ]
  },
  {
   "cell_type": "code",
   "execution_count": 15,
   "id": "892bd827-aa58-47a2-a523-7e2bc0d0cb80",
   "metadata": {},
   "outputs": [],
   "source": [
    "#Shape is: (# labels, #scores, #ious, #CV folds)\n",
    "TPs, FPs, FNs, totalTrues = calc_base_metrics_allboxes_cv(LABELS,[scoremin],ioumin_per_label,\n",
    "                                              truebox3,boxes_sq5,labels_sq5, \n",
    "                                              scores_sq5,n_folds_cv=n_folds_cv)\n",
    "totalTrue = totalTrues.sum(axis=1).astype('int') # collapse onto 1 axis\n",
    "TP = np.diagonal(TPs[:,0,:,:].sum(axis=2)) # sum across all CV, then for the right IOU\n",
    "FP = np.diagonal(FPs[:,0,:,:].sum(axis=2)) # sum across all CV, then for the right IOU\n",
    "FN = np.diagonal(FNs[:,0,:,:].sum(axis=2)) # sum across all CV, then for the right IOU"
   ]
  },
  {
   "cell_type": "code",
   "execution_count": 16,
   "id": "2eec774f-0ad8-485b-b21e-532c5957e689",
   "metadata": {},
   "outputs": [],
   "source": [
    "precisions, precision_stds, recalls, \\\n",
    "  recall_stds, f1s, f1_stds = calc_prec_rec_f1_cv(TPs,FPs,FNs,\n",
    "                                               LABELS,[scoremin],\n",
    "                                               ioumin_per_label)\n",
    "precision = np.diagonal(precisions[:,0,:]) \n",
    "precision_std = np.diagonal(precision_stds[:,0,:]) \n",
    "recall = np.diagonal(recalls[:,0,:]) \n",
    "recall_std = np.diagonal(recall_stds[:,0,:]) \n",
    "f1 = np.diagonal(f1s[:,0,:]) \n",
    "f1_std = np.diagonal(f1_stds[:,0,:]) "
   ]
  },
  {
   "cell_type": "code",
   "execution_count": 17,
   "id": "9cb5acd3-f9c6-487a-b347-722525106c18",
   "metadata": {},
   "outputs": [
    {
     "name": "stdout",
     "output_type": "stream",
     "text": [
      "SCORE =  0.1  N_CV =  5\n",
      "Metric          figure          figure caption  math formula    table          \n",
      "iou cut         0.9             0.95            0.8             0.6            \n",
      "# of objs       141             137             7               112            \n",
      "--------------------------------------------------------------------------------------------\n",
      "TP              60.3%           59.1%           0.0%            32.1%          \n",
      "FP              41.1%           17.5%           800.0%          19.6%          \n",
      "FN              39.7%           40.9%           100.0%          67.9%          \n",
      "--------------------------------------------------------------------------------------------\n",
      "Precision       60.3+/-5.5%     76.6+/-5.8%     0.0+/-0.0%      59.6+/-14.1%   \n",
      "Recall          61.3+/-6.9%     58.5+/-9.0%     0.0+/-0.0%      31.3+/-10.8%   \n",
      "F1              60.6+/-5.3%     66.3+/-7.8%     0.0+/-0.0%      40.8+/-12.5%   \n"
     ]
    }
   ],
   "source": [
    "print_metrics_table(totalTrue,TP,FP,FN,\n",
    "                        precision, precision_std, recall, recall_std,f1,f1_std,\n",
    "                        LABELS, scoremin, n_folds_cv, ioumin_per_label)"
   ]
  },
  {
   "cell_type": "code",
   "execution_count": 18,
   "id": "c515f865-0db4-49a3-a2cc-5bbe80816131",
   "metadata": {},
   "outputs": [
    {
     "name": "stdout",
     "output_type": "stream",
     "text": [
      "SCORE =  0.1  N_CV =  5\n",
      "Metric          figure          figure caption  math formula    table          \n",
      "iou cut         0.6             0.6             0.6             0.6            \n",
      "# of objs       141             137             7               112            \n",
      "--------------------------------------------------------------------------------------------\n",
      "TP              87.9%           65.7%           28.6%           32.1%          \n",
      "FP              13.5%           10.9%           771.4%          19.6%          \n",
      "FN              12.1%           34.3%           71.4%           67.9%          \n",
      "--------------------------------------------------------------------------------------------\n",
      "Precision       87.2+/-8.6%     85.6+/-8.6%     3.3+/-6.7%      60.0+/-17.1%   \n",
      "Recall          88.0+/-5.6%     64.7+/-8.7%     8.0+/-16.0%     31.9+/-11.0%   \n",
      "F1              87.3+/-5.7%     73.6+/-8.3%     4.7+/-9.4%      41.6+/-13.3%   \n"
     ]
    }
   ],
   "source": [
    "#Shape is: (# labels, #scores, #ious, #CV folds)\n",
    "# TPs, FPs, FNs, totalTrues = calc_base_metrics_allboxes_cv(LABELS,[scoremin],[0.8,0.8,0.8,0.8],\n",
    "#                                               truebox3,boxes_sq5,labels_sq5, \n",
    "#                                               scores_sq5,n_folds_cv=n_folds_cv)\n",
    "TPs, FPs, FNs, totalTrues = calc_base_metrics_allboxes_cv(LABELS,[scoremin],[0.6,0.6,0.6,0.6],\n",
    "                                              truebox3,boxes_sq5,labels_sq5, \n",
    "                                              scores_sq5,n_folds_cv=n_folds_cv)\n",
    "totalTrue = totalTrues.sum(axis=1).astype('int') # collapse onto 1 axis\n",
    "TP = np.diagonal(TPs[:,0,:,:].sum(axis=2)) # sum across all CV, then for the right IOU\n",
    "FP = np.diagonal(FPs[:,0,:,:].sum(axis=2)) # sum across all CV, then for the right IOU\n",
    "FN = np.diagonal(FNs[:,0,:,:].sum(axis=2)) # sum across all CV, then for the right IOU\n",
    "\n",
    "precisions, precision_stds, recalls, \\\n",
    "  recall_stds, f1s, f1_stds = calc_prec_rec_f1_cv(TPs,FPs,FNs,\n",
    "                                               LABELS,[scoremin],\n",
    "                                               [0.8,0.8,0.8,0.8])\n",
    "precision = np.diagonal(precisions[:,0,:]) \n",
    "precision_std = np.diagonal(precision_stds[:,0,:]) \n",
    "recall = np.diagonal(recalls[:,0,:]) \n",
    "recall_std = np.diagonal(recall_stds[:,0,:]) \n",
    "f1 = np.diagonal(f1s[:,0,:]) \n",
    "f1_std = np.diagonal(f1_stds[:,0,:]) \n",
    "\n",
    "print_metrics_table(totalTrue,TP,FP,FN,\n",
    "                        precision, precision_std, recall, recall_std,f1,f1_std,\n",
    "                        LABELS, scoremin, n_folds_cv, [0.6,0.6,0.6,0.6])"
   ]
  },
  {
   "cell_type": "markdown",
   "id": "b79a59d4-0157-4184-b6ac-81d4b7da12a0",
   "metadata": {},
   "source": [
    "## Vs. Time\n",
    "Also, let's plot metrics vs. year."
   ]
  },
  {
   "cell_type": "code",
   "execution_count": 19,
   "id": "2fa537a1-dd3e-4351-a7d7-77a13e7fc4b2",
   "metadata": {},
   "outputs": [],
   "source": [
    "# pick a min score and a min IOU\n",
    "scoremin = 0.1\n",
    "ioumin = 0.8"
   ]
  },
  {
   "cell_type": "code",
   "execution_count": null,
   "id": "f53db036-015c-44af-9c68-55603c9f6c8a",
   "metadata": {},
   "outputs": [],
   "source": [
    "np.arange(1900,200"
   ]
  },
  {
   "cell_type": "code",
   "execution_count": 20,
   "id": "1db69e93-73f2-4201-ba1f-e74f6996fb7a",
   "metadata": {},
   "outputs": [
    {
     "ename": "ValueError",
     "evalue": "invalid literal for int() with base 10: '10-1'",
     "output_type": "error",
     "traceback": [
      "\u001b[0;31m---------------------------------------------------------------------------\u001b[0m",
      "\u001b[0;31mValueError\u001b[0m                                Traceback (most recent call last)",
      "\u001b[0;32m/var/folders/t5/9xgccmv92hnfvjwd62mk8zqh0000gn/T/ipykernel_73708/1719027377.py\u001b[0m in \u001b[0;36m<module>\u001b[0;34m\u001b[0m\n\u001b[1;32m      1\u001b[0m df = get_years_dataframe(imgs_name,scoremin,ioumin,LABELS,\n\u001b[0;32m----> 2\u001b[0;31m                        truebox3,boxes_sq5,labels_sq5,scores_sq5)\n\u001b[0m",
      "\u001b[0;32m~/figure_and_caption_extraction/metric_utils.py\u001b[0m in \u001b[0;36mget_years_dataframe\u001b[0;34m(imgs_name, scoremin, ioumin, LABELS, truebox3, boxes_sq5, labels_sq5, scores_sq5)\u001b[0m\n\u001b[1;32m    670\u001b[0m     \u001b[0;32mfor\u001b[0m \u001b[0mn\u001b[0m \u001b[0;32min\u001b[0m \u001b[0mimgs_name\u001b[0m\u001b[0;34m:\u001b[0m\u001b[0;34m\u001b[0m\u001b[0;34m\u001b[0m\u001b[0m\n\u001b[1;32m    671\u001b[0m         \u001b[0myears\u001b[0m\u001b[0;34m.\u001b[0m\u001b[0mappend\u001b[0m\u001b[0;34m(\u001b[0m\u001b[0mn\u001b[0m\u001b[0;34m.\u001b[0m\u001b[0msplit\u001b[0m\u001b[0;34m(\u001b[0m\u001b[0;34m'/'\u001b[0m\u001b[0;34m)\u001b[0m\u001b[0;34m[\u001b[0m\u001b[0;34m-\u001b[0m\u001b[0;36m1\u001b[0m\u001b[0;34m]\u001b[0m\u001b[0;34m[\u001b[0m\u001b[0;34m:\u001b[0m\u001b[0;36m4\u001b[0m\u001b[0;34m]\u001b[0m\u001b[0;34m)\u001b[0m\u001b[0;34m\u001b[0m\u001b[0;34m\u001b[0m\u001b[0m\n\u001b[0;32m--> 672\u001b[0;31m     \u001b[0myears_u\u001b[0m \u001b[0;34m=\u001b[0m \u001b[0mnp\u001b[0m\u001b[0;34m.\u001b[0m\u001b[0munique\u001b[0m\u001b[0;34m(\u001b[0m\u001b[0myears\u001b[0m\u001b[0;34m)\u001b[0m\u001b[0;34m.\u001b[0m\u001b[0mastype\u001b[0m\u001b[0;34m(\u001b[0m\u001b[0;34m'int'\u001b[0m\u001b[0;34m)\u001b[0m\u001b[0;34m\u001b[0m\u001b[0;34m\u001b[0m\u001b[0m\n\u001b[0m\u001b[1;32m    673\u001b[0m \u001b[0;34m\u001b[0m\u001b[0m\n\u001b[1;32m    674\u001b[0m     \u001b[0mTPyear\u001b[0m \u001b[0;34m=\u001b[0m \u001b[0mnp\u001b[0m\u001b[0;34m.\u001b[0m\u001b[0mzeros\u001b[0m\u001b[0;34m(\u001b[0m\u001b[0;34m[\u001b[0m\u001b[0mlen\u001b[0m\u001b[0;34m(\u001b[0m\u001b[0myears_u\u001b[0m\u001b[0;34m)\u001b[0m\u001b[0;34m,\u001b[0m\u001b[0mlen\u001b[0m\u001b[0;34m(\u001b[0m\u001b[0mLABELS\u001b[0m\u001b[0;34m)\u001b[0m\u001b[0;34m]\u001b[0m\u001b[0;34m)\u001b[0m\u001b[0;34m\u001b[0m\u001b[0;34m\u001b[0m\u001b[0m\n",
      "\u001b[0;31mValueError\u001b[0m: invalid literal for int() with base 10: '10-1'"
     ]
    }
   ],
   "source": [
    "try:\n",
    "    df = get_years_dataframe(imgs_name,scoremin,ioumin,LABELS,\n",
    "                       truebox3,boxes_sq5,labels_sq5,scores_sq5)\n",
    "except:\n",
    "    print('years are faked...')\n",
    "    df = get_years_dataframe(imgs_name,scoremin,ioumin,LABELS,\n",
    "                       truebox3,boxes_sq5,labels_sq5,scores_sq5, \n",
    "                            fake_years=True)"
   ]
  },
  {
   "cell_type": "code",
   "execution_count": null,
   "id": "dcb173d3-cda9-41b6-a9cc-358ef3d77a60",
   "metadata": {},
   "outputs": [],
   "source": [
    "df.head()"
   ]
  },
  {
   "cell_type": "code",
   "execution_count": null,
   "id": "41a51df8-dbd4-4bb6-a63e-1e51f0ce644a",
   "metadata": {},
   "outputs": [],
   "source": [
    "sampleHist = '10Y' # 5 years"
   ]
  },
  {
   "cell_type": "code",
   "execution_count": null,
   "id": "9acc1761-fea3-4bc8-a97a-d1695eecfe4f",
   "metadata": {},
   "outputs": [],
   "source": [
    "# loop and plot\n",
    "fig, ax = plt.subplots(1,len(LABELS), figsize=(20,8))\n",
    "matplotlib.rcParams.update({'font.size': 12})\n",
    "\n",
    "for il,l in enumerate(LABELS):\n",
    "    quant = pd.Series(index=df['years'],data=np.array(df['total:'+l])).resample(sampleHist).sum()\n",
    "    \n",
    "    quant.plot(kind='bar',ax=ax[il])\n",
    "    ax[il].set_xticklabels([x.strftime(\"%Y\") for x in quant.index], rotation=45)\n",
    "    ax[il].set_title('Total: ' + l)\n",
    "    ax[il].set_ylabel('#')\n",
    "    ax[il].set_xlabel('Year')\n",
    "#plt.show()\n",
    "\n",
    "plt.tight_layout()\n",
    "#plt.savefig(saveFigDir+'yolo_noOCR_articles_per_year.png')"
   ]
  },
  {
   "cell_type": "code",
   "execution_count": null,
   "id": "0dc85c00-3b98-4839-a34a-c9fe5603d50e",
   "metadata": {},
   "outputs": [],
   "source": [
    "# loop and plot\n",
    "qname = 'F1:'\n",
    "bname = 'total:'\n",
    "qlabel = 'F1'\n",
    "fig, ax = plt.subplots(1,len(LABELS), figsize=(20,8))\n",
    "matplotlib.rcParams.update({'font.size': 12})\n",
    "\n",
    "for il,l in enumerate(LABELS):\n",
    "    tp = pd.Series(index=df['years'],data=np.array(df['TP:'+l])).resample(sampleHist).sum()\n",
    "    fp = pd.Series(index=df['years'],data=np.array(df['FP:'+l])).resample(sampleHist).sum()\n",
    "    fn = pd.Series(index=df['years'],data=np.array(df['FN:'+l])).resample(sampleHist).sum()\n",
    "    p = tp/(tp+fp); r = tp/(tp+fn)\n",
    "    quant = 100*(2.0*r*p)/(r+p)\n",
    "    quant.plot(kind='bar',ax=ax[il])\n",
    "    ax[il].set_xticklabels([x.strftime(\"%Y\") for x in quant.index], rotation=45)\n",
    "    ax[il].set_title(qlabel+' this year bin: ' + l)\n",
    "    ax[il].set_ylabel('% of total that year')\n",
    "    ax[il].set_xlabel('Year')\n",
    "    \n",
    "plt.tight_layout()\n",
    "plt.show()"
   ]
  },
  {
   "cell_type": "markdown",
   "id": "01389b53-5060-4c52-a6bf-105b133b497f",
   "metadata": {},
   "source": [
    "Some other metrics:"
   ]
  },
  {
   "cell_type": "code",
   "execution_count": null,
   "id": "07e2156b-e705-469d-bb25-637a861b3392",
   "metadata": {},
   "outputs": [],
   "source": [
    "# loop and plot\n",
    "qname = 'TP:'\n",
    "bname = 'total:'\n",
    "qlabel = 'TP'\n",
    "fig, ax = plt.subplots(1,len(LABELS), figsize=(20,8))\n",
    "matplotlib.rcParams.update({'font.size': 12})\n",
    "\n",
    "for il,l in enumerate(LABELS):\n",
    "    counts = pd.Series(index=df['years'],data=np.array(df[qname+l])).resample(sampleHist).sum()\n",
    "    tot = pd.Series(index=df['years'],data=np.array(df[bname+l])).resample(sampleHist).sum()\n",
    "    with np.errstate(invalid='ignore'): # take care of zeros later\n",
    "        quant = pd.Series(index=tot.index,data=np.array(100*counts.values/tot.values))\n",
    "    \n",
    "    quant.plot(kind='bar',ax=ax[il])\n",
    "    ax[il].set_xticklabels([x.strftime(\"%Y\") for x in quant.index], rotation=45)\n",
    "    ax[il].set_title(qlabel+' per total for: ' + l)\n",
    "    ax[il].set_ylabel('% of total that year')\n",
    "    ax[il].set_xlabel('Year')\n",
    "#plt.show()\n",
    "plt.tight_layout()\n",
    "#plt.savefig(saveFigDir+'yolo_noOCR_truePositives_per_year.png')"
   ]
  },
  {
   "cell_type": "code",
   "execution_count": null,
   "id": "34000a3a-3070-47c0-9cb2-90bc12e6c0d0",
   "metadata": {},
   "outputs": [],
   "source": [
    "# loop and plot\n",
    "qname = 'FP:'\n",
    "bname = 'total:'\n",
    "qlabel = 'False positives'\n",
    "#fig, ax = plt.subplots(1,len(LABELS), figsize=(20,8))\n",
    "fig, ax = plt.subplots(1,len(LABELS), figsize=(20,8))\n",
    "matplotlib.rcParams.update({'font.size': 12})\n",
    "\n",
    "for il,l in enumerate(LABELS):\n",
    "    counts = pd.Series(index=df['years'],data=np.array(df[qname+l])).resample(sampleHist).sum()\n",
    "    tot = pd.Series(index=df['years'],data=np.array(df[bname+l])).resample(sampleHist).sum()\n",
    "    with np.errstate(invalid='ignore'): # take care of zeros later\n",
    "        quant = pd.Series(index=tot.index,data=np.array(100*counts.values/tot.values))\n",
    "    \n",
    "    quant.plot(kind='bar',ax=ax[il])\n",
    "    ax[il].set_xticklabels([x.strftime(\"%Y\") for x in quant.index], rotation=45)\n",
    "    ax[il].set_title(qlabel+' per total for: ' + l)\n",
    "    ax[il].set_ylabel('% of total that year')\n",
    "    ax[il].set_xlabel('Year')\n",
    "    \n",
    "plt.tight_layout()\n",
    "plt.show()"
   ]
  },
  {
   "cell_type": "code",
   "execution_count": null,
   "id": "6d8ff552-0dc6-488b-ac4c-a6b6671c4481",
   "metadata": {},
   "outputs": [],
   "source": [
    "# loop and plot\n",
    "qname = 'FN:'\n",
    "bname = 'total:'\n",
    "qlabel = 'False neg (miss box)'\n",
    "fig, ax = plt.subplots(1,len(LABELS), figsize=(20,8))\n",
    "\n",
    "for il,l in enumerate(LABELS):\n",
    "    counts = pd.Series(index=df['years'],data=np.array(df[qname+l])).resample(sampleHist).sum()\n",
    "    tot = pd.Series(index=df['years'],data=np.array(df[bname+l])).resample(sampleHist).sum()\n",
    "    with np.errstate(invalid='ignore'): # take care of zeros later\n",
    "        quant = pd.Series(index=tot.index,data=np.array(100*counts.values/tot.values))\n",
    "    \n",
    "    quant.plot(kind='bar',ax=ax[il])\n",
    "    ax[il].set_xticklabels([x.strftime(\"%Y\") for x in quant.index], rotation=45)\n",
    "    ax[il].set_title(qlabel+' per total for: ' + l)\n",
    "    ax[il].set_ylabel('% of total that year')\n",
    "    ax[il].set_xlabel('Year')\n",
    "plt.tight_layout()\n",
    "plt.show()"
   ]
  },
  {
   "cell_type": "code",
   "execution_count": null,
   "id": "9e7d9473-bb3e-4012-a7d7-e6e5aad19db8",
   "metadata": {},
   "outputs": [],
   "source": [
    "# loop and plot\n",
    "fig, ax = plt.subplots(1,len(LABELS), figsize=(20,8))\n",
    "\n",
    "for il,l in enumerate(LABELS):\n",
    "    p = tp/(tp+fp); \n",
    "    quant = 100*p\n",
    "    \n",
    "    quant.plot(kind='bar',ax=ax[il])\n",
    "    ax[il].set_xticklabels([x.strftime(\"%Y\") for x in quant.index], rotation=45)\n",
    "    ax[il].set_title('Mean Precision each year for: ' + l)\n",
    "    ax[il].set_ylabel('Precision %')\n",
    "    ax[il].set_xlabel('Year')\n",
    "plt.tight_layout()\n",
    "plt.show()"
   ]
  },
  {
   "cell_type": "code",
   "execution_count": null,
   "id": "44c08fe6-15a6-464d-b257-319696f8f9c5",
   "metadata": {},
   "outputs": [],
   "source": [
    "# loop and plot\n",
    "fig, ax = plt.subplots(1,len(LABELS), figsize=(20,8))\n",
    "\n",
    "for il,l in enumerate(LABELS):\n",
    "    r = tp/(tp+fn)\n",
    "    quant = 100*r\n",
    "    \n",
    "    quant.plot(kind='bar',ax=ax[il])\n",
    "    ax[il].set_xticklabels([x.strftime(\"%Y\") for x in quant.index], rotation=45)\n",
    "    ax[il].set_title('Mean Recall each year for: ' + l)\n",
    "    ax[il].set_ylabel('Precision %')\n",
    "    ax[il].set_xlabel('Year')\n",
    "plt.tight_layout()\n",
    "plt.show()"
   ]
  },
  {
   "cell_type": "markdown",
   "id": "b96b3f42-7111-4203-9cee-c8018cd81932",
   "metadata": {
    "tags": []
   },
   "source": [
    "# Other steps of the post processing process"
   ]
  },
  {
   "cell_type": "markdown",
   "id": "b4a04998-5be3-413d-827c-298332f90edb",
   "metadata": {},
   "source": [
    "Order of comparisons:\n",
    "\n",
    "1. Raw true vs raw found (after non-max suppression is applied)\n",
    "1. If two found boxes overlap with IOU>=0.25, take the one that has the highest score\n",
    "1. Add in PDF-mining boxes to found boxes.  If caption box overlaps with PDF raw box or a PDF figure caption box, use the PDF-mining box (other things happen with tables that we ignore here).\n",
    "1. Merge with heuristically-found figure captions.  Take the top of the heuristically-found box and the min/max of the sides and bottom of heuristic box and mega-yolo found box.\n",
    "1. ~~Add in heuristic-only found captions~~\n",
    "1. Grow found *and* true figure captions by overlap with OCR-found words and paragraphs.  \n",
    "   * **does this make wrong trueboxes??**\n",
    "1. Overlap found figure boxes with image-processing heuristically found boxes -- grow figure boxes by image-processing boxes.\n",
    "1. Take out super big captions -- captions that are 75% of the area of the page.\n",
    "1. Match figure captions with figures.  Figures can exist without captions, captions cannot exist without a figure -- if figure caption has no accompanying caption then drop this figure caption. ~~Preference for mega-yolo found captions, if none found, use heuristic-only found captions.~~\n",
    "1. Expand both true and found figure boxes down to top associated caption boxes (this expands the figure boxes \"vertically\" down).\n",
    "1. For both true and found boxes -- if caption box is horizontally larger than the figure box, expand the figure box horizontally to match width of caption box.\n"
   ]
  },
  {
   "cell_type": "markdown",
   "id": "72cf3989-e7b0-428c-b8e3-78b7d157f382",
   "metadata": {},
   "source": [
    "## Plot how metrics change with steps"
   ]
  },
  {
   "cell_type": "code",
   "execution_count": null,
   "id": "c45ef0ca-ecaf-42de-abc5-0ded129cd0e4",
   "metadata": {},
   "outputs": [],
   "source": [
    "iouvec2 = [0.05, 0.1, 0.25, 0.3, 0.4, 0.5, 0.6, 0.7, 0.75, 0.8, 0.85, 0.87, 0.9, 0.91, 0.92, 0.93, 0.94, 0.95]"
   ]
  },
  {
   "cell_type": "code",
   "execution_count": null,
   "id": "d3bd13bf-c1ca-4427-ae4b-02dba4ded77b",
   "metadata": {},
   "outputs": [],
   "source": [
    "# order of post-procesings\n",
    "trueboxes = [truebox, #1\n",
    "             truebox, #2\n",
    "             truebox, #3\n",
    "             truebox, #4\n",
    "             #truebox, #5\n",
    "             truebox1, #6\n",
    "             truebox1, #7\n",
    "             truebox1, #8\n",
    "             truebox1, #9\n",
    "             truebox2, #10\n",
    "             truebox3] #11\n",
    "foundboxes = [boxes1,#1\n",
    "              sboxes_cleaned, #2\n",
    "              boxes_pdf, #3\n",
    "              boxes_heur,#4\n",
    "              #boxes_heur2, #5\n",
    "              boxes_par_found, \n",
    "              boxes_sq1, \n",
    "              boxes_sq2, #6 --\n",
    "              boxes_sq3, #6 --\n",
    "              boxes_sq4, #7\n",
    "              boxes_sq5] #8\n",
    "foundlabels=[labels1, \n",
    "             slabels_cleaned,\n",
    "             labels_pdf,\n",
    "             labels_heur,\n",
    "            #labels_heur2,\n",
    "             labels_par_found,\n",
    "             labels_sq1,\n",
    "             labels_sq2,\n",
    "             labels_sq3,\n",
    "             labels_sq4,\n",
    "             labels_sq5]\n",
    "foundscores=[scores1,\n",
    "             sscores_cleaned,\n",
    "             scores_pdf,\n",
    "             scores_heur,\n",
    "            #scores_heur2,\n",
    "             scores_par_found,\n",
    "             scores_sq1,\n",
    "             scores_sq2,\n",
    "             scores_sq3,\n",
    "             scores_sq4,\n",
    "             scores_sq5]"
   ]
  },
  {
   "cell_type": "code",
   "execution_count": null,
   "id": "1af2e934-360f-4f08-a9f3-aeaa06e8053e",
   "metadata": {},
   "outputs": [],
   "source": [
    "len(trueboxes), len(foundboxes), len(foundlabels), len(foundscores)"
   ]
  },
  {
   "cell_type": "code",
   "execution_count": null,
   "id": "f1e900de-a5f1-4d02-a3ae-08cb76becb4d",
   "metadata": {},
   "outputs": [],
   "source": [
    "precsave = []; recsave = []; f1save = []\n",
    "TPsave = []; FPsave = []; FNsave = []\n",
    "ttsave = []\n",
    "\n",
    "for t,fb,fl,fs in zip(trueboxes, foundboxes, foundlabels, foundscores):\n",
    "    TPs, FPs, FNs, totalTrues = calc_base_metrics_allboxes_cv(LABELS,[scoremin],iouvec2,\n",
    "                                                  t,fb, fl, fs,n_folds_cv=n_folds_cv,seed=5)\n",
    "    # combo metrics\n",
    "    precisions, precision_stds, recalls, \\\n",
    "      recall_stds, f1s, f1_stds = calc_prec_rec_f1_cv(TPs,FPs,FNs,\n",
    "                                                   LABELS,[scoremin],\n",
    "                                                   iouvec2)\n",
    "\n",
    "    TPsave.append(TPs[:,0,:].sum(axis=-1)); FPsave.append(FPs[:,0,:].sum(axis=-1)); FNsave.append(FNs[:,0,:].sum(axis=-1))\n",
    "    ttsave.append(totalTrues[:,:].sum(axis=-1))\n",
    "    precsave.append(precisions[:,0,:]); recsave.append(recalls[:,0,:]); f1save.append(f1s[:,0,:])\n",
    "    #import sys; sys.exit()"
   ]
  },
  {
   "cell_type": "code",
   "execution_count": null,
   "id": "406c030a-cd35-4ef9-a831-c71ae8549d85",
   "metadata": {},
   "outputs": [],
   "source": [
    "#labels1\n",
    "np.array(TPsave).shape, TPs.shape, totalTrues.shape"
   ]
  },
  {
   "cell_type": "code",
   "execution_count": null,
   "id": "62955eeb-56e8-4918-8ef8-8e8f4feea148",
   "metadata": {},
   "outputs": [],
   "source": [
    "n = len(foundboxes)+3\n",
    "colors = plt.cm.jet(np.linspace(0,1,n))\n",
    "ylabels = ['TP','FP','FN','Precision', 'Recall', 'F1']"
   ]
  },
  {
   "cell_type": "code",
   "execution_count": null,
   "id": "872c85e3-d0b2-4191-8569-628e244868d3",
   "metadata": {},
   "outputs": [],
   "source": [
    "lw=5\n",
    "# divide by trues?\n",
    "divide_tt = True\n",
    "# fontsize?\n",
    "plt.rcParams.update({'font.size': 22})\n",
    "\n",
    "fig, ax = plt.subplots(6,len(LABELS[:2]),figsize=(30,20))\n",
    "for ip,(p,r,f,tp,fp,fn,tt) in enumerate(zip(precsave,recsave,f1save,TPsave,FPsave,FNsave,ttsave)):\n",
    "    lwh=lw\n",
    "    #lwh=5\n",
    "    #if ip==8: lwh=10\n",
    "    #lwh = 8-ip\n",
    "    for il in range(len(LABELS[:2])):\n",
    "        if not divide_tt:\n",
    "            ax[0][il].plot(iouvec2, tp[il],color=colors[ip],lw=lwh)\n",
    "            ax[1][il].plot(iouvec2, fp[il],color=colors[ip],lw=lwh)\n",
    "            ax[2][il].plot(iouvec2, fn[il],color=colors[ip],lw=lwh)\n",
    "            if il == 0:\n",
    "                ax[3][il].plot(iouvec2, p[il],color=colors[ip],label=str(ip+1),lw=lwh)\n",
    "            else:\n",
    "                ax[3][il].plot(iouvec2, p[il],color=colors[ip],lw=lwh)\n",
    "            ax[4][il].plot(iouvec2, r[il],color=colors[ip],lw=lwh)\n",
    "            ax[5][il].plot(iouvec2, f[il],color=colors[ip],lw=lwh)\n",
    "        else:\n",
    "            ax[0][il].plot(iouvec2, tp[il]/tt[il]*100,color=colors[ip],lw=lwh)\n",
    "            ax[1][il].plot(iouvec2, fp[il]/tt[il]*100,color=colors[ip],lw=lwh)\n",
    "            ax[2][il].plot(iouvec2, fn[il]/tt[il]*100,color=colors[ip],lw=lwh)\n",
    "            if il == 0:\n",
    "                ax[3][il].plot(iouvec2, p[il],color=colors[ip],label=str(ip+1),lw=lwh)\n",
    "            else:\n",
    "                ax[3][il].plot(iouvec2, p[il],color=colors[ip],lw=lwh)\n",
    "            ax[4][il].plot(iouvec2, r[il],color=colors[ip],lw=lwh)\n",
    "            ax[5][il].plot(iouvec2, f[il],color=colors[ip],lw=lwh)\n",
    "        \n",
    "for k in range(6): \n",
    "    ax[k][0].set_ylabel(ylabels[k])\n",
    "    #for j in range(len(LABELS[:2])):\n",
    "    #    ax[k][j].set_yscale('log')\n",
    "    \n",
    "ax[0][0].set_title('figure')\n",
    "ax[0][1].set_title('figure caption')\n",
    "ax[5][0].set_xlabel('IOU')\n",
    "ax[5][1].set_xlabel('IOU')\n",
    "\n",
    "fig.legend(loc='center right')\n",
    "plt.show()"
   ]
  },
  {
   "cell_type": "markdown",
   "id": "f57c5d0c-7874-4a32-8db7-2ac34e69b415",
   "metadata": {},
   "source": [
    "If you're building up different post-processing steps, check out the ratio of the last two.\n",
    "\n",
    "Negative = drop, positive = increase"
   ]
  },
  {
   "cell_type": "code",
   "execution_count": null,
   "id": "577fa1c7-8627-4bb7-8516-050a133e548c",
   "metadata": {},
   "outputs": [],
   "source": [
    "# # plot ratio of last 2 changes\n",
    "# fig, ax = plt.subplots(6,len(LABELS[:2]),figsize=(30,20))\n",
    "# lwh=5\n",
    "# for il in range(len(LABELS[:2])):\n",
    "#     ax[0][il].plot(iouvec2, TPsave[-1][il]/TPsave[-2][il]-1,color=colors[ip],lw=lwh)\n",
    "#     ax[1][il].plot(iouvec2, FPsave[-1][il]/FPsave[-2][il]-1,color=colors[ip],lw=lwh)\n",
    "#     ax[2][il].plot(iouvec2, FNsave[-1][il]/FNsave[-2][il]-1,color=colors[ip],lw=lwh)\n",
    "#     ax[3][il].plot(iouvec2, precsave[-1][il]/precsave[-2][il]-1,color=colors[ip],lw=lwh)\n",
    "#     ax[4][il].plot(iouvec2, recsave[-1][il]/recsave[-2][il]-1,color=colors[ip],lw=lwh)\n",
    "#     ax[5][il].plot(iouvec2, f1save[-1][il]/f1save[-2][il]-1,color=colors[ip],lw=lwh)\n",
    "        \n",
    "# for k in range(6): \n",
    "#     ax[k][0].set_ylabel(ylabels[k])\n",
    "#     #for j in range(len(LABELS[:2])):\n",
    "#     #    ax[k][j].set_yscale('log')\n",
    "# ax[0][0].set_title('figure')\n",
    "# ax[0][1].set_title('figure caption')\n",
    "\n",
    "# plt.show()"
   ]
  },
  {
   "cell_type": "markdown",
   "id": "027c79ff-6544-46bc-90dc-a1cbc186b5a1",
   "metadata": {},
   "source": [
    "## Save to .dat files if requested"
   ]
  },
  {
   "cell_type": "code",
   "execution_count": null,
   "id": "2ddf0462-ead2-42e9-a4a9-b4fe02811aea",
   "metadata": {},
   "outputs": [],
   "source": [
    "import os"
   ]
  },
  {
   "cell_type": "code",
   "execution_count": null,
   "id": "6a817166-5789-44cb-b5a4-a7d42d306bea",
   "metadata": {},
   "outputs": [],
   "source": [
    "if save_dats:\n",
    "    # save too\n",
    "    out_num_name = binary_dirs.split('/')[0]+adder_dats\n",
    "    num_out_file = config.save_table_dats_dir + out_num_name\n",
    "    #ioumin_per_labels = [0.1, 0.6, 0.8, 0.9, 0.95]\n",
    "    #if out_num_name != 'main':\n",
    "    if not os.path.exists(num_out_file+'/'):\n",
    "        os.makedirs(num_out_file+'/')\n",
    "    ioumin_per_labels = ioustar # just the one for our decisions\n",
    "    num_out_file += '/' + out_num_name\n",
    "    # how many labels to save up to?\n",
    "    lend = 2\n",
    "\n",
    "    # save to file\n",
    "    with open(num_out_file + '_score.dat','w') as fnum:\n",
    "        print(scorestar, file=fnum, end='')\n",
    "    with open(num_out_file + '_ncv.dat','w') as fnum:\n",
    "        print(n_folds_cv, file=fnum, end='')\n",
    "\n",
    "\n",
    "    TPv, FPv, FNv, totalTruev = calc_base_metrics_allboxes_cv(LABELS,[scorestar],ioustar,\n",
    "                                                  truebox3,boxes_sq5,labels_sq5, \n",
    "                                                  scores_sq5,n_folds_cv=n_folds_cv)\n",
    "\n",
    "    precision, precision_std, recall, \\\n",
    "      recall_std, f1, f1_std = calc_prec_rec_f1_cv(TPv,FPv,FNv,\n",
    "                                                   LABELS,[scorestar],\n",
    "                                                   ioustar)\n",
    "\n",
    "\n",
    "    # print out total true\n",
    "    for il,m in enumerate(totalTruev[:lend].sum(axis=-1)):\n",
    "        with open(num_out_file + '_totTrue_'+LABELS[il].replace(' ','_')+'.dat','w') as fnum:\n",
    "            print(int(m), file=fnum, end='')\n",
    "\n",
    "    # print out TP\n",
    "    for ii,iou in enumerate(ioustar):\n",
    "        iouhere = str(iou).replace('.','p')\n",
    "\n",
    "        TP = TPv[:,0,ii,:].sum(axis=-1)\n",
    "        FP = FPv[:,0,ii,:].sum(axis=-1)\n",
    "        FN = FNv[:,0,ii,:].sum(axis=-1)\n",
    "\n",
    "        for il,m in enumerate(TP[:lend]):\n",
    "            dat = str(round(m/totalTrue[il]*100,1))\n",
    "            with open(num_out_file + '_TP_'+LABELS[il].replace(' ','_')+'_iou'+iouhere+'.dat','w') as fnum:\n",
    "                print(dat, file=fnum, end='')\n",
    "\n",
    "        for il,m in enumerate(FP[:lend]):\n",
    "            dat = str(round(m/totalTrue[il]*100,1))\n",
    "            with open(num_out_file + '_FP_'+LABELS[il].replace(' ','_')+'_iou'+iouhere+'.dat','w') as fnum:\n",
    "                print(dat, file=fnum, end='')\n",
    "\n",
    "        for il,m in enumerate(FN[:lend]):\n",
    "            dat = str(round(m/totalTrue[il]*100,1))\n",
    "            with open(num_out_file + '_FN_'+LABELS[il].replace(' ','_')+'_iou'+iouhere+'.dat','w') as fnum:\n",
    "                print(dat, file=fnum, end='')\n",
    "\n",
    "        for il,m in enumerate(LABELS[:lend]):\n",
    "            dat = str(np.round(precision[il,0,ii],1))+'$\\pm$' +str(np.round(precision_std[il,0,ii],1))\n",
    "            with open(num_out_file + '_prec_'+LABELS[il].replace(' ','_')+'_iou'+iouhere+'.dat','w') as fnum:\n",
    "                print(dat, file=fnum, end='')\n",
    "\n",
    "        for il,m in enumerate(LABELS[:lend]):\n",
    "            dat = str(np.round(recall[il,0,ii],1))+'$\\pm$' +str(np.round(recall_std[il,0,ii],1))\n",
    "            with open(num_out_file + '_rec_'+LABELS[il].replace(' ','_')+'_iou'+iouhere+'.dat','w') as fnum:\n",
    "                print(dat, file=fnum, end='')\n",
    "\n",
    "        for il,m in enumerate(LABELS[:lend]):\n",
    "            dat = str(np.round(f1[il,0,ii],1))+'$\\pm$' +str(np.round(f1_std[il,0,ii],1))\n",
    "            with open(num_out_file + '_f1_'+LABELS[il].replace(' ','_')+'_iou'+iouhere+'.dat','w') as fnum:\n",
    "                print(dat, file=fnum, end='')\n"
   ]
  },
  {
   "cell_type": "code",
   "execution_count": null,
   "id": "bcb64404-a69f-4882-9216-9330def6c105",
   "metadata": {},
   "outputs": [],
   "source": [
    "binary_dirs"
   ]
  },
  {
   "cell_type": "code",
   "execution_count": null,
   "id": "ad78618e-7d4a-4e14-8ad8-b7904ef9873a",
   "metadata": {},
   "outputs": [],
   "source": []
  }
 ],
 "metadata": {
  "kernelspec": {
   "display_name": "Python 3 (ipykernel)",
   "language": "python",
   "name": "python3"
  },
  "language_info": {
   "codemirror_mode": {
    "name": "ipython",
    "version": 3
   },
   "file_extension": ".py",
   "mimetype": "text/x-python",
   "name": "python",
   "nbconvert_exporter": "python",
   "pygments_lexer": "ipython3",
   "version": "3.7.12"
  }
 },
 "nbformat": 4,
 "nbformat_minor": 5
}
