{
 "cells": [
  {
   "cell_type": "markdown",
   "id": "d96a15ab",
   "metadata": {
    "tags": []
   },
   "source": [
    "## Explore and Calculate Metrics\n",
    "\n",
    "Here we calculate metrics for final post-processed boxes and can look at how those metrics change with other steps in the post processing, if you want to."
   ]
  },
  {
   "cell_type": "code",
   "execution_count": 2,
   "id": "b629dc76",
   "metadata": {},
   "outputs": [],
   "source": [
    "# which metric file?\n",
    "benchmark = False\n",
    "#binary_dirs = 'binaries_model1_tfrecordz/'\n",
    "#binary_dirs = 'binaries_model2_tfrecordz/'\n",
    "#binary_dirs = 'binaries_model3_tfrecordz/'\n",
    "#binary_dirs = 'binaries_model4_tfrecordz/'\n",
    "#binary_dirs = 'binaries_model5_tfrecordz/'\n",
    "#binary_dirs = 'binaries_model6_tfrecordz/'\n",
    "#binary_dirs = 'binaries_model7_tfrecordz/'\n",
    "#binary_dirs = 'binaries_model8_tfrecordz/'\n",
    "#binary_dirs = 'binaries_model9_tfrecordz/'\n",
    "#binary_dirs = 'binaries_model10_tfrecordz/'\n",
    "#binary_dirs = 'binaries_model11_tfrecordz/'\n",
    "binary_dirs = 'binaries_model12_tfrecordz/' # winner winner, chicken dinner\n",
    "#binary_dirs = 'binaries_model13_tfrecordz/'\n",
    "#binary_dirs = 'binaries_model14_tfrecordz/'\n",
    "#binary_dirs = 'binaries_model15_tfrecordz/'\n",
    "ioustar = [0.9] # fig, caption\n",
    "# use CV or no?\n",
    "use_cv = False # only applies to saving of .dat files\n",
    "save_no_post_proc = False # also save w/o post processing\n",
    "\n",
    "\n",
    "# plot post-processing steps?\n",
    "plot_post_proc = False\n",
    "\n",
    "\n",
    "# for final-final test\n",
    "binary_dirs = 'binaries_model12_finaltest/'# for final test set\n",
    "ioustar = [0.1,0.6,0.8,0.9] # fig, caption\n",
    "use_cv = True # only applies to saving of .dat files\n",
    "save_no_post_proc = True # also save w/o post processing\n",
    "\n",
    "\n",
    "# binary_dirs = 'binaries_model12_tfrecordz_pmcnoncom/'\n",
    "# # # for benchmarks,ioustar defaults to 0.6 or 0.9\n",
    "# benchmark = True\n",
    "# ioubench = 0.8\n",
    "\n",
    "# binary_dirs = 'binaries_model12_scanbank/'\n",
    "# # # for benchmarks,ioustar defaults to 0.6 or 0.9\n",
    "# benchmark = True\n",
    "# ioubench = 0.8\n",
    "\n",
    "\n",
    "seed = 5 # set seed for CV -- good if you wanna compare things\n",
    "\n",
    "\n",
    "# do we want to store any diagnostic plots (this will slow things down)\n",
    "store_diagnostics = False # set to False or None if you don't want to"
   ]
  },
  {
   "cell_type": "code",
   "execution_count": 3,
   "id": "db860952",
   "metadata": {},
   "outputs": [],
   "source": [
    "use_valid = False # should always be false, just take out\n",
    "\n",
    "# do we want to save our results to .dat files for use in other areas (like tables in latex)\n",
    "save_dats = True\n",
    "#any extra tag to anything\n",
    "adder_dats = ''\n",
    "# which iou's to save?\n",
    "#ioustar = [0.9,0.95] # fig, caption\n",
    "#ioustar = [0.1,0.6,0.9] # fig, caption\n",
    "scorestar = 0.1\n",
    "\n",
    "if benchmark: ioustar = [ioubench]\n",
    "\n",
    "adder = ''\n",
    "#adder = 'colorbar'\n",
    "#adder = 'truebox'\n",
    "\n",
    "if use_valid: adder = '_valid'"
   ]
  },
  {
   "cell_type": "markdown",
   "id": "4208b50c",
   "metadata": {},
   "source": [
    "How do we want to quantify how well we are doing?"
   ]
  },
  {
   "cell_type": "code",
   "execution_count": 4,
   "id": "3d5d4f4f",
   "metadata": {},
   "outputs": [],
   "source": [
    "n_folds_cv = 5 # for calculating the spread in our metrics, we we'll do a CV\n",
    "#####if not use_cv: n_folds_cv = 1\n",
    "scoreminVec = [0.1, 0.5, 0.9] # list of minimum box \"scores\"\n",
    "iouminVec = [0.1, 0.5, 0.6, 0.7, 0.75, 0.8, 0.9, 0.95] # list of IOU cut offs we want to explore"
   ]
  },
  {
   "cell_type": "code",
   "execution_count": 5,
   "id": "27b44486",
   "metadata": {},
   "outputs": [],
   "source": [
    "import pickle\n",
    "import config\n",
    "import numpy as np\n",
    "import matplotlib.pyplot as plt\n",
    "import matplotlib\n",
    "import pandas as pd\n",
    "from PIL import Image\n",
    "import cv2 as cv\n",
    "from metric_utils import calc_base_metrics_allboxes_cv, calc_prec_rec_f1_cv, print_metrics_table, \\\n",
    "  get_years_dataframe, calc_AP\n",
    "from general_utils import create_destroy_dirs"
   ]
  },
  {
   "cell_type": "code",
   "execution_count": 6,
   "id": "c85e3d6d",
   "metadata": {},
   "outputs": [],
   "source": [
    "diagnostics_dir = config.tmp_storage_dir\n",
    "if store_diagnostics is None: store_diagnostics = config.store_diagnostics\n",
    "    \n",
    "if store_diagnostics:\n",
    "    for d in ['FN/','FP/','TP/']:\n",
    "        create_destroy_dirs(diagnostics_dir+d)"
   ]
  },
  {
   "cell_type": "code",
   "execution_count": 7,
   "id": "f0950df0",
   "metadata": {},
   "outputs": [],
   "source": [
    "# # debugging\n",
    "# import metric_utils\n",
    "# reload(metric_utils)\n",
    "# from metric_utils import calc_base_metrics_allboxes_cv,calc_metrics"
   ]
  },
  {
   "cell_type": "code",
   "execution_count": 8,
   "id": "5f832131",
   "metadata": {},
   "outputs": [],
   "source": [
    "# build up filename\n",
    "pp = config.metric_results_dir\n",
    "pp += binary_dirs.split('/')[0]\n",
    "pp += adder\n",
    "pp += '.pickle'\n",
    "with open(pp, 'rb') as ff:\n",
    "    icombo,imgs_name, truebox, pdfboxes, pdfrawboxes, captionText_figcap,\\\n",
    "                 bbox_figcap_pars,\\\n",
    "                 sboxes_cleaned, slabels_cleaned, sscores_cleaned,\\\n",
    "                 boxes_pdf, labels_pdf, scores_pdf,\\\n",
    "                 boxes_heur, labels_heur, scores_heur,\\\n",
    "                 boxes_heur2, labels_heur2, scores_heur2,\\\n",
    "                 boxes_par_found, labels_par_found, scores_par_found,\\\n",
    "                 boxes_sq1, labels_sq1, scores_sq1,\\\n",
    "                 boxes_sq2, labels_sq2, scores_sq2,\\\n",
    "                 boxes_sq3, labels_sq3, scores_sq3,\\\n",
    "                 boxes_sq4, labels_sq4, scores_sq4,\\\n",
    "                 boxes_sq5, labels_sq5, scores_sq5,\\\n",
    "                 truebox1,truebox2,truebox3,rotatedImage,LABELS,boxes1, scores1, labels1 = pickle.load(ff)"
   ]
  },
  {
   "cell_type": "code",
   "execution_count": 9,
   "id": "fd77f30d",
   "metadata": {},
   "outputs": [
    {
     "data": {
      "text/plain": [
       "830"
      ]
     },
     "execution_count": 9,
     "metadata": {},
     "output_type": "execute_result"
    }
   ],
   "source": [
    "len(imgs_name)"
   ]
  },
  {
   "cell_type": "code",
   "execution_count": 10,
   "id": "e1fe9538",
   "metadata": {},
   "outputs": [
    {
     "data": {
      "text/plain": [
       "'/Users/jillnaiman/Dropbox/wwt_image_extraction/FigureLocalization/MetricsResults/'"
      ]
     },
     "execution_count": 10,
     "metadata": {},
     "output_type": "execute_result"
    }
   ],
   "source": [
    "config.metric_results_dir"
   ]
  },
  {
   "cell_type": "markdown",
   "id": "16ee4f8b",
   "metadata": {},
   "source": [
    "Final box analytics:"
   ]
  },
  {
   "cell_type": "code",
   "execution_count": 11,
   "id": "6afa98f1",
   "metadata": {},
   "outputs": [],
   "source": [
    "TPv, FPv, FNv, totalTruev = calc_base_metrics_allboxes_cv(LABELS,scoreminVec,iouminVec,\n",
    "                                              truebox3,boxes_sq5,labels_sq5, \n",
    "                                              scores_sq5,n_folds_cv=n_folds_cv,\n",
    "                                                         seed=seed)"
   ]
  },
  {
   "cell_type": "code",
   "execution_count": 12,
   "id": "3aff4a79",
   "metadata": {},
   "outputs": [
    {
     "data": {
      "text/plain": [
       "(4, 3, 8, 5)"
      ]
     },
     "execution_count": 12,
     "metadata": {},
     "output_type": "execute_result"
    }
   ],
   "source": [
    "TPv.shape"
   ]
  },
  {
   "cell_type": "markdown",
   "id": "8e3c53d8",
   "metadata": {},
   "source": [
    "Shape is: (# labels, #scores, #ious, #CV folds)"
   ]
  },
  {
   "cell_type": "markdown",
   "id": "04e1495e",
   "metadata": {},
   "source": [
    "Calculate precision, recall, F1 (ignore /0 warnings, taken care of):"
   ]
  },
  {
   "cell_type": "code",
   "execution_count": 13,
   "id": "ec3a4462",
   "metadata": {},
   "outputs": [],
   "source": [
    "precision, precision_std, recall, \\\n",
    "  recall_std, f1, f1_std = calc_prec_rec_f1_cv(TPv,FPv,FNv,\n",
    "                                               LABELS,scoreminVec,\n",
    "                                               iouminVec)"
   ]
  },
  {
   "cell_type": "markdown",
   "id": "cb022063",
   "metadata": {},
   "source": [
    "Plot and check it out!"
   ]
  },
  {
   "cell_type": "code",
   "execution_count": 14,
   "id": "4559846a",
   "metadata": {},
   "outputs": [
    {
     "name": "stderr",
     "output_type": "stream",
     "text": [
      "/Users/jillnaiman/anaconda3/envs/Paper1/lib/python3.7/site-packages/ipykernel_launcher.py:29: UserWarning: You have mixed positional and keyword arguments, some input may be discarded.\n"
     ]
    },
    {
     "data": {
      "image/png": "[encoded data removed]",
      "text/plain": [
       "<Figure size 1440x720 with 9 Axes>"
      ]
     },
     "metadata": {
      "needs_background": "light"
     },
     "output_type": "display_data"
    }
   ],
   "source": [
    "if len(scoreminVec) == 1:\n",
    "    fig, ax = plt.subplots(3,len(scoreminVec),  figsize=(10,10))\n",
    "    ax = np.array([ax,ax]).T\n",
    "else:\n",
    "    fig, ax = plt.subplots(3,len(scoreminVec),  figsize=(20,10))\n",
    "\n",
    "ps = []\n",
    "for i in range(len(scoreminVec)):\n",
    "    for k in range(len(LABELS)): p1, = ax[0][i].plot(iouminVec,precision[k,i,:],'o-')\n",
    "    ps.append(p1)\n",
    "    ax[0][i].set_title('Scoremin = '+str(scoreminVec[i]))\n",
    "    ax[0][0].set_ylabel('Precision %')\n",
    "    ax[0][i].set_ylim(0,105)\n",
    "    \n",
    "    for k in range(len(LABELS)): ax[1][i].plot(iouminVec,recall[k,i,:], 'o-')\n",
    "    ax[1][0].set_ylabel('Recall %')\n",
    "    ax[1][i].set_ylim(0,105)\n",
    "    \n",
    "    for k in range(len(LABELS)): \n",
    "        ax[2][i].plot(iouminVec,f1[k,i,:], 'o-')\n",
    "        # include stddev\n",
    "        ax[2][i].fill_between(iouminVec, f1[k,i,:]-f1_std[k,i,:], f1[k,i,:]+f1_std[k,i,:], alpha=0.5)\n",
    "    \n",
    "    ax[2][0].set_ylabel('F1 %')\n",
    "    ax[2][i].set_ylim(0,105)\n",
    "        \n",
    "    ax[-1][i].set_xlabel('IOU')\n",
    "\n",
    "fig.legend(ps, labels=LABELS)\n",
    "matplotlib.rcParams.update({'font.size': 12})\n",
    "plt.show()"
   ]
  },
  {
   "cell_type": "markdown",
   "id": "d7dd2793",
   "metadata": {},
   "source": [
    "Choose a score cut-off.  For the most part, we've found 0.1 to be fine:"
   ]
  },
  {
   "cell_type": "code",
   "execution_count": 15,
   "id": "47633414",
   "metadata": {},
   "outputs": [],
   "source": [
    "scoremin = 0.1"
   ]
  },
  {
   "cell_type": "markdown",
   "id": "d688fde4-f895-4800-be6a-660008f59674",
   "metadata": {},
   "source": [
    "Also calculate mAP/AP using the COCO ranges:"
   ]
  },
  {
   "cell_type": "code",
   "execution_count": 16,
   "id": "46ba2453-e18a-45f3-868d-c679c537b2f7",
   "metadata": {},
   "outputs": [],
   "source": [
    "aps = calc_AP(truebox3,boxes_sq5,labels_sq5, scores_sq5,LABELS, \n",
    "            scoreMin = [scoremin])"
   ]
  },
  {
   "cell_type": "code",
   "execution_count": 17,
   "id": "69aa9d76-4d46-4cb3-9994-f315e3536029",
   "metadata": {},
   "outputs": [
    {
     "name": "stdout",
     "output_type": "stream",
     "text": [
      "figure AP =  91.51\n",
      "figure caption AP =  87.91\n",
      "math formula AP =  44.02\n",
      "table AP =  72.23\n"
     ]
    }
   ],
   "source": [
    "for il,l in enumerate(LABELS):\n",
    "    print(l, 'AP = ', round(aps[il]*100,2))"
   ]
  },
  {
   "cell_type": "markdown",
   "id": "6211221e",
   "metadata": {},
   "source": [
    "What IOU cut-offs for each label? for reference:"
   ]
  },
  {
   "cell_type": "code",
   "execution_count": 18,
   "id": "decef9cc",
   "metadata": {},
   "outputs": [
    {
     "data": {
      "text/plain": [
       "['figure', 'figure caption', 'math formula', 'table']"
      ]
     },
     "execution_count": 18,
     "metadata": {},
     "output_type": "execute_result"
    }
   ],
   "source": [
    "LABELS"
   ]
  },
  {
   "cell_type": "code",
   "execution_count": 19,
   "id": "5dee053c",
   "metadata": {},
   "outputs": [],
   "source": [
    "ioumin_per_label = [0.9, 0.95, 0.8, 0.6] # fig, fig+caption, math formula, table"
   ]
  },
  {
   "cell_type": "code",
   "execution_count": 20,
   "id": "f1e711ff",
   "metadata": {},
   "outputs": [],
   "source": [
    "#Shape is: (# labels, #scores, #ious, #CV folds)\n",
    "TPs, FPs, FNs, totalTrues = calc_base_metrics_allboxes_cv(LABELS,[scoremin],ioumin_per_label,\n",
    "                                              truebox3,boxes_sq5,labels_sq5, \n",
    "                                              scores_sq5,n_folds_cv=n_folds_cv,\n",
    "                                                         seed=seed)\n",
    "totalTrue = totalTrues.sum(axis=1).astype('int') # collapse onto 1 axis\n",
    "TP = np.diagonal(TPs[:,0,:,:].sum(axis=2)) # sum across all CV, then for the right IOU\n",
    "FP = np.diagonal(FPs[:,0,:,:].sum(axis=2)) # sum across all CV, then for the right IOU\n",
    "FN = np.diagonal(FNs[:,0,:,:].sum(axis=2)) # sum across all CV, then for the right IOU"
   ]
  },
  {
   "cell_type": "code",
   "execution_count": 21,
   "id": "8df803b7",
   "metadata": {},
   "outputs": [],
   "source": [
    "precisions, precision_stds, recalls, \\\n",
    "  recall_stds, f1s, f1_stds = calc_prec_rec_f1_cv(TPs,FPs,FNs,\n",
    "                                               LABELS,[scoremin],\n",
    "                                               ioumin_per_label)\n",
    "precision = np.diagonal(precisions[:,0,:]) \n",
    "precision_std = np.diagonal(precision_stds[:,0,:]) \n",
    "recall = np.diagonal(recalls[:,0,:]) \n",
    "recall_std = np.diagonal(recall_stds[:,0,:]) \n",
    "f1 = np.diagonal(f1s[:,0,:]) \n",
    "f1_std = np.diagonal(f1_stds[:,0,:]) "
   ]
  },
  {
   "cell_type": "code",
   "execution_count": 22,
   "id": "35dfc4c5",
   "metadata": {},
   "outputs": [
    {
     "name": "stdout",
     "output_type": "stream",
     "text": [
      "SCORE =  0.1  N_CV =  5\n",
      "Metric          figure          figure caption  math formula    table          \n",
      "iou cut         0.9             0.95            0.8             0.6            \n",
      "# of objs       490             487             318             218            \n",
      "--------------------------------------------------------------------------------------------\n",
      "TP              85.7%           86.4%           22.6%           83.5%          \n",
      "FP              13.7%           8.8%            64.5%           5.0%           \n",
      "FN              3.5%            6.0%            17.0%           12.4%          \n",
      "--------------------------------------------------------------------------------------------\n",
      "Precision       86.3+/-3.2%     90.7+/-2.4%     26.1+/-4.1%     94.2+/-2.0%    \n",
      "Recall          96.1+/-1.0%     93.6+/-1.5%     57.7+/-8.6%     87.5+/-5.7%    \n",
      "F1              90.9+/-1.6%     92.1+/-1.7%     35.5+/-4.1%     90.7+/-3.9%    \n"
     ]
    }
   ],
   "source": [
    "print_metrics_table(totalTrue,TP,FP,FN,\n",
    "                        precision, precision_std, recall, recall_std,f1,f1_std,\n",
    "                        LABELS, scoremin, n_folds_cv, ioumin_per_label)"
   ]
  },
  {
   "cell_type": "code",
   "execution_count": 23,
   "id": "f48848cb",
   "metadata": {},
   "outputs": [],
   "source": [
    "#len(imgs_name)\n",
    "#len(truebox3)"
   ]
  },
  {
   "cell_type": "code",
   "execution_count": 24,
   "id": "f549bbd7",
   "metadata": {},
   "outputs": [
    {
     "ename": "TypeError",
     "evalue": "calc_base_metrics_allboxes_cv() got an unexpected keyword argument 'seeds'",
     "output_type": "error",
     "traceback": [
      "\u001b[0;31m---------------------------------------------------------------------------\u001b[0m",
      "\u001b[0;31mTypeError\u001b[0m                                 Traceback (most recent call last)",
      "\u001b[0;32m/var/folders/t5/9xgccmv92hnfvjwd62mk8zqh0000gn/T/ipykernel_33401/1384574747.py\u001b[0m in \u001b[0;36m<module>\u001b[0;34m\u001b[0m\n\u001b[1;32m     10\u001b[0m                                               \u001b[0mtruebox3\u001b[0m\u001b[0;34m,\u001b[0m\u001b[0mboxes_sq5\u001b[0m\u001b[0;34m,\u001b[0m\u001b[0mlabels_sq5\u001b[0m\u001b[0;34m,\u001b[0m\u001b[0;34m\u001b[0m\u001b[0;34m\u001b[0m\u001b[0m\n\u001b[1;32m     11\u001b[0m                                               \u001b[0mscores_sq5\u001b[0m\u001b[0;34m,\u001b[0m\u001b[0mn_folds_cv\u001b[0m\u001b[0;34m=\u001b[0m\u001b[0mn_folds_cv\u001b[0m\u001b[0;34m,\u001b[0m\u001b[0;34m\u001b[0m\u001b[0;34m\u001b[0m\u001b[0m\n\u001b[0;32m---> 12\u001b[0;31m                                                          seeds=seed)\n\u001b[0m\u001b[1;32m     13\u001b[0m \u001b[0mtotalTrue\u001b[0m \u001b[0;34m=\u001b[0m \u001b[0mtotalTrues\u001b[0m\u001b[0;34m.\u001b[0m\u001b[0msum\u001b[0m\u001b[0;34m(\u001b[0m\u001b[0maxis\u001b[0m\u001b[0;34m=\u001b[0m\u001b[0;36m1\u001b[0m\u001b[0;34m)\u001b[0m\u001b[0;34m.\u001b[0m\u001b[0mastype\u001b[0m\u001b[0;34m(\u001b[0m\u001b[0;34m'int'\u001b[0m\u001b[0;34m)\u001b[0m \u001b[0;31m# collapse onto 1 axis\u001b[0m\u001b[0;34m\u001b[0m\u001b[0;34m\u001b[0m\u001b[0m\n\u001b[1;32m     14\u001b[0m \u001b[0mTP\u001b[0m \u001b[0;34m=\u001b[0m \u001b[0mnp\u001b[0m\u001b[0;34m.\u001b[0m\u001b[0mdiagonal\u001b[0m\u001b[0;34m(\u001b[0m\u001b[0mTPs\u001b[0m\u001b[0;34m[\u001b[0m\u001b[0;34m:\u001b[0m\u001b[0;34m,\u001b[0m\u001b[0;36m0\u001b[0m\u001b[0;34m,\u001b[0m\u001b[0;34m:\u001b[0m\u001b[0;34m,\u001b[0m\u001b[0;34m:\u001b[0m\u001b[0;34m]\u001b[0m\u001b[0;34m.\u001b[0m\u001b[0msum\u001b[0m\u001b[0;34m(\u001b[0m\u001b[0maxis\u001b[0m\u001b[0;34m=\u001b[0m\u001b[0;36m2\u001b[0m\u001b[0;34m)\u001b[0m\u001b[0;34m)\u001b[0m \u001b[0;31m# sum across all CV, then for the right IOU\u001b[0m\u001b[0;34m\u001b[0m\u001b[0;34m\u001b[0m\u001b[0m\n",
      "\u001b[0;31mTypeError\u001b[0m: calc_base_metrics_allboxes_cv() got an unexpected keyword argument 'seeds'"
     ]
    }
   ],
   "source": [
    "#Shape is: (# labels, #scores, #ious, #CV folds)\n",
    "iousStandard = [0.8,0.8,0.8,0.8]\n",
    "iousStandard = [0.6,0.6,0.6,0.6]\n",
    "#iousStandard = [0.9,0.9,0.9,0.9]\n",
    "\n",
    "# TPs, FPs, FNs, totalTrues = calc_base_metrics_allboxes_cv(LABELS,[scoremin],[0.8,0.8,0.8,0.8],\n",
    "#                                               truebox3,boxes_sq5,labels_sq5, \n",
    "#                                               scores_sq5,n_folds_cv=n_folds_cv)\n",
    "TPs, FPs, FNs, totalTrues = calc_base_metrics_allboxes_cv(LABELS,[scoremin],iousStandard,\n",
    "                                              truebox3,boxes_sq5,labels_sq5, \n",
    "                                              scores_sq5,n_folds_cv=n_folds_cv,\n",
    "                                                         seeds=seed)\n",
    "totalTrue = totalTrues.sum(axis=1).astype('int') # collapse onto 1 axis\n",
    "TP = np.diagonal(TPs[:,0,:,:].sum(axis=2)) # sum across all CV, then for the right IOU\n",
    "FP = np.diagonal(FPs[:,0,:,:].sum(axis=2)) # sum across all CV, then for the right IOU\n",
    "FN = np.diagonal(FNs[:,0,:,:].sum(axis=2)) # sum across all CV, then for the right IOU\n",
    "\n",
    "precisions, precision_stds, recalls, \\\n",
    "  recall_stds, f1s, f1_stds = calc_prec_rec_f1_cv(TPs,FPs,FNs,\n",
    "                                               LABELS,[scoremin],\n",
    "                                               iousStandard)\n",
    "precision = np.diagonal(precisions[:,0,:]) \n",
    "precision_std = np.diagonal(precision_stds[:,0,:]) \n",
    "recall = np.diagonal(recalls[:,0,:]) \n",
    "recall_std = np.diagonal(recall_stds[:,0,:]) \n",
    "f1 = np.diagonal(f1s[:,0,:]) \n",
    "f1_std = np.diagonal(f1_stds[:,0,:]) \n",
    "\n",
    "print_metrics_table(totalTrue,TP,FP,FN,\n",
    "                        precision, precision_std, recall, recall_std,f1,f1_std,\n",
    "                        LABELS, scoremin, n_folds_cv, iousStandard)"
   ]
  },
  {
   "cell_type": "markdown",
   "id": "160a71b0",
   "metadata": {},
   "source": [
    "If we want to store diagnostics, loop and calculate TP,FP,FN for all and save as figs.  Note: this will slow things down!"
   ]
  },
  {
   "cell_type": "code",
   "execution_count": null,
   "id": "233eb77f",
   "metadata": {},
   "outputs": [],
   "source": [
    "iouDiag = 0.9\n",
    "uptoInd = 2 # only figs, fig captions\n",
    "if store_diagnostics:\n",
    "    for ic,(iname,tb,fb,lb,sb) in enumerate(zip(imgs_name,truebox3,boxes_sq5,labels_sq5,scores_sq5)):\n",
    "        if ic%50 == 0: print('on', ic, 'of', len(imgs_name))\n",
    "        TPs, FPs, FNs, totalTrues = calc_base_metrics_allboxes_cv(LABELS,[scoremin],[iouDiag],\n",
    "                                                  [tb],[fb],[lb], [sb],n_folds_cv=1)\n",
    "        iiname = config.images_jpeg_dir+iname.split('/')[-1].rstrip('.npz')+'.jpeg'\n",
    "        img = np.array(Image.open(iiname).convert('RGB'))\n",
    "        xfrac = img.shape[1]/config.IMAGE_W\n",
    "        yfrac = img.shape[0]/config.IMAGE_H\n",
    "        for met,metdir in zip([TPs, FPs, FNs],['TP','FP','FN']): # loop over all metrics\n",
    "            if np.sum(met[:uptoInd].flatten()) > 0: # have at least one hit\n",
    "                for bb in tb: # draw true\n",
    "                    if bb[-1] < uptoInd+1: # only for select ones\n",
    "                        xmin=round(bb[0]*xfrac); xmax = round(bb[2]*xfrac)\n",
    "                        ymin=round(bb[1]*yfrac); ymax=round(bb[3]*yfrac)\n",
    "                        cv.rectangle(img, (round(xmin), round(ymin)), \n",
    "                                     (round(xmax),round(ymax)), (0,0,255), 5)\n",
    "                for bb,ll in zip(fb,lb): # draw found\n",
    "                    if ll <uptoInd:\n",
    "                        xmin=round(bb[0]*xfrac); xmax = round(bb[2]*xfrac)\n",
    "                        ymin=round(bb[1]*yfrac); ymax=round(bb[3]*yfrac)\n",
    "                        cv.rectangle(img, (round(xmin), round(ymin)), \n",
    "                                     (round(xmax),round(ymax)), (255,0,0), 5)\n",
    "\n",
    "                # save\n",
    "                Image.fromarray(img).save(diagnostics_dir+metdir+'/'+ iname.split('/')[-1].rstrip('.npz')+'.jpeg')"
   ]
  },
  {
   "cell_type": "code",
   "execution_count": null,
   "id": "b21dc668",
   "metadata": {},
   "outputs": [],
   "source": [
    "#labels_sq5"
   ]
  },
  {
   "cell_type": "code",
   "execution_count": null,
   "id": "3acb83a6",
   "metadata": {},
   "outputs": [],
   "source": []
  },
  {
   "cell_type": "code",
   "execution_count": null,
   "id": "49623757",
   "metadata": {},
   "outputs": [],
   "source": []
  },
  {
   "cell_type": "markdown",
   "id": "2b2783b1",
   "metadata": {},
   "source": [
    "## Vs. Time\n",
    "Also, let's plot metrics vs. year."
   ]
  },
  {
   "cell_type": "code",
   "execution_count": null,
   "id": "092ff509",
   "metadata": {},
   "outputs": [],
   "source": [
    "# pick a min score and a min IOU\n",
    "scoremin = 0.1\n",
    "ioumin = 0.8"
   ]
  },
  {
   "cell_type": "code",
   "execution_count": null,
   "id": "f9228b8d",
   "metadata": {},
   "outputs": [],
   "source": [
    "np.random.randint(1900,2000,5)"
   ]
  },
  {
   "cell_type": "code",
   "execution_count": null,
   "id": "5203ddc4",
   "metadata": {},
   "outputs": [],
   "source": [
    "try:\n",
    "    df = get_years_dataframe(imgs_name,scoremin,ioumin,LABELS,\n",
    "                       truebox3,boxes_sq5,labels_sq5,scores_sq5)\n",
    "except:\n",
    "    print('years are faked...')\n",
    "    df = get_years_dataframe(imgs_name,scoremin,ioumin,LABELS,\n",
    "                       truebox3,boxes_sq5,labels_sq5,scores_sq5, \n",
    "                            fake_years=True)"
   ]
  },
  {
   "cell_type": "code",
   "execution_count": null,
   "id": "d067eff6",
   "metadata": {},
   "outputs": [],
   "source": [
    "df.head()"
   ]
  },
  {
   "cell_type": "code",
   "execution_count": null,
   "id": "1f5eb661",
   "metadata": {},
   "outputs": [],
   "source": [
    "sampleHist = '10Y' # 5 years"
   ]
  },
  {
   "cell_type": "code",
   "execution_count": null,
   "id": "8e1d50d0",
   "metadata": {},
   "outputs": [],
   "source": [
    "# loop and plot\n",
    "fig, ax = plt.subplots(1,len(LABELS), figsize=(20,8))\n",
    "matplotlib.rcParams.update({'font.size': 12})\n",
    "\n",
    "for il,l in enumerate(LABELS):\n",
    "    quant = pd.Series(index=df['years'],data=np.array(df['total:'+l])).resample(sampleHist).sum()\n",
    "    \n",
    "    quant.plot(kind='bar',ax=ax[il])\n",
    "    ax[il].set_xticklabels([x.strftime(\"%Y\") for x in quant.index], rotation=45)\n",
    "    ax[il].set_title('Total: ' + l)\n",
    "    ax[il].set_ylabel('#')\n",
    "    ax[il].set_xlabel('Year')\n",
    "#plt.show()\n",
    "\n",
    "plt.tight_layout()\n",
    "#plt.savefig(saveFigDir+'yolo_noOCR_articles_per_year.png')"
   ]
  },
  {
   "cell_type": "code",
   "execution_count": null,
   "id": "05e2f9d6",
   "metadata": {},
   "outputs": [],
   "source": [
    "# loop and plot\n",
    "qname = 'F1:'\n",
    "bname = 'total:'\n",
    "qlabel = 'F1'\n",
    "fig, ax = plt.subplots(1,len(LABELS), figsize=(20,8))\n",
    "matplotlib.rcParams.update({'font.size': 12})\n",
    "\n",
    "for il,l in enumerate(LABELS):\n",
    "    tp = pd.Series(index=df['years'],data=np.array(df['TP:'+l])).resample(sampleHist).sum()\n",
    "    fp = pd.Series(index=df['years'],data=np.array(df['FP:'+l])).resample(sampleHist).sum()\n",
    "    fn = pd.Series(index=df['years'],data=np.array(df['FN:'+l])).resample(sampleHist).sum()\n",
    "    p = tp/(tp+fp); r = tp/(tp+fn)\n",
    "    quant = 100*(2.0*r*p)/(r+p)\n",
    "    quant.plot(kind='bar',ax=ax[il])\n",
    "    ax[il].set_xticklabels([x.strftime(\"%Y\") for x in quant.index], rotation=45)\n",
    "    ax[il].set_title(qlabel+' this year bin: ' + l)\n",
    "    ax[il].set_ylabel('% of total that year')\n",
    "    ax[il].set_xlabel('Year')\n",
    "    \n",
    "plt.tight_layout()\n",
    "plt.show()"
   ]
  },
  {
   "cell_type": "markdown",
   "id": "d5b8f45b",
   "metadata": {},
   "source": [
    "Some other metrics:"
   ]
  },
  {
   "cell_type": "code",
   "execution_count": null,
   "id": "070f233f",
   "metadata": {},
   "outputs": [],
   "source": [
    "# loop and plot\n",
    "qname = 'TP:'\n",
    "bname = 'total:'\n",
    "qlabel = 'TP'\n",
    "fig, ax = plt.subplots(1,len(LABELS), figsize=(20,8))\n",
    "matplotlib.rcParams.update({'font.size': 12})\n",
    "\n",
    "for il,l in enumerate(LABELS):\n",
    "    counts = pd.Series(index=df['years'],data=np.array(df[qname+l])).resample(sampleHist).sum()\n",
    "    tot = pd.Series(index=df['years'],data=np.array(df[bname+l])).resample(sampleHist).sum()\n",
    "    with np.errstate(invalid='ignore'): # take care of zeros later\n",
    "        quant = pd.Series(index=tot.index,data=np.array(100*counts.values/tot.values))\n",
    "    \n",
    "    quant.plot(kind='bar',ax=ax[il])\n",
    "    ax[il].set_xticklabels([x.strftime(\"%Y\") for x in quant.index], rotation=45)\n",
    "    ax[il].set_title(qlabel+' per total for: ' + l)\n",
    "    ax[il].set_ylabel('% of total that year')\n",
    "    ax[il].set_xlabel('Year')\n",
    "#plt.show()\n",
    "plt.tight_layout()\n",
    "#plt.savefig(saveFigDir+'yolo_noOCR_truePositives_per_year.png')"
   ]
  },
  {
   "cell_type": "code",
   "execution_count": null,
   "id": "d2be6760",
   "metadata": {},
   "outputs": [],
   "source": [
    "# loop and plot\n",
    "qname = 'FP:'\n",
    "bname = 'total:'\n",
    "qlabel = 'False positives'\n",
    "#fig, ax = plt.subplots(1,len(LABELS), figsize=(20,8))\n",
    "fig, ax = plt.subplots(1,len(LABELS), figsize=(20,8))\n",
    "matplotlib.rcParams.update({'font.size': 12})\n",
    "\n",
    "for il,l in enumerate(LABELS):\n",
    "    counts = pd.Series(index=df['years'],data=np.array(df[qname+l])).resample(sampleHist).sum()\n",
    "    tot = pd.Series(index=df['years'],data=np.array(df[bname+l])).resample(sampleHist).sum()\n",
    "    with np.errstate(invalid='ignore'): # take care of zeros later\n",
    "        quant = pd.Series(index=tot.index,data=np.array(100*counts.values/tot.values))\n",
    "    \n",
    "    quant.plot(kind='bar',ax=ax[il])\n",
    "    ax[il].set_xticklabels([x.strftime(\"%Y\") for x in quant.index], rotation=45)\n",
    "    ax[il].set_title(qlabel+' per total for: ' + l)\n",
    "    ax[il].set_ylabel('% of total that year')\n",
    "    ax[il].set_xlabel('Year')\n",
    "    \n",
    "plt.tight_layout()\n",
    "plt.show()"
   ]
  },
  {
   "cell_type": "code",
   "execution_count": null,
   "id": "260dc75f",
   "metadata": {},
   "outputs": [],
   "source": [
    "# loop and plot\n",
    "qname = 'FN:'\n",
    "bname = 'total:'\n",
    "qlabel = 'False neg (miss box)'\n",
    "fig, ax = plt.subplots(1,len(LABELS), figsize=(20,8))\n",
    "\n",
    "for il,l in enumerate(LABELS):\n",
    "    counts = pd.Series(index=df['years'],data=np.array(df[qname+l])).resample(sampleHist).sum()\n",
    "    tot = pd.Series(index=df['years'],data=np.array(df[bname+l])).resample(sampleHist).sum()\n",
    "    with np.errstate(invalid='ignore'): # take care of zeros later\n",
    "        quant = pd.Series(index=tot.index,data=np.array(100*counts.values/tot.values))\n",
    "    \n",
    "    quant.plot(kind='bar',ax=ax[il])\n",
    "    ax[il].set_xticklabels([x.strftime(\"%Y\") for x in quant.index], rotation=45)\n",
    "    ax[il].set_title(qlabel+' per total for: ' + l)\n",
    "    ax[il].set_ylabel('% of total that year')\n",
    "    ax[il].set_xlabel('Year')\n",
    "plt.tight_layout()\n",
    "plt.show()"
   ]
  },
  {
   "cell_type": "code",
   "execution_count": null,
   "id": "cd47fd5a",
   "metadata": {},
   "outputs": [],
   "source": [
    "# loop and plot\n",
    "fig, ax = plt.subplots(1,len(LABELS), figsize=(20,8))\n",
    "\n",
    "for il,l in enumerate(LABELS):\n",
    "    p = tp/(tp+fp); \n",
    "    quant = 100*p\n",
    "    \n",
    "    quant.plot(kind='bar',ax=ax[il])\n",
    "    ax[il].set_xticklabels([x.strftime(\"%Y\") for x in quant.index], rotation=45)\n",
    "    ax[il].set_title('Mean Precision each year for: ' + l)\n",
    "    ax[il].set_ylabel('Precision %')\n",
    "    ax[il].set_xlabel('Year')\n",
    "plt.tight_layout()\n",
    "plt.show()"
   ]
  },
  {
   "cell_type": "code",
   "execution_count": null,
   "id": "a18630d2",
   "metadata": {},
   "outputs": [],
   "source": [
    "# loop and plot\n",
    "fig, ax = plt.subplots(1,len(LABELS), figsize=(20,8))\n",
    "\n",
    "for il,l in enumerate(LABELS):\n",
    "    r = tp/(tp+fn)\n",
    "    quant = 100*r\n",
    "    \n",
    "    quant.plot(kind='bar',ax=ax[il])\n",
    "    ax[il].set_xticklabels([x.strftime(\"%Y\") for x in quant.index], rotation=45)\n",
    "    ax[il].set_title('Mean Recall each year for: ' + l)\n",
    "    ax[il].set_ylabel('Precision %')\n",
    "    ax[il].set_xlabel('Year')\n",
    "plt.tight_layout()\n",
    "plt.show()"
   ]
  },
  {
   "cell_type": "markdown",
   "id": "bfc27ede",
   "metadata": {
    "tags": []
   },
   "source": [
    "# Other steps of the post processing process"
   ]
  },
  {
   "cell_type": "markdown",
   "id": "d220097a",
   "metadata": {},
   "source": [
    "Order of comparisons:\n",
    "\n",
    "1. Raw true vs raw found (after non-max suppression is applied)\n",
    "1. If two found boxes overlap with IOU>=0.25, take the one that has the highest score\n",
    "1. Add in PDF-mining boxes to found boxes.  If caption box overlaps with PDF raw box or a PDF figure caption box, use the PDF-mining box (other things happen with tables that we ignore here).\n",
    "1. Merge with heuristically-found figure captions.  Take the top of the heuristically-found box and the min/max of the sides and bottom of heuristic box and mega-yolo found box.\n",
    "1. ~~Add in heuristic-only found captions~~\n",
    "1. Grow found *and* true figure captions by overlap with OCR-found words and paragraphs.  \n",
    "   * **does this make wrong trueboxes??**\n",
    "1. Overlap found figure boxes with image-processing heuristically found boxes -- grow figure boxes by image-processing boxes.\n",
    "1. Take out super big captions -- captions that are 75% of the area of the page.\n",
    "1. Match figure captions with figures.  Figures can exist without captions, captions cannot exist without a figure -- if figure caption has no accompanying caption then drop this figure caption. ~~Preference for mega-yolo found captions, if none found, use heuristic-only found captions.~~\n",
    "1. Expand both true and found figure boxes down to top associated caption boxes (this expands the figure boxes \"vertically\" down).\n",
    "1. For both true and found boxes -- if caption box is horizontally larger than the figure box, expand the figure box horizontally to match width of caption box.\n"
   ]
  },
  {
   "cell_type": "markdown",
   "id": "e492edb5",
   "metadata": {},
   "source": [
    "## Plot how metrics change with steps"
   ]
  },
  {
   "cell_type": "code",
   "execution_count": null,
   "id": "963d924f",
   "metadata": {},
   "outputs": [],
   "source": [
    "iouvec2 = [0.05, 0.1, 0.25, 0.3, 0.4, 0.5, 0.6, 0.7, 0.75, 0.8, 0.85, 0.87, 0.9, 0.91, 0.92, 0.93, 0.94, 0.95]"
   ]
  },
  {
   "cell_type": "code",
   "execution_count": null,
   "id": "f72e5ff5",
   "metadata": {},
   "outputs": [],
   "source": [
    "# order of post-procesings\n",
    "trueboxes = [truebox, #1\n",
    "             truebox, #2\n",
    "             truebox, #3\n",
    "             truebox, #4\n",
    "             #truebox, #5\n",
    "             truebox1, #6\n",
    "             truebox1, #7\n",
    "             truebox1, #8\n",
    "             truebox1, #9\n",
    "             truebox2, #10\n",
    "             truebox3] #11\n",
    "foundboxes = [boxes1,#1\n",
    "              sboxes_cleaned, #2\n",
    "              boxes_pdf, #3\n",
    "              boxes_heur,#4\n",
    "              #boxes_heur2, #5\n",
    "              boxes_par_found, \n",
    "              boxes_sq1, \n",
    "              boxes_sq2, #6 --\n",
    "              boxes_sq3, #6 --\n",
    "              boxes_sq4, #7\n",
    "              boxes_sq5] #8\n",
    "foundlabels=[labels1, \n",
    "             slabels_cleaned,\n",
    "             labels_pdf,\n",
    "             labels_heur,\n",
    "            #labels_heur2,\n",
    "             labels_par_found,\n",
    "             labels_sq1,\n",
    "             labels_sq2,\n",
    "             labels_sq3,\n",
    "             labels_sq4,\n",
    "             labels_sq5]\n",
    "foundscores=[scores1,\n",
    "             sscores_cleaned,\n",
    "             scores_pdf,\n",
    "             scores_heur,\n",
    "            #scores_heur2,\n",
    "             scores_par_found,\n",
    "             scores_sq1,\n",
    "             scores_sq2,\n",
    "             scores_sq3,\n",
    "             scores_sq4,\n",
    "             scores_sq5]"
   ]
  },
  {
   "cell_type": "code",
   "execution_count": null,
   "id": "09831f2d",
   "metadata": {},
   "outputs": [],
   "source": [
    "len(trueboxes), len(foundboxes), len(foundlabels), len(foundscores)"
   ]
  },
  {
   "cell_type": "code",
   "execution_count": null,
   "id": "a0be16af",
   "metadata": {},
   "outputs": [],
   "source": [
    "precsave = []; recsave = []; f1save = []\n",
    "TPsave = []; FPsave = []; FNsave = []\n",
    "ttsave = []\n",
    "\n",
    "if plot_post_proc:\n",
    "    for t,fb,fl,fs in zip(trueboxes, foundboxes, foundlabels, foundscores):\n",
    "        TPs, FPs, FNs, totalTrues = calc_base_metrics_allboxes_cv(LABELS,[scoremin],iouvec2,\n",
    "                                                      t,fb, fl, fs,n_folds_cv=n_folds_cv,seed=5)\n",
    "        # combo metrics\n",
    "        precisions, precision_stds, recalls, \\\n",
    "          recall_stds, f1s, f1_stds = calc_prec_rec_f1_cv(TPs,FPs,FNs,\n",
    "                                                       LABELS,[scoremin],\n",
    "                                                       iouvec2)\n",
    "\n",
    "        TPsave.append(TPs[:,0,:].sum(axis=-1)); FPsave.append(FPs[:,0,:].sum(axis=-1)); FNsave.append(FNs[:,0,:].sum(axis=-1))\n",
    "        ttsave.append(totalTrues[:,:].sum(axis=-1))\n",
    "        precsave.append(precisions[:,0,:]); recsave.append(recalls[:,0,:]); f1save.append(f1s[:,0,:])\n",
    "        #import sys; sys.exit()"
   ]
  },
  {
   "cell_type": "code",
   "execution_count": null,
   "id": "15674309",
   "metadata": {},
   "outputs": [],
   "source": [
    "#labels1\n",
    "if plot_post_proc:\n",
    "    np.array(TPsave).shape, TPs.shape, totalTrues.shape"
   ]
  },
  {
   "cell_type": "code",
   "execution_count": null,
   "id": "ae73516c",
   "metadata": {},
   "outputs": [],
   "source": [
    "n = len(foundboxes)+3\n",
    "colors = plt.cm.jet(np.linspace(0,1,n))\n",
    "ylabels = ['TP','FP','FN','Precision', 'Recall', 'F1']"
   ]
  },
  {
   "cell_type": "code",
   "execution_count": null,
   "id": "79e2295e",
   "metadata": {},
   "outputs": [],
   "source": [
    "lw=5\n",
    "# divide by trues?\n",
    "divide_tt = True\n",
    "# fontsize?\n",
    "plt.rcParams.update({'font.size': 22})\n",
    "\n",
    "if plot_post_proc:\n",
    "    fig, ax = plt.subplots(6,len(LABELS[:2]),figsize=(30,20))\n",
    "    for ip,(p,r,f,tp,fp,fn,tt) in enumerate(zip(precsave,recsave,f1save,TPsave,FPsave,FNsave,ttsave)):\n",
    "        lwh=lw\n",
    "        #lwh=5\n",
    "        #if ip==8: lwh=10\n",
    "        #lwh = 8-ip\n",
    "        for il in range(len(LABELS[:2])):\n",
    "            if not divide_tt:\n",
    "                ax[0][il].plot(iouvec2, tp[il],color=colors[ip],lw=lwh)\n",
    "                ax[1][il].plot(iouvec2, fp[il],color=colors[ip],lw=lwh)\n",
    "                ax[2][il].plot(iouvec2, fn[il],color=colors[ip],lw=lwh)\n",
    "                if il == 0:\n",
    "                    ax[3][il].plot(iouvec2, p[il],color=colors[ip],label=str(ip+1),lw=lwh)\n",
    "                else:\n",
    "                    ax[3][il].plot(iouvec2, p[il],color=colors[ip],lw=lwh)\n",
    "                ax[4][il].plot(iouvec2, r[il],color=colors[ip],lw=lwh)\n",
    "                ax[5][il].plot(iouvec2, f[il],color=colors[ip],lw=lwh)\n",
    "            else:\n",
    "                ax[0][il].plot(iouvec2, tp[il]/tt[il]*100,color=colors[ip],lw=lwh)\n",
    "                ax[1][il].plot(iouvec2, fp[il]/tt[il]*100,color=colors[ip],lw=lwh)\n",
    "                ax[2][il].plot(iouvec2, fn[il]/tt[il]*100,color=colors[ip],lw=lwh)\n",
    "                if il == 0:\n",
    "                    ax[3][il].plot(iouvec2, p[il],color=colors[ip],label=str(ip+1),lw=lwh)\n",
    "                else:\n",
    "                    ax[3][il].plot(iouvec2, p[il],color=colors[ip],lw=lwh)\n",
    "                ax[4][il].plot(iouvec2, r[il],color=colors[ip],lw=lwh)\n",
    "                ax[5][il].plot(iouvec2, f[il],color=colors[ip],lw=lwh)\n",
    "\n",
    "    for k in range(6): \n",
    "        ax[k][0].set_ylabel(ylabels[k])\n",
    "        #for j in range(len(LABELS[:2])):\n",
    "        #    ax[k][j].set_yscale('log')\n",
    "\n",
    "    ax[0][0].set_title('figure')\n",
    "    ax[0][1].set_title('figure caption')\n",
    "    ax[5][0].set_xlabel('IOU')\n",
    "    ax[5][1].set_xlabel('IOU')\n",
    "\n",
    "    fig.legend(loc='center right')\n",
    "    plt.show()"
   ]
  },
  {
   "cell_type": "markdown",
   "id": "b43a8ea5",
   "metadata": {},
   "source": [
    "If you're building up different post-processing steps, check out the ratio of the last two.\n",
    "\n",
    "Negative = drop, positive = increase"
   ]
  },
  {
   "cell_type": "code",
   "execution_count": null,
   "id": "e1f7988b",
   "metadata": {},
   "outputs": [],
   "source": [
    "lw=5\n",
    "# divide by trues?\n",
    "divide_tt = True\n",
    "# fontsize?\n",
    "plt.rcParams.update({'font.size': 30})\n",
    "\n",
    "if plot_post_proc:\n",
    "    fig, ax = plt.subplots(3,len(LABELS[:2]),figsize=(30,10))\n",
    "    for ip,(p,r,f,tp,fp,fn,tt) in enumerate(zip(precsave,recsave,f1save,TPsave,FPsave,FNsave,ttsave)):\n",
    "        lwh=lw\n",
    "        #lwh=5\n",
    "        #if ip==8: lwh=10\n",
    "        #lwh = 8-ip\n",
    "        for il in range(len(LABELS[:2])):\n",
    "            if not divide_tt:\n",
    "    #             ax[0][il].plot(iouvec2, tp[il],color=colors[ip],lw=lwh)\n",
    "    #             ax[1][il].plot(iouvec2, fp[il],color=colors[ip],lw=lwh)\n",
    "    #             ax[2][il].plot(iouvec2, fn[il],color=colors[ip],lw=lwh)\n",
    "                if il == 0:\n",
    "                    ax[0][il].plot(iouvec2, p[il],color=colors[ip],label=str(ip+1),lw=lwh)\n",
    "                else:\n",
    "                    ax[0][il].plot(iouvec2, p[il],color=colors[ip],lw=lwh)\n",
    "                ax[1][il].plot(iouvec2, r[il],color=colors[ip],lw=lwh)\n",
    "                ax[2][il].plot(iouvec2, f[il],color=colors[ip],lw=lwh)\n",
    "            else:\n",
    "    #             ax[0][il].plot(iouvec2, tp[il]/tt[il]*100,color=colors[ip],lw=lwh)\n",
    "    #             ax[1][il].plot(iouvec2, fp[il]/tt[il]*100,color=colors[ip],lw=lwh)\n",
    "    #             ax[2][il].plot(iouvec2, fn[il]/tt[il]*100,color=colors[ip],lw=lwh)\n",
    "                if il == 0:\n",
    "                    ax[0][il].plot(iouvec2, p[il],color=colors[ip],label=str(ip+1),lw=lwh)\n",
    "                else:\n",
    "                    ax[0][il].plot(iouvec2, p[il],color=colors[ip],lw=lwh)\n",
    "                ax[1][il].plot(iouvec2, r[il],color=colors[ip],lw=lwh)\n",
    "                ax[2][il].plot(iouvec2, f[il],color=colors[ip],lw=lwh)\n",
    "\n",
    "    for k in range(3): \n",
    "        ax[k][0].set_ylabel(ylabels[k+3])\n",
    "        #for j in range(len(LABELS[:2])):\n",
    "        #    ax[k][j].set_yscale('log')\n",
    "\n",
    "    ax[0][0].set_title('figure')\n",
    "    ax[0][1].set_title('figure caption')\n",
    "    ax[2][0].set_xlabel('IOU')\n",
    "    ax[2][1].set_xlabel('IOU')\n",
    "\n",
    "    fig.legend(loc='center right')\n",
    "    fig.tight_layout(rect=(0, 0, 0.92, 1))\n",
    "    fig.savefig(config.save_figures_dir + 'post_processing.png')\n",
    "    plt.show()"
   ]
  },
  {
   "cell_type": "code",
   "execution_count": null,
   "id": "46a241c8",
   "metadata": {},
   "outputs": [],
   "source": [
    "#fig.tight_layout?"
   ]
  },
  {
   "cell_type": "markdown",
   "id": "08bee954",
   "metadata": {},
   "source": [
    "## Save to .dat files if requestedsave_figures_dir"
   ]
  },
  {
   "cell_type": "code",
   "execution_count": null,
   "id": "87214985",
   "metadata": {},
   "outputs": [],
   "source": [
    "import os\n",
    "# for final model test\n",
    "#ioustar = [0.1, 0.6, 0.9]\n",
    "#ioustar=[0.9]\n",
    "#ioustar=[0.8]"
   ]
  },
  {
   "cell_type": "code",
   "execution_count": null,
   "id": "23b50c8a",
   "metadata": {},
   "outputs": [],
   "source": [
    "if save_dats:\n",
    "    # save too\n",
    "    out_num_name = binary_dirs.split('/')[0]+adder_dats\n",
    "    num_out_file = config.save_table_dats_dir + out_num_name\n",
    "    #ioumin_per_labels = [0.1, 0.6, 0.8, 0.9, 0.95]\n",
    "    #if out_num_name != 'main':\n",
    "    if not os.path.exists(num_out_file+'/'):\n",
    "        os.makedirs(num_out_file+'/')\n",
    "    ioumin_per_labels = ioustar # just the one for our decisions\n",
    "    num_out_file += '/' + out_num_name\n",
    "    # how many labels to save up to?\n",
    "    lend = 2\n",
    "    \n",
    "    n_cv_here = n_folds_cv\n",
    "    if not use_cv: n_cv_here = 1\n",
    "\n",
    "    # save to file\n",
    "    with open(num_out_file + '_score.dat','w') as fnum:\n",
    "        print(scorestar, file=fnum, end='')\n",
    "    with open(num_out_file + '_ncv.dat','w') as fnum:\n",
    "        print(n_folds_cv, file=fnum, end='')\n",
    "        \n",
    "\n",
    "\n",
    "    TPv, FPv, FNv, totalTruev = calc_base_metrics_allboxes_cv(LABELS,[scorestar],ioustar,\n",
    "                                                  truebox3,boxes_sq5,labels_sq5, \n",
    "                                                  scores_sq5,n_folds_cv=n_cv_here,seed=seed)\n",
    "\n",
    "    precision, precision_std, recall, \\\n",
    "      recall_std, f1, f1_std = calc_prec_rec_f1_cv(TPv,FPv,FNv,\n",
    "                                                   LABELS,[scorestar],\n",
    "                                                   ioustar)\n",
    "\n",
    "\n",
    "    # print out total true\n",
    "    for il,m in enumerate(totalTruev[:lend].sum(axis=-1)):\n",
    "        with open(num_out_file + '_totTrue_'+LABELS[il].replace(' ','_')+'.dat','w') as fnum:\n",
    "            print(int(m), file=fnum, end='')\n",
    "\n",
    "    # and mAP/AP\n",
    "    for il,m in enumerate(aps[:lend]):\n",
    "        with open(num_out_file + '_ap_'+LABELS[il].replace(' ','_')+'.dat','w') as fnum:\n",
    "            print(round(m*100,1), file=fnum, end='')\n",
    "\n",
    "    # print out TP\n",
    "    for ii,iou in enumerate(ioustar):\n",
    "        iouhere = str(iou).replace('.','p')\n",
    "\n",
    "        TP = TPv[:,0,ii,:].sum(axis=-1)\n",
    "        FP = FPv[:,0,ii,:].sum(axis=-1)\n",
    "        FN = FNv[:,0,ii,:].sum(axis=-1)\n",
    "\n",
    "        for il,m in enumerate(TP[:lend]):\n",
    "            dat = str(round(m/totalTrue[il]*100,1))\n",
    "            with open(num_out_file + '_TP_'+LABELS[il].replace(' ','_')+'_iou'+iouhere+'.dat','w') as fnum:\n",
    "                print(dat, file=fnum, end='')\n",
    "\n",
    "        for il,m in enumerate(FP[:lend]):\n",
    "            dat = str(round(m/totalTrue[il]*100,1))\n",
    "            with open(num_out_file + '_FP_'+LABELS[il].replace(' ','_')+'_iou'+iouhere+'.dat','w') as fnum:\n",
    "                print(dat, file=fnum, end='')\n",
    "\n",
    "        for il,m in enumerate(FN[:lend]):\n",
    "            dat = str(round(m/totalTrue[il]*100,1))\n",
    "            with open(num_out_file + '_FN_'+LABELS[il].replace(' ','_')+'_iou'+iouhere+'.dat','w') as fnum:\n",
    "                print(dat, file=fnum, end='')\n",
    "\n",
    "        for il,m in enumerate(LABELS[:lend]):\n",
    "            if use_cv:\n",
    "                dat = str(np.round(precision[il,0,ii],1))+'$\\pm$' +str(np.round(precision_std[il,0,ii],1))\n",
    "            else:\n",
    "                dat = str(np.round(precision[il,0,ii],1))\n",
    "            with open(num_out_file + '_prec_'+LABELS[il].replace(' ','_')+'_iou'+iouhere+'.dat','w') as fnum:\n",
    "                print(dat, file=fnum, end='')\n",
    "\n",
    "        for il,m in enumerate(LABELS[:lend]):\n",
    "            if use_cv:\n",
    "                dat = str(np.round(recall[il,0,ii],1))+'$\\pm$' +str(np.round(recall_std[il,0,ii],1))\n",
    "            else:\n",
    "                dat = str(np.round(recall[il,0,ii],1))\n",
    "            with open(num_out_file + '_rec_'+LABELS[il].replace(' ','_')+'_iou'+iouhere+'.dat','w') as fnum:\n",
    "                print(dat, file=fnum, end='')\n",
    "\n",
    "        for il,m in enumerate(LABELS[:lend]):\n",
    "            if use_cv:\n",
    "                dat = str(np.round(f1[il,0,ii],1))+'$\\pm$' +str(np.round(f1_std[il,0,ii],1))\n",
    "            else:\n",
    "                dat = str(np.round(f1[il,0,ii],1))                \n",
    "            with open(num_out_file + '_f1_'+LABELS[il].replace(' ','_')+'_iou'+iouhere+'.dat','w') as fnum:\n",
    "                print(dat, file=fnum, end='')\n"
   ]
  },
  {
   "cell_type": "code",
   "execution_count": null,
   "id": "8b7795c8",
   "metadata": {},
   "outputs": [],
   "source": [
    "binary_dirs"
   ]
  },
  {
   "cell_type": "code",
   "execution_count": null,
   "id": "6f515cc4",
   "metadata": {},
   "outputs": [],
   "source": [
    "#aps\n",
    "import os"
   ]
  },
  {
   "cell_type": "code",
   "execution_count": null,
   "id": "60f3188e-8c2a-49d7-a70c-8e9f31d6e47b",
   "metadata": {},
   "outputs": [],
   "source": [
    "adder_dats2 = 'nopost'\n",
    "\n",
    "if save_dats and save_no_post_proc:\n",
    "    # save too\n",
    "    out_num_name = adder_dats2\n",
    "    num_out_file = config.save_table_dats_dir + out_num_name\n",
    "    #ioumin_per_labels = [0.1, 0.6, 0.8, 0.9, 0.95]\n",
    "    #if out_num_name != 'main':\n",
    "    if not os.path.exists(num_out_file+'/'):\n",
    "        os.makedirs(num_out_file+'/')\n",
    "    ioumin_per_labels = ioustar # just the one for our decisions\n",
    "    num_out_file += '/' + out_num_name\n",
    "    # how many labels to save up to?\n",
    "    lend = 2\n",
    "\n",
    "    # save to file\n",
    "    with open(num_out_file + '_score.dat','w') as fnum:\n",
    "        print(scorestar, file=fnum, end='')\n",
    "    with open(num_out_file + '_ncv.dat','w') as fnum:\n",
    "        print(n_folds_cv, file=fnum, end='')\n",
    "\n",
    "    TPv, FPv, FNv, totalTruev = calc_base_metrics_allboxes_cv(LABELS,[scorestar],ioustar,\n",
    "                                                  truebox,boxes1,labels1, \n",
    "                                               scores1,n_folds_cv=n_folds_cv,\n",
    "                                                             seed=seed)\n",
    "\n",
    "    precision, precision_std, recall, \\\n",
    "      recall_std, f1, f1_std = calc_prec_rec_f1_cv(TPv,FPv,FNv,\n",
    "                                                   LABELS,[scorestar],\n",
    "                                                   ioustar)\n",
    "\n",
    "\n",
    "    # print out total true\n",
    "    for il,m in enumerate(totalTruev[:lend].sum(axis=-1)):\n",
    "        with open(num_out_file + '_totTrue_'+LABELS[il].replace(' ','_')+'.dat','w') as fnum:\n",
    "            print(int(m), file=fnum, end='')\n",
    "\n",
    "    # print out TP\n",
    "    for ii,iou in enumerate(ioustar):\n",
    "        iouhere = str(iou).replace('.','p')\n",
    "\n",
    "        TP = TPv[:,0,ii,:].sum(axis=-1)\n",
    "        FP = FPv[:,0,ii,:].sum(axis=-1)\n",
    "        FN = FNv[:,0,ii,:].sum(axis=-1)\n",
    "\n",
    "        for il,m in enumerate(TP[:lend]):\n",
    "            dat = str(round(m/totalTrue[il]*100,1))\n",
    "            with open(num_out_file + '_TP_'+LABELS[il].replace(' ','_')+'_iou'+iouhere+'.dat','w') as fnum:\n",
    "                print(dat, file=fnum, end='')\n",
    "\n",
    "        for il,m in enumerate(FP[:lend]):\n",
    "            dat = str(round(m/totalTrue[il]*100,1))\n",
    "            with open(num_out_file + '_FP_'+LABELS[il].replace(' ','_')+'_iou'+iouhere+'.dat','w') as fnum:\n",
    "                print(dat, file=fnum, end='')\n",
    "\n",
    "        for il,m in enumerate(FN[:lend]):\n",
    "            dat = str(round(m/totalTrue[il]*100,1))\n",
    "            with open(num_out_file + '_FN_'+LABELS[il].replace(' ','_')+'_iou'+iouhere+'.dat','w') as fnum:\n",
    "                print(dat, file=fnum, end='')\n",
    "\n",
    "        for il,m in enumerate(LABELS[:lend]):\n",
    "            dat = str(np.round(precision[il,0,ii],1))+'$\\pm$' +str(np.round(precision_std[il,0,ii],1))\n",
    "            with open(num_out_file + '_prec_'+LABELS[il].replace(' ','_')+'_iou'+iouhere+'.dat','w') as fnum:\n",
    "                print(dat, file=fnum, end='')\n",
    "\n",
    "        for il,m in enumerate(LABELS[:lend]):\n",
    "            dat = str(np.round(recall[il,0,ii],1))+'$\\pm$' +str(np.round(recall_std[il,0,ii],1))\n",
    "            with open(num_out_file + '_rec_'+LABELS[il].replace(' ','_')+'_iou'+iouhere+'.dat','w') as fnum:\n",
    "                print(dat, file=fnum, end='')\n",
    "\n",
    "        for il,m in enumerate(LABELS[:lend]):\n",
    "            dat = str(np.round(f1[il,0,ii],1))+'$\\pm$' +str(np.round(f1_std[il,0,ii],1))\n",
    "            with open(num_out_file + '_f1_'+LABELS[il].replace(' ','_')+'_iou'+iouhere+'.dat','w') as fnum:\n",
    "                print(dat, file=fnum, end='')"
   ]
  },
  {
   "cell_type": "code",
   "execution_count": null,
   "id": "d8f95c18-b810-417f-8314-28ca65e35802",
   "metadata": {},
   "outputs": [],
   "source": []
  },
  {
   "cell_type": "code",
   "execution_count": null,
   "id": "339aad94-7634-4323-8d73-12154a346b9d",
   "metadata": {},
   "outputs": [],
   "source": []
  },
  {
   "cell_type": "code",
   "execution_count": null,
   "id": "3d3aa490-583c-4411-9983-82d44960f930",
   "metadata": {},
   "outputs": [],
   "source": []
  },
  {
   "cell_type": "code",
   "execution_count": 36,
   "id": "6db8aa3d-b3d8-4bfa-8bdc-c2413691654e",
   "metadata": {},
   "outputs": [],
   "source": [
    "# # quick thing to copy images to upload\n",
    "# copyto = '/Users/jillnaiman/Downloads/tmp/test_touploaad/'\n",
    "# copyfrom = config.images_jpeg_dir\n",
    "# #print(imgs_name)\n",
    "# import shutil\n",
    "# for f in imgs_name:\n",
    "#     fin = copyfrom+f.split('/')[-1].rstrip('.npz') + '.jpeg'\n",
    "#     fout = copyto+f.split('/')[-1].rstrip('.npz') + '.jpeg'\n",
    "#     #print(fout)\n",
    "#     shutil.copyfile(fin,fout)"
   ]
  },
  {
   "cell_type": "code",
   "execution_count": null,
   "id": "392654b9-71db-4923-a0bf-39ba7b47472b",
   "metadata": {},
   "outputs": [],
   "source": []
  }
 ],
 "metadata": {
  "kernelspec": {
   "display_name": "Python 3 (ipykernel)",
   "language": "python",
   "name": "python3"
  },
  "language_info": {
   "codemirror_mode": {
    "name": "ipython",
    "version": 3
   },
   "file_extension": ".py",
   "mimetype": "text/x-python",
   "name": "python",
   "nbconvert_exporter": "python",
   "pygments_lexer": "ipython3",
   "version": "3.7.12"
  }
 },
 "nbformat": 4,
 "nbformat_minor": 5
}
